{
 "cells": [
  {
   "cell_type": "markdown",
   "metadata": {},
   "source": [
    "# Workshop on Spatial Analysis of Twitter"
   ]
  },
  {
   "cell_type": "markdown",
   "metadata": {},
   "source": [
    "This workshop demonstrates the process of acquiring Twitter data using the search API and conduct simple spatial analyses on the data.\n",
    "\n",
    "This workshop requires Anaconda3 (64-bit Python 3.7) installed in your computer.\n",
    "\n",
    "You can access to this website from https://bit.ly/2GQ13hl"
   ]
  },
  {
   "cell_type": "markdown",
   "metadata": {},
   "source": [
    "## 1. Preparation"
   ]
  },
  {
   "cell_type": "markdown",
   "metadata": {},
   "source": [
    "Install packages needed for this workshop."
   ]
  },
  {
   "cell_type": "code",
   "execution_count": 1,
   "metadata": {},
   "outputs": [
    {
     "name": "stdout",
     "output_type": "stream",
     "text": [
      "Requirement already satisfied: tweepy in c:\\programdata\\anaconda3\\lib\\site-packages (3.7.0)\n",
      "Requirement already satisfied: six>=1.10.0 in c:\\users\\yi\\appdata\\roaming\\python\\python37\\site-packages (from tweepy) (1.12.0)\n",
      "Requirement already satisfied: requests-oauthlib>=0.7.0 in c:\\programdata\\anaconda3\\lib\\site-packages (from tweepy) (1.2.0)\n",
      "Requirement already satisfied: PySocks>=1.5.7 in c:\\programdata\\anaconda3\\lib\\site-packages (from tweepy) (1.6.8)\n",
      "Requirement already satisfied: requests>=2.11.1 in c:\\programdata\\anaconda3\\lib\\site-packages (from tweepy) (2.21.0)\n",
      "Requirement already satisfied: oauthlib>=3.0.0 in c:\\programdata\\anaconda3\\lib\\site-packages (from requests-oauthlib>=0.7.0->tweepy) (3.0.1)\n",
      "Requirement already satisfied: chardet<3.1.0,>=3.0.2 in c:\\programdata\\anaconda3\\lib\\site-packages (from requests>=2.11.1->tweepy) (3.0.4)\n",
      "Requirement already satisfied: certifi>=2017.4.17 in c:\\programdata\\anaconda3\\lib\\site-packages (from requests>=2.11.1->tweepy) (2019.3.9)\n",
      "Requirement already satisfied: urllib3<1.25,>=1.21.1 in c:\\programdata\\anaconda3\\lib\\site-packages (from requests>=2.11.1->tweepy) (1.24.1)\n",
      "Requirement already satisfied: idna<2.9,>=2.5 in c:\\programdata\\anaconda3\\lib\\site-packages (from requests>=2.11.1->tweepy) (2.8)\n"
     ]
    }
   ],
   "source": [
    "!pip install tweepy"
   ]
  },
  {
   "cell_type": "code",
   "execution_count": 2,
   "metadata": {},
   "outputs": [
    {
     "name": "stdout",
     "output_type": "stream",
     "text": [
      "Requirement already satisfied: folium in c:\\programdata\\anaconda3\\lib\\site-packages (0.8.3)\n",
      "Requirement already satisfied: branca>=0.3.0 in c:\\programdata\\anaconda3\\lib\\site-packages (from folium) (0.3.1)\n",
      "Requirement already satisfied: requests in c:\\programdata\\anaconda3\\lib\\site-packages (from folium) (2.21.0)\n",
      "Requirement already satisfied: jinja2 in c:\\programdata\\anaconda3\\lib\\site-packages (from folium) (2.10)\n",
      "Requirement already satisfied: numpy in c:\\users\\yi\\appdata\\roaming\\python\\python37\\site-packages (from folium) (1.16.3)\n",
      "Requirement already satisfied: six in c:\\users\\yi\\appdata\\roaming\\python\\python37\\site-packages (from folium) (1.12.0)\n",
      "Requirement already satisfied: certifi>=2017.4.17 in c:\\programdata\\anaconda3\\lib\\site-packages (from requests->folium) (2019.3.9)\n",
      "Requirement already satisfied: urllib3<1.25,>=1.21.1 in c:\\programdata\\anaconda3\\lib\\site-packages (from requests->folium) (1.24.1)\n",
      "Requirement already satisfied: idna<2.9,>=2.5 in c:\\programdata\\anaconda3\\lib\\site-packages (from requests->folium) (2.8)\n",
      "Requirement already satisfied: chardet<3.1.0,>=3.0.2 in c:\\programdata\\anaconda3\\lib\\site-packages (from requests->folium) (3.0.4)\n",
      "Requirement already satisfied: MarkupSafe>=0.23 in c:\\programdata\\anaconda3\\lib\\site-packages (from jinja2->folium) (1.1.0)\n"
     ]
    }
   ],
   "source": [
    "!pip install folium"
   ]
  },
  {
   "cell_type": "markdown",
   "metadata": {},
   "source": [
    "Import packages needed for this tutorial"
   ]
  },
  {
   "cell_type": "code",
   "execution_count": 3,
   "metadata": {},
   "outputs": [],
   "source": [
    "# Run the following lines if there is an error loading basemap\n",
    "#import os\n",
    "#os.environ['PROJ_LIB'] = '~your anaconda 3 path/Anaconda3/Library/share/'\n",
    "\n",
    "import tweepy\n",
    "import pandas as pd\n",
    "#from mpl_toolkits.basemap import Basemap\n",
    "import matplotlib.pyplot as plt"
   ]
  },
  {
   "cell_type": "markdown",
   "metadata": {},
   "source": [
    "Go to this website for generating an App and get its keys and token: https://developer.twitter.com/en/apps"
   ]
  },
  {
   "cell_type": "markdown",
   "metadata": {},
   "source": [
    "**Note:** The following keys have been disabled after the class. Please use your own keys when your application is approved.\n",
    "\n",
    "You may receive an email from Twitter asking the purpose of your use. You can write a short paragraph to describe what you will do with the API keys. It will be approved shortly."
   ]
  },
  {
   "cell_type": "code",
   "execution_count": 21,
   "metadata": {},
   "outputs": [],
   "source": [
    "# paste your key and secret here.\n",
    "consumer_key= 'DbNolw3zWbqbysVrXE3NQgW4c'\n",
    "consumer_secret= 'VjXW5mYOPl4mF1uaJjplan3vq0lAvGLxxkQePCrdwvEBzDY4TN'\n",
    "access_token= '138517960-vv5ZJ4jV9JTKRhAJxxr42MmzpVmRIFA7iH0NL4q0'\n",
    "access_token_secret= 'uLfxawQsQg9GLuHdrHFZEleRc5rZn3JYpEigGkG9CEEzx'"
   ]
  },
  {
   "cell_type": "code",
   "execution_count": 22,
   "metadata": {},
   "outputs": [],
   "source": [
    "# Set up for Twitter authentication\n",
    "auth = tweepy.OAuthHandler(consumer_key, consumer_secret)\n",
    "auth.set_access_token(access_token, access_token_secret)"
   ]
  },
  {
   "cell_type": "code",
   "execution_count": 23,
   "metadata": {},
   "outputs": [],
   "source": [
    "# Set up tweepy API and set rate limit to be true\n",
    "api = tweepy.API(auth, wait_on_rate_limit=True)"
   ]
  },
  {
   "cell_type": "markdown",
   "metadata": {},
   "source": [
    "---"
   ]
  },
  {
   "cell_type": "markdown",
   "metadata": {},
   "source": [
    "## 2. Programmatic Manipulation of Twitter\n",
    "\n",
    "Now, your working environment is ready for Twitter analysis.\n",
    "\n",
    "Let's first try a few simple operations in Twitter in a programmatic way.\n",
    "\n",
    "The full functionalities of Twitter API and Tweepy can be found in:\n",
    "\n",
    "- [Twitter APIs](https://developer.twitter.com/en/docs.html)\n",
    "- [Tweepy documentation](http://docs.tweepy.org/en/v3.5.0/)"
   ]
  },
  {
   "cell_type": "markdown",
   "metadata": {},
   "source": [
    "First, let's post a message in Twitter.\n",
    "\n",
    "**Note**: if you don't want to disturb with your followers with a meanless tweet, don't run the following block of code."
   ]
  },
  {
   "cell_type": "code",
   "execution_count": null,
   "metadata": {},
   "outputs": [],
   "source": [
    "# Post a tweet from Python\n",
    "test_tweet = api.update_status(\"DRILL: I'm creating a robot to tweet\")"
   ]
  },
  {
   "cell_type": "markdown",
   "metadata": {},
   "source": [
    "Delete the tweet you just posted."
   ]
  },
  {
   "cell_type": "code",
   "execution_count": null,
   "metadata": {},
   "outputs": [],
   "source": [
    "api.destroy_status(test_tweet.id_str)"
   ]
  },
  {
   "cell_type": "markdown",
   "metadata": {},
   "source": [
    "### 2.1 Get the first 100 retweets of a tweet"
   ]
  },
  {
   "cell_type": "markdown",
   "metadata": {},
   "source": [
    "You can get the tweet ID from the address box of a browser when you click into a tweet."
   ]
  },
  {
   "cell_type": "markdown",
   "metadata": {},
   "source": [
    "<img src='images/fig19.jpg' align='left' width='400'>"
   ]
  },
  {
   "cell_type": "markdown",
   "metadata": {},
   "source": [
    "Get the first 10 retweets of the tweet."
   ]
  },
  {
   "cell_type": "code",
   "execution_count": 24,
   "metadata": {
    "scrolled": true
   },
   "outputs": [],
   "source": [
    "retweets_workshop = api.retweets(1122963268996354049,10)"
   ]
  },
  {
   "cell_type": "markdown",
   "metadata": {},
   "source": [
    "Get the username of the first retweet of the tweet"
   ]
  },
  {
   "cell_type": "code",
   "execution_count": 25,
   "metadata": {},
   "outputs": [
    {
     "data": {
      "text/plain": [
       "'Reece Jones'"
      ]
     },
     "execution_count": 25,
     "metadata": {},
     "output_type": "execute_result"
    }
   ],
   "source": [
    "retweets_workshop[0]._json['user']['name']"
   ]
  },
  {
   "cell_type": "markdown",
   "metadata": {},
   "source": [
    "Print usernames, names, and user locations of all retweets of the tweet.\n",
    "\n",
    "Note: Twitter API can only return the first 100 retweets."
   ]
  },
  {
   "cell_type": "code",
   "execution_count": 26,
   "metadata": {},
   "outputs": [
    {
     "data": {
      "text/plain": [
       "[['reecejhawaii', 'Reece Jones', 'Honolulu, HI'],\n",
       " ['Jinwen_X', 'Jinwen Xu', 'Honolulu, HI'],\n",
       " ['yiqiang_gis', 'Yi Qiang', 'Honolulu, HI']]"
      ]
     },
     "execution_count": 26,
     "metadata": {},
     "output_type": "execute_result"
    }
   ],
   "source": [
    "[[tweet.user.screen_name, tweet.user.name, tweet.user.location] for tweet in retweets_workshop]"
   ]
  },
  {
   "cell_type": "markdown",
   "metadata": {},
   "source": [
    "### 2.2 Current trends in the world"
   ]
  },
  {
   "cell_type": "markdown",
   "metadata": {},
   "source": [
    "Get the list of cities where trends are available"
   ]
  },
  {
   "cell_type": "code",
   "execution_count": 27,
   "metadata": {},
   "outputs": [],
   "source": [
    "city_ls = api.trends_available()"
   ]
  },
  {
   "cell_type": "markdown",
   "metadata": {},
   "source": [
    "Convert the list (in JSON format) into a dataframe (i.e. a table)."
   ]
  },
  {
   "cell_type": "code",
   "execution_count": 28,
   "metadata": {},
   "outputs": [],
   "source": [
    "df_city = pd.DataFrame(city_ls)"
   ]
  },
  {
   "cell_type": "markdown",
   "metadata": {},
   "source": [
    "Print a sub-list (20 of the 467) of cities where trends are available"
   ]
  },
  {
   "cell_type": "code",
   "execution_count": 29,
   "metadata": {},
   "outputs": [
    {
     "data": {
      "text/html": [
       "<div>\n",
       "<style scoped>\n",
       "    .dataframe tbody tr th:only-of-type {\n",
       "        vertical-align: middle;\n",
       "    }\n",
       "\n",
       "    .dataframe tbody tr th {\n",
       "        vertical-align: top;\n",
       "    }\n",
       "\n",
       "    .dataframe thead th {\n",
       "        text-align: right;\n",
       "    }\n",
       "</style>\n",
       "<table border=\"1\" class=\"dataframe\">\n",
       "  <thead>\n",
       "    <tr style=\"text-align: right;\">\n",
       "      <th></th>\n",
       "      <th>country</th>\n",
       "      <th>countryCode</th>\n",
       "      <th>name</th>\n",
       "      <th>parentid</th>\n",
       "      <th>placeType</th>\n",
       "      <th>url</th>\n",
       "      <th>woeid</th>\n",
       "    </tr>\n",
       "  </thead>\n",
       "  <tbody>\n",
       "    <tr>\n",
       "      <th>0</th>\n",
       "      <td></td>\n",
       "      <td>None</td>\n",
       "      <td>Worldwide</td>\n",
       "      <td>0</td>\n",
       "      <td>{'code': 19, 'name': 'Supername'}</td>\n",
       "      <td>http://where.yahooapis.com/v1/place/1</td>\n",
       "      <td>1</td>\n",
       "    </tr>\n",
       "    <tr>\n",
       "      <th>1</th>\n",
       "      <td>Canada</td>\n",
       "      <td>CA</td>\n",
       "      <td>Winnipeg</td>\n",
       "      <td>23424775</td>\n",
       "      <td>{'code': 7, 'name': 'Town'}</td>\n",
       "      <td>http://where.yahooapis.com/v1/place/2972</td>\n",
       "      <td>2972</td>\n",
       "    </tr>\n",
       "    <tr>\n",
       "      <th>2</th>\n",
       "      <td>Canada</td>\n",
       "      <td>CA</td>\n",
       "      <td>Ottawa</td>\n",
       "      <td>23424775</td>\n",
       "      <td>{'code': 7, 'name': 'Town'}</td>\n",
       "      <td>http://where.yahooapis.com/v1/place/3369</td>\n",
       "      <td>3369</td>\n",
       "    </tr>\n",
       "    <tr>\n",
       "      <th>3</th>\n",
       "      <td>Canada</td>\n",
       "      <td>CA</td>\n",
       "      <td>Quebec</td>\n",
       "      <td>23424775</td>\n",
       "      <td>{'code': 7, 'name': 'Town'}</td>\n",
       "      <td>http://where.yahooapis.com/v1/place/3444</td>\n",
       "      <td>3444</td>\n",
       "    </tr>\n",
       "    <tr>\n",
       "      <th>4</th>\n",
       "      <td>Canada</td>\n",
       "      <td>CA</td>\n",
       "      <td>Montreal</td>\n",
       "      <td>23424775</td>\n",
       "      <td>{'code': 7, 'name': 'Town'}</td>\n",
       "      <td>http://where.yahooapis.com/v1/place/3534</td>\n",
       "      <td>3534</td>\n",
       "    </tr>\n",
       "    <tr>\n",
       "      <th>5</th>\n",
       "      <td>Canada</td>\n",
       "      <td>CA</td>\n",
       "      <td>Toronto</td>\n",
       "      <td>23424775</td>\n",
       "      <td>{'code': 7, 'name': 'Town'}</td>\n",
       "      <td>http://where.yahooapis.com/v1/place/4118</td>\n",
       "      <td>4118</td>\n",
       "    </tr>\n",
       "    <tr>\n",
       "      <th>6</th>\n",
       "      <td>Canada</td>\n",
       "      <td>CA</td>\n",
       "      <td>Edmonton</td>\n",
       "      <td>23424775</td>\n",
       "      <td>{'code': 7, 'name': 'Town'}</td>\n",
       "      <td>http://where.yahooapis.com/v1/place/8676</td>\n",
       "      <td>8676</td>\n",
       "    </tr>\n",
       "    <tr>\n",
       "      <th>7</th>\n",
       "      <td>Canada</td>\n",
       "      <td>CA</td>\n",
       "      <td>Calgary</td>\n",
       "      <td>23424775</td>\n",
       "      <td>{'code': 7, 'name': 'Town'}</td>\n",
       "      <td>http://where.yahooapis.com/v1/place/8775</td>\n",
       "      <td>8775</td>\n",
       "    </tr>\n",
       "    <tr>\n",
       "      <th>8</th>\n",
       "      <td>Canada</td>\n",
       "      <td>CA</td>\n",
       "      <td>Vancouver</td>\n",
       "      <td>23424775</td>\n",
       "      <td>{'code': 7, 'name': 'Town'}</td>\n",
       "      <td>http://where.yahooapis.com/v1/place/9807</td>\n",
       "      <td>9807</td>\n",
       "    </tr>\n",
       "    <tr>\n",
       "      <th>9</th>\n",
       "      <td>United Kingdom</td>\n",
       "      <td>GB</td>\n",
       "      <td>Birmingham</td>\n",
       "      <td>23424975</td>\n",
       "      <td>{'code': 7, 'name': 'Town'}</td>\n",
       "      <td>http://where.yahooapis.com/v1/place/12723</td>\n",
       "      <td>12723</td>\n",
       "    </tr>\n",
       "    <tr>\n",
       "      <th>10</th>\n",
       "      <td>United Kingdom</td>\n",
       "      <td>GB</td>\n",
       "      <td>Blackpool</td>\n",
       "      <td>23424975</td>\n",
       "      <td>{'code': 7, 'name': 'Town'}</td>\n",
       "      <td>http://where.yahooapis.com/v1/place/12903</td>\n",
       "      <td>12903</td>\n",
       "    </tr>\n",
       "    <tr>\n",
       "      <th>11</th>\n",
       "      <td>United Kingdom</td>\n",
       "      <td>GB</td>\n",
       "      <td>Bournemouth</td>\n",
       "      <td>23424975</td>\n",
       "      <td>{'code': 7, 'name': 'Town'}</td>\n",
       "      <td>http://where.yahooapis.com/v1/place/13383</td>\n",
       "      <td>13383</td>\n",
       "    </tr>\n",
       "    <tr>\n",
       "      <th>12</th>\n",
       "      <td>United Kingdom</td>\n",
       "      <td>GB</td>\n",
       "      <td>Brighton</td>\n",
       "      <td>23424975</td>\n",
       "      <td>{'code': 7, 'name': 'Town'}</td>\n",
       "      <td>http://where.yahooapis.com/v1/place/13911</td>\n",
       "      <td>13911</td>\n",
       "    </tr>\n",
       "    <tr>\n",
       "      <th>13</th>\n",
       "      <td>United Kingdom</td>\n",
       "      <td>GB</td>\n",
       "      <td>Bristol</td>\n",
       "      <td>23424975</td>\n",
       "      <td>{'code': 7, 'name': 'Town'}</td>\n",
       "      <td>http://where.yahooapis.com/v1/place/13963</td>\n",
       "      <td>13963</td>\n",
       "    </tr>\n",
       "    <tr>\n",
       "      <th>14</th>\n",
       "      <td>United Kingdom</td>\n",
       "      <td>GB</td>\n",
       "      <td>Cardiff</td>\n",
       "      <td>23424975</td>\n",
       "      <td>{'code': 7, 'name': 'Town'}</td>\n",
       "      <td>http://where.yahooapis.com/v1/place/15127</td>\n",
       "      <td>15127</td>\n",
       "    </tr>\n",
       "    <tr>\n",
       "      <th>15</th>\n",
       "      <td>United Kingdom</td>\n",
       "      <td>GB</td>\n",
       "      <td>Coventry</td>\n",
       "      <td>23424975</td>\n",
       "      <td>{'code': 7, 'name': 'Town'}</td>\n",
       "      <td>http://where.yahooapis.com/v1/place/17044</td>\n",
       "      <td>17044</td>\n",
       "    </tr>\n",
       "    <tr>\n",
       "      <th>16</th>\n",
       "      <td>United Kingdom</td>\n",
       "      <td>GB</td>\n",
       "      <td>Derby</td>\n",
       "      <td>23424975</td>\n",
       "      <td>{'code': 7, 'name': 'Town'}</td>\n",
       "      <td>http://where.yahooapis.com/v1/place/18114</td>\n",
       "      <td>18114</td>\n",
       "    </tr>\n",
       "    <tr>\n",
       "      <th>17</th>\n",
       "      <td>United Kingdom</td>\n",
       "      <td>GB</td>\n",
       "      <td>Edinburgh</td>\n",
       "      <td>23424975</td>\n",
       "      <td>{'code': 7, 'name': 'Town'}</td>\n",
       "      <td>http://where.yahooapis.com/v1/place/19344</td>\n",
       "      <td>19344</td>\n",
       "    </tr>\n",
       "    <tr>\n",
       "      <th>18</th>\n",
       "      <td>United Kingdom</td>\n",
       "      <td>GB</td>\n",
       "      <td>Glasgow</td>\n",
       "      <td>23424975</td>\n",
       "      <td>{'code': 7, 'name': 'Town'}</td>\n",
       "      <td>http://where.yahooapis.com/v1/place/21125</td>\n",
       "      <td>21125</td>\n",
       "    </tr>\n",
       "    <tr>\n",
       "      <th>19</th>\n",
       "      <td>United Kingdom</td>\n",
       "      <td>GB</td>\n",
       "      <td>Hull</td>\n",
       "      <td>23424975</td>\n",
       "      <td>{'code': 7, 'name': 'Town'}</td>\n",
       "      <td>http://where.yahooapis.com/v1/place/25211</td>\n",
       "      <td>25211</td>\n",
       "    </tr>\n",
       "  </tbody>\n",
       "</table>\n",
       "</div>"
      ],
      "text/plain": [
       "           country countryCode         name  parentid  \\\n",
       "0                         None    Worldwide         0   \n",
       "1           Canada          CA     Winnipeg  23424775   \n",
       "2           Canada          CA       Ottawa  23424775   \n",
       "3           Canada          CA       Quebec  23424775   \n",
       "4           Canada          CA     Montreal  23424775   \n",
       "5           Canada          CA      Toronto  23424775   \n",
       "6           Canada          CA     Edmonton  23424775   \n",
       "7           Canada          CA      Calgary  23424775   \n",
       "8           Canada          CA    Vancouver  23424775   \n",
       "9   United Kingdom          GB   Birmingham  23424975   \n",
       "10  United Kingdom          GB    Blackpool  23424975   \n",
       "11  United Kingdom          GB  Bournemouth  23424975   \n",
       "12  United Kingdom          GB     Brighton  23424975   \n",
       "13  United Kingdom          GB      Bristol  23424975   \n",
       "14  United Kingdom          GB      Cardiff  23424975   \n",
       "15  United Kingdom          GB     Coventry  23424975   \n",
       "16  United Kingdom          GB        Derby  23424975   \n",
       "17  United Kingdom          GB    Edinburgh  23424975   \n",
       "18  United Kingdom          GB      Glasgow  23424975   \n",
       "19  United Kingdom          GB         Hull  23424975   \n",
       "\n",
       "                            placeType  \\\n",
       "0   {'code': 19, 'name': 'Supername'}   \n",
       "1         {'code': 7, 'name': 'Town'}   \n",
       "2         {'code': 7, 'name': 'Town'}   \n",
       "3         {'code': 7, 'name': 'Town'}   \n",
       "4         {'code': 7, 'name': 'Town'}   \n",
       "5         {'code': 7, 'name': 'Town'}   \n",
       "6         {'code': 7, 'name': 'Town'}   \n",
       "7         {'code': 7, 'name': 'Town'}   \n",
       "8         {'code': 7, 'name': 'Town'}   \n",
       "9         {'code': 7, 'name': 'Town'}   \n",
       "10        {'code': 7, 'name': 'Town'}   \n",
       "11        {'code': 7, 'name': 'Town'}   \n",
       "12        {'code': 7, 'name': 'Town'}   \n",
       "13        {'code': 7, 'name': 'Town'}   \n",
       "14        {'code': 7, 'name': 'Town'}   \n",
       "15        {'code': 7, 'name': 'Town'}   \n",
       "16        {'code': 7, 'name': 'Town'}   \n",
       "17        {'code': 7, 'name': 'Town'}   \n",
       "18        {'code': 7, 'name': 'Town'}   \n",
       "19        {'code': 7, 'name': 'Town'}   \n",
       "\n",
       "                                          url  woeid  \n",
       "0       http://where.yahooapis.com/v1/place/1      1  \n",
       "1    http://where.yahooapis.com/v1/place/2972   2972  \n",
       "2    http://where.yahooapis.com/v1/place/3369   3369  \n",
       "3    http://where.yahooapis.com/v1/place/3444   3444  \n",
       "4    http://where.yahooapis.com/v1/place/3534   3534  \n",
       "5    http://where.yahooapis.com/v1/place/4118   4118  \n",
       "6    http://where.yahooapis.com/v1/place/8676   8676  \n",
       "7    http://where.yahooapis.com/v1/place/8775   8775  \n",
       "8    http://where.yahooapis.com/v1/place/9807   9807  \n",
       "9   http://where.yahooapis.com/v1/place/12723  12723  \n",
       "10  http://where.yahooapis.com/v1/place/12903  12903  \n",
       "11  http://where.yahooapis.com/v1/place/13383  13383  \n",
       "12  http://where.yahooapis.com/v1/place/13911  13911  \n",
       "13  http://where.yahooapis.com/v1/place/13963  13963  \n",
       "14  http://where.yahooapis.com/v1/place/15127  15127  \n",
       "15  http://where.yahooapis.com/v1/place/17044  17044  \n",
       "16  http://where.yahooapis.com/v1/place/18114  18114  \n",
       "17  http://where.yahooapis.com/v1/place/19344  19344  \n",
       "18  http://where.yahooapis.com/v1/place/21125  21125  \n",
       "19  http://where.yahooapis.com/v1/place/25211  25211  "
      ]
     },
     "execution_count": 29,
     "metadata": {},
     "output_type": "execute_result"
    }
   ],
   "source": [
    "df_city.head(20)"
   ]
  },
  {
   "cell_type": "code",
   "execution_count": 30,
   "metadata": {},
   "outputs": [
    {
     "data": {
      "text/plain": [
       "467"
      ]
     },
     "execution_count": 30,
     "metadata": {},
     "output_type": "execute_result"
    }
   ],
   "source": [
    "len(df_city)"
   ]
  },
  {
   "cell_type": "markdown",
   "metadata": {},
   "source": [
    "Get the trends in San Francisco"
   ]
  },
  {
   "cell_type": "code",
   "execution_count": 31,
   "metadata": {},
   "outputs": [
    {
     "data": {
      "text/html": [
       "<div>\n",
       "<style scoped>\n",
       "    .dataframe tbody tr th:only-of-type {\n",
       "        vertical-align: middle;\n",
       "    }\n",
       "\n",
       "    .dataframe tbody tr th {\n",
       "        vertical-align: top;\n",
       "    }\n",
       "\n",
       "    .dataframe thead th {\n",
       "        text-align: right;\n",
       "    }\n",
       "</style>\n",
       "<table border=\"1\" class=\"dataframe\">\n",
       "  <thead>\n",
       "    <tr style=\"text-align: right;\">\n",
       "      <th></th>\n",
       "      <th>country</th>\n",
       "      <th>countryCode</th>\n",
       "      <th>name</th>\n",
       "      <th>parentid</th>\n",
       "      <th>placeType</th>\n",
       "      <th>url</th>\n",
       "      <th>woeid</th>\n",
       "    </tr>\n",
       "  </thead>\n",
       "  <tbody>\n",
       "    <tr>\n",
       "      <th>390</th>\n",
       "      <td>United States</td>\n",
       "      <td>US</td>\n",
       "      <td>San Francisco</td>\n",
       "      <td>23424977</td>\n",
       "      <td>{'code': 7, 'name': 'Town'}</td>\n",
       "      <td>http://where.yahooapis.com/v1/place/2487956</td>\n",
       "      <td>2487956</td>\n",
       "    </tr>\n",
       "  </tbody>\n",
       "</table>\n",
       "</div>"
      ],
      "text/plain": [
       "           country countryCode           name  parentid  \\\n",
       "390  United States          US  San Francisco  23424977   \n",
       "\n",
       "                       placeType                                          url  \\\n",
       "390  {'code': 7, 'name': 'Town'}  http://where.yahooapis.com/v1/place/2487956   \n",
       "\n",
       "       woeid  \n",
       "390  2487956  "
      ]
     },
     "execution_count": 31,
     "metadata": {},
     "output_type": "execute_result"
    }
   ],
   "source": [
    "df_city[df_city['name']=='San Francisco']"
   ]
  },
  {
   "cell_type": "code",
   "execution_count": 32,
   "metadata": {},
   "outputs": [
    {
     "data": {
      "text/plain": [
       "390    2487956\n",
       "Name: woeid, dtype: int64"
      ]
     },
     "execution_count": 32,
     "metadata": {},
     "output_type": "execute_result"
    }
   ],
   "source": [
    "city_id = df_city[df_city['name']=='San Francisco']['woeid']\n",
    "\n",
    "#print city_id\n",
    "city_id"
   ]
  },
  {
   "cell_type": "markdown",
   "metadata": {},
   "source": [
    "Return the trends in San Francisco.\n",
    "\n",
    "Note: you need to convert the city_id from a pandas series object into an integer."
   ]
  },
  {
   "cell_type": "code",
   "execution_count": 33,
   "metadata": {},
   "outputs": [],
   "source": [
    "# make San Francisco as an example\n",
    "trend_sf = api.trends_place(int(city_id))"
   ]
  },
  {
   "cell_type": "markdown",
   "metadata": {},
   "source": [
    "Print the trends in JSON format"
   ]
  },
  {
   "cell_type": "code",
   "execution_count": 34,
   "metadata": {
    "scrolled": true
   },
   "outputs": [
    {
     "data": {
      "text/plain": [
       "[{'trends': [{'name': 'Tumblr',\n",
       "    'url': 'http://twitter.com/search?q=Tumblr',\n",
       "    'promoted_content': None,\n",
       "    'query': 'Tumblr',\n",
       "    'tweet_volume': 97358},\n",
       "   {'name': 'Burger King',\n",
       "    'url': 'http://twitter.com/search?q=%22Burger+King%22',\n",
       "    'promoted_content': None,\n",
       "    'query': '%22Burger+King%22',\n",
       "    'tweet_volume': 33010},\n",
       "   {'name': 'Barr',\n",
       "    'url': 'http://twitter.com/search?q=Barr',\n",
       "    'promoted_content': None,\n",
       "    'query': 'Barr',\n",
       "    'tweet_volume': 2200300},\n",
       "   {'name': '#BBMAs',\n",
       "    'url': 'http://twitter.com/search?q=%23BBMAs',\n",
       "    'promoted_content': None,\n",
       "    'query': '%23BBMAs',\n",
       "    'tweet_volume': 9125159},\n",
       "   {'name': '#ThursdayThoughts',\n",
       "    'url': 'http://twitter.com/search?q=%23ThursdayThoughts',\n",
       "    'promoted_content': None,\n",
       "    'query': '%23ThursdayThoughts',\n",
       "    'tweet_volume': 110687},\n",
       "   {'name': 'Piedmont',\n",
       "    'url': 'http://twitter.com/search?q=Piedmont',\n",
       "    'promoted_content': None,\n",
       "    'query': 'Piedmont',\n",
       "    'tweet_volume': None},\n",
       "   {'name': '#pycon2019',\n",
       "    'url': 'http://twitter.com/search?q=%23pycon2019',\n",
       "    'promoted_content': None,\n",
       "    'query': '%23pycon2019',\n",
       "    'tweet_volume': None},\n",
       "   {'name': 'Alex Jones',\n",
       "    'url': 'http://twitter.com/search?q=%22Alex+Jones%22',\n",
       "    'promoted_content': None,\n",
       "    'query': '%22Alex+Jones%22',\n",
       "    'tweet_volume': 51158},\n",
       "   {'name': '#GalaxysEdge',\n",
       "    'url': 'http://twitter.com/search?q=%23GalaxysEdge',\n",
       "    'promoted_content': None,\n",
       "    'query': '%23GalaxysEdge',\n",
       "    'tweet_volume': None},\n",
       "   {'name': 'Peter Mayhew',\n",
       "    'url': 'http://twitter.com/search?q=%22Peter+Mayhew%22',\n",
       "    'promoted_content': None,\n",
       "    'query': '%22Peter+Mayhew%22',\n",
       "    'tweet_volume': 27022},\n",
       "   {'name': 'Chewbacca',\n",
       "    'url': 'http://twitter.com/search?q=Chewbacca',\n",
       "    'promoted_content': None,\n",
       "    'query': 'Chewbacca',\n",
       "    'tweet_volume': 14114},\n",
       "   {'name': '#RIPPeterMayhew',\n",
       "    'url': 'http://twitter.com/search?q=%23RIPPeterMayhew',\n",
       "    'promoted_content': None,\n",
       "    'query': '%23RIPPeterMayhew',\n",
       "    'tweet_volume': None},\n",
       "   {'name': 'Farrakhan',\n",
       "    'url': 'http://twitter.com/search?q=Farrakhan',\n",
       "    'promoted_content': None,\n",
       "    'query': 'Farrakhan',\n",
       "    'tweet_volume': 70678},\n",
       "   {'name': 'Chewie',\n",
       "    'url': 'http://twitter.com/search?q=Chewie',\n",
       "    'promoted_content': None,\n",
       "    'query': 'Chewie',\n",
       "    'tweet_volume': None},\n",
       "   {'name': 'May the Force',\n",
       "    'url': 'http://twitter.com/search?q=%22May+the+Force%22',\n",
       "    'promoted_content': None,\n",
       "    'query': '%22May+the+Force%22',\n",
       "    'tweet_volume': None},\n",
       "   {'name': 'Dick Cheney',\n",
       "    'url': 'http://twitter.com/search?q=%22Dick+Cheney%22',\n",
       "    'promoted_content': None,\n",
       "    'query': '%22Dick+Cheney%22',\n",
       "    'tweet_volume': 16697},\n",
       "   {'name': 'RIP Peter',\n",
       "    'url': 'http://twitter.com/search?q=%22RIP+Peter%22',\n",
       "    'promoted_content': None,\n",
       "    'query': '%22RIP+Peter%22',\n",
       "    'tweet_volume': None},\n",
       "   {'name': 'Mr. Mayhew',\n",
       "    'url': 'http://twitter.com/search?q=%22Mr.+Mayhew%22',\n",
       "    'promoted_content': None,\n",
       "    'query': '%22Mr.+Mayhew%22',\n",
       "    'tweet_volume': None},\n",
       "   {'name': \"D'Angelo Russell\",\n",
       "    'url': 'http://twitter.com/search?q=%22D%27Angelo+Russell%22',\n",
       "    'promoted_content': None,\n",
       "    'query': '%22D%27Angelo+Russell%22',\n",
       "    'tweet_volume': None},\n",
       "   {'name': 'Wookie',\n",
       "    'url': 'http://twitter.com/search?q=Wookie',\n",
       "    'promoted_content': None,\n",
       "    'query': 'Wookie',\n",
       "    'tweet_volume': None},\n",
       "   {'name': 'RIP Chewy',\n",
       "    'url': 'http://twitter.com/search?q=%22RIP+Chewy%22',\n",
       "    'promoted_content': None,\n",
       "    'query': '%22RIP+Chewy%22',\n",
       "    'tweet_volume': None},\n",
       "   {'name': 'Joyner Lucas',\n",
       "    'url': 'http://twitter.com/search?q=%22Joyner+Lucas%22',\n",
       "    'promoted_content': None,\n",
       "    'query': '%22Joyner+Lucas%22',\n",
       "    'tweet_volume': None},\n",
       "   {'name': 'Laura Loomer',\n",
       "    'url': 'http://twitter.com/search?q=%22Laura+Loomer%22',\n",
       "    'promoted_content': None,\n",
       "    'query': '%22Laura+Loomer%22',\n",
       "    'tweet_volume': 41452},\n",
       "   {'name': 'Milo Yiannopoulos',\n",
       "    'url': 'http://twitter.com/search?q=%22Milo+Yiannopoulos%22',\n",
       "    'promoted_content': None,\n",
       "    'query': '%22Milo+Yiannopoulos%22',\n",
       "    'tweet_volume': 28044},\n",
       "   {'name': 'Arizona Iced Tea',\n",
       "    'url': 'http://twitter.com/search?q=%22Arizona+Iced+Tea%22',\n",
       "    'promoted_content': None,\n",
       "    'query': '%22Arizona+Iced+Tea%22',\n",
       "    'tweet_volume': None},\n",
       "   {'name': \"Galaxy's Edge\",\n",
       "    'url': 'http://twitter.com/search?q=%22Galaxy%27s+Edge%22',\n",
       "    'promoted_content': None,\n",
       "    'query': '%22Galaxy%27s+Edge%22',\n",
       "    'tweet_volume': None},\n",
       "   {'name': 'Kelly Craft',\n",
       "    'url': 'http://twitter.com/search?q=%22Kelly+Craft%22',\n",
       "    'promoted_content': None,\n",
       "    'query': '%22Kelly+Craft%22',\n",
       "    'tweet_volume': None},\n",
       "   {'name': 'The Advocate',\n",
       "    'url': 'http://twitter.com/search?q=%22The+Advocate%22',\n",
       "    'promoted_content': None,\n",
       "    'query': '%22The+Advocate%22',\n",
       "    'tweet_volume': None},\n",
       "   {'name': 'Chris Reccardi',\n",
       "    'url': 'http://twitter.com/search?q=%22Chris+Reccardi%22',\n",
       "    'promoted_content': None,\n",
       "    'query': '%22Chris+Reccardi%22',\n",
       "    'tweet_volume': None},\n",
       "   {'name': 'Beyond Meat',\n",
       "    'url': 'http://twitter.com/search?q=%22Beyond+Meat%22',\n",
       "    'promoted_content': None,\n",
       "    'query': '%22Beyond+Meat%22',\n",
       "    'tweet_volume': None},\n",
       "   {'name': 'Birdie',\n",
       "    'url': 'http://twitter.com/search?q=Birdie',\n",
       "    'promoted_content': None,\n",
       "    'query': 'Birdie',\n",
       "    'tweet_volume': None},\n",
       "   {'name': 'The Times-Picayune',\n",
       "    'url': 'http://twitter.com/search?q=%22The+Times-Picayune%22',\n",
       "    'promoted_content': None,\n",
       "    'query': '%22The+Times-Picayune%22',\n",
       "    'tweet_volume': None},\n",
       "   {'name': 'Noah Syndergaard',\n",
       "    'url': 'http://twitter.com/search?q=%22Noah+Syndergaard%22',\n",
       "    'promoted_content': None,\n",
       "    'query': '%22Noah+Syndergaard%22',\n",
       "    'tweet_volume': None},\n",
       "   {'name': 'Catherine Pugh',\n",
       "    'url': 'http://twitter.com/search?q=%22Catherine+Pugh%22',\n",
       "    'promoted_content': None,\n",
       "    'query': '%22Catherine+Pugh%22',\n",
       "    'tweet_volume': None},\n",
       "   {'name': 'Dwight Freeney',\n",
       "    'url': 'http://twitter.com/search?q=%22Dwight+Freeney%22',\n",
       "    'promoted_content': None,\n",
       "    'query': '%22Dwight+Freeney%22',\n",
       "    'tweet_volume': None},\n",
       "   {'name': 'Lee Smith',\n",
       "    'url': 'http://twitter.com/search?q=%22Lee+Smith%22',\n",
       "    'promoted_content': None,\n",
       "    'query': '%22Lee+Smith%22',\n",
       "    'tweet_volume': None},\n",
       "   {'name': '#MEmeans',\n",
       "    'url': 'http://twitter.com/search?q=%23MEmeans',\n",
       "    'promoted_content': None,\n",
       "    'query': '%23MEmeans',\n",
       "    'tweet_volume': 16643},\n",
       "   {'name': '#FirstThingOnMyToDoList',\n",
       "    'url': 'http://twitter.com/search?q=%23FirstThingOnMyToDoList',\n",
       "    'promoted_content': None,\n",
       "    'query': '%23FirstThingOnMyToDoList',\n",
       "    'tweet_volume': None},\n",
       "   {'name': '#GodzillaXboxSweepstakes',\n",
       "    'url': 'http://twitter.com/search?q=%23GodzillaXboxSweepstakes',\n",
       "    'promoted_content': None,\n",
       "    'query': '%23GodzillaXboxSweepstakes',\n",
       "    'tweet_volume': 10027},\n",
       "   {'name': '#askgrant',\n",
       "    'url': 'http://twitter.com/search?q=%23askgrant',\n",
       "    'promoted_content': None,\n",
       "    'query': '%23askgrant',\n",
       "    'tweet_volume': None},\n",
       "   {'name': '#Jackets50',\n",
       "    'url': 'http://twitter.com/search?q=%23Jackets50',\n",
       "    'promoted_content': None,\n",
       "    'query': '%23Jackets50',\n",
       "    'tweet_volume': None},\n",
       "   {'name': '#ARSVAL',\n",
       "    'url': 'http://twitter.com/search?q=%23ARSVAL',\n",
       "    'promoted_content': None,\n",
       "    'query': '%23ARSVAL',\n",
       "    'tweet_volume': 37095},\n",
       "   {'name': '#myWSUstory',\n",
       "    'url': 'http://twitter.com/search?q=%23myWSUstory',\n",
       "    'promoted_content': None,\n",
       "    'query': '%23myWSUstory',\n",
       "    'tweet_volume': None},\n",
       "   {'name': '#gottafixfast',\n",
       "    'url': 'http://twitter.com/search?q=%23gottafixfast',\n",
       "    'promoted_content': None,\n",
       "    'query': '%23gottafixfast',\n",
       "    'tweet_volume': None},\n",
       "   {'name': '#MayTheForceBeWithYou',\n",
       "    'url': 'http://twitter.com/search?q=%23MayTheForceBeWithYou',\n",
       "    'promoted_content': None,\n",
       "    'query': '%23MayTheForceBeWithYou',\n",
       "    'tweet_volume': None},\n",
       "   {'name': '#OneMoreTimeAndI',\n",
       "    'url': 'http://twitter.com/search?q=%23OneMoreTimeAndI',\n",
       "    'promoted_content': None,\n",
       "    'query': '%23OneMoreTimeAndI',\n",
       "    'tweet_volume': None},\n",
       "   {'name': '#COYG',\n",
       "    'url': 'http://twitter.com/search?q=%23COYG',\n",
       "    'promoted_content': None,\n",
       "    'query': '%23COYG',\n",
       "    'tweet_volume': None},\n",
       "   {'name': '#USWNT',\n",
       "    'url': 'http://twitter.com/search?q=%23USWNT',\n",
       "    'promoted_content': None,\n",
       "    'query': '%23USWNT',\n",
       "    'tweet_volume': None},\n",
       "   {'name': '#FeelYourWay',\n",
       "    'url': 'http://twitter.com/search?q=%23FeelYourWay',\n",
       "    'promoted_content': None,\n",
       "    'query': '%23FeelYourWay',\n",
       "    'tweet_volume': None},\n",
       "   {'name': '#ThirstyThursday',\n",
       "    'url': 'http://twitter.com/search?q=%23ThirstyThursday',\n",
       "    'promoted_content': None,\n",
       "    'query': '%23ThirstyThursday',\n",
       "    'tweet_volume': None}],\n",
       "  'as_of': '2019-05-02T23:10:26Z',\n",
       "  'created_at': '2019-05-02T23:02:14Z',\n",
       "  'locations': [{'name': 'San Francisco', 'woeid': 2487956}]}]"
      ]
     },
     "execution_count": 34,
     "metadata": {},
     "output_type": "execute_result"
    }
   ],
   "source": [
    "# print the top 20 trends in San Francisco\n",
    "trend_sf[0:20]"
   ]
  },
  {
   "cell_type": "code",
   "execution_count": 35,
   "metadata": {},
   "outputs": [
    {
     "data": {
      "text/plain": [
       "[{'name': 'Tumblr',\n",
       "  'url': 'http://twitter.com/search?q=Tumblr',\n",
       "  'promoted_content': None,\n",
       "  'query': 'Tumblr',\n",
       "  'tweet_volume': 97358},\n",
       " {'name': 'Burger King',\n",
       "  'url': 'http://twitter.com/search?q=%22Burger+King%22',\n",
       "  'promoted_content': None,\n",
       "  'query': '%22Burger+King%22',\n",
       "  'tweet_volume': 33010},\n",
       " {'name': 'Barr',\n",
       "  'url': 'http://twitter.com/search?q=Barr',\n",
       "  'promoted_content': None,\n",
       "  'query': 'Barr',\n",
       "  'tweet_volume': 2200300},\n",
       " {'name': '#BBMAs',\n",
       "  'url': 'http://twitter.com/search?q=%23BBMAs',\n",
       "  'promoted_content': None,\n",
       "  'query': '%23BBMAs',\n",
       "  'tweet_volume': 9125159},\n",
       " {'name': '#ThursdayThoughts',\n",
       "  'url': 'http://twitter.com/search?q=%23ThursdayThoughts',\n",
       "  'promoted_content': None,\n",
       "  'query': '%23ThursdayThoughts',\n",
       "  'tweet_volume': 110687}]"
      ]
     },
     "execution_count": 35,
     "metadata": {},
     "output_type": "execute_result"
    }
   ],
   "source": [
    "# print first 5 trends in the selected city\n",
    "trend_sf[0]['trends'][0:5]"
   ]
  },
  {
   "cell_type": "markdown",
   "metadata": {},
   "source": [
    "Organize the San Francisco trends in a table (dataframe)"
   ]
  },
  {
   "cell_type": "code",
   "execution_count": 36,
   "metadata": {},
   "outputs": [],
   "source": [
    "trend_ls = [[trend['name'], trend['url'], trend['tweet_volume']] for trend in trend_sf[0]['trends']]\n",
    "\n",
    "df_trend = pd.DataFrame(trend_ls,columns=['name','url','tweet_volume'])"
   ]
  },
  {
   "cell_type": "code",
   "execution_count": 37,
   "metadata": {
    "scrolled": true
   },
   "outputs": [
    {
     "data": {
      "text/html": [
       "<div>\n",
       "<style scoped>\n",
       "    .dataframe tbody tr th:only-of-type {\n",
       "        vertical-align: middle;\n",
       "    }\n",
       "\n",
       "    .dataframe tbody tr th {\n",
       "        vertical-align: top;\n",
       "    }\n",
       "\n",
       "    .dataframe thead th {\n",
       "        text-align: right;\n",
       "    }\n",
       "</style>\n",
       "<table border=\"1\" class=\"dataframe\">\n",
       "  <thead>\n",
       "    <tr style=\"text-align: right;\">\n",
       "      <th></th>\n",
       "      <th>name</th>\n",
       "      <th>url</th>\n",
       "      <th>tweet_volume</th>\n",
       "    </tr>\n",
       "  </thead>\n",
       "  <tbody>\n",
       "    <tr>\n",
       "      <th>3</th>\n",
       "      <td>#BBMAs</td>\n",
       "      <td>http://twitter.com/search?q=%23BBMAs</td>\n",
       "      <td>9125159.0</td>\n",
       "    </tr>\n",
       "    <tr>\n",
       "      <th>2</th>\n",
       "      <td>Barr</td>\n",
       "      <td>http://twitter.com/search?q=Barr</td>\n",
       "      <td>2200300.0</td>\n",
       "    </tr>\n",
       "    <tr>\n",
       "      <th>4</th>\n",
       "      <td>#ThursdayThoughts</td>\n",
       "      <td>http://twitter.com/search?q=%23ThursdayThoughts</td>\n",
       "      <td>110687.0</td>\n",
       "    </tr>\n",
       "    <tr>\n",
       "      <th>0</th>\n",
       "      <td>Tumblr</td>\n",
       "      <td>http://twitter.com/search?q=Tumblr</td>\n",
       "      <td>97358.0</td>\n",
       "    </tr>\n",
       "    <tr>\n",
       "      <th>12</th>\n",
       "      <td>Farrakhan</td>\n",
       "      <td>http://twitter.com/search?q=Farrakhan</td>\n",
       "      <td>70678.0</td>\n",
       "    </tr>\n",
       "    <tr>\n",
       "      <th>7</th>\n",
       "      <td>Alex Jones</td>\n",
       "      <td>http://twitter.com/search?q=%22Alex+Jones%22</td>\n",
       "      <td>51158.0</td>\n",
       "    </tr>\n",
       "    <tr>\n",
       "      <th>22</th>\n",
       "      <td>Laura Loomer</td>\n",
       "      <td>http://twitter.com/search?q=%22Laura+Loomer%22</td>\n",
       "      <td>41452.0</td>\n",
       "    </tr>\n",
       "    <tr>\n",
       "      <th>41</th>\n",
       "      <td>#ARSVAL</td>\n",
       "      <td>http://twitter.com/search?q=%23ARSVAL</td>\n",
       "      <td>37095.0</td>\n",
       "    </tr>\n",
       "    <tr>\n",
       "      <th>1</th>\n",
       "      <td>Burger King</td>\n",
       "      <td>http://twitter.com/search?q=%22Burger+King%22</td>\n",
       "      <td>33010.0</td>\n",
       "    </tr>\n",
       "    <tr>\n",
       "      <th>23</th>\n",
       "      <td>Milo Yiannopoulos</td>\n",
       "      <td>http://twitter.com/search?q=%22Milo+Yiannopoul...</td>\n",
       "      <td>28044.0</td>\n",
       "    </tr>\n",
       "  </tbody>\n",
       "</table>\n",
       "</div>"
      ],
      "text/plain": [
       "                 name                                                url  \\\n",
       "3              #BBMAs               http://twitter.com/search?q=%23BBMAs   \n",
       "2                Barr                   http://twitter.com/search?q=Barr   \n",
       "4   #ThursdayThoughts    http://twitter.com/search?q=%23ThursdayThoughts   \n",
       "0              Tumblr                 http://twitter.com/search?q=Tumblr   \n",
       "12          Farrakhan              http://twitter.com/search?q=Farrakhan   \n",
       "7          Alex Jones       http://twitter.com/search?q=%22Alex+Jones%22   \n",
       "22       Laura Loomer     http://twitter.com/search?q=%22Laura+Loomer%22   \n",
       "41            #ARSVAL              http://twitter.com/search?q=%23ARSVAL   \n",
       "1         Burger King      http://twitter.com/search?q=%22Burger+King%22   \n",
       "23  Milo Yiannopoulos  http://twitter.com/search?q=%22Milo+Yiannopoul...   \n",
       "\n",
       "    tweet_volume  \n",
       "3      9125159.0  \n",
       "2      2200300.0  \n",
       "4       110687.0  \n",
       "0        97358.0  \n",
       "12       70678.0  \n",
       "7        51158.0  \n",
       "22       41452.0  \n",
       "41       37095.0  \n",
       "1        33010.0  \n",
       "23       28044.0  "
      ]
     },
     "execution_count": 37,
     "metadata": {},
     "output_type": "execute_result"
    }
   ],
   "source": [
    "# Sort the trends by tweet volumn in a descending order\n",
    "df_trend.sort_values(\"tweet_volume\", inplace = True, ascending = False)\n",
    "\n",
    "# Print the top 10 trends ranked by tweet volumne\n",
    "df_trend.head(10)"
   ]
  },
  {
   "cell_type": "markdown",
   "metadata": {},
   "source": [
    "---"
   ]
  },
  {
   "cell_type": "markdown",
   "metadata": {},
   "source": [
    "## 3. Acquiring Tweets using the Search API"
   ]
  },
  {
   "cell_type": "markdown",
   "metadata": {},
   "source": [
    "### 3.1 Search using keywords"
   ]
  },
  {
   "cell_type": "markdown",
   "metadata": {},
   "source": [
    "Get the trend on the top"
   ]
  },
  {
   "cell_type": "code",
   "execution_count": 38,
   "metadata": {},
   "outputs": [
    {
     "data": {
      "text/plain": [
       "'Tumblr'"
      ]
     },
     "execution_count": 38,
     "metadata": {},
     "output_type": "execute_result"
    }
   ],
   "source": [
    "df_trend.name[0]"
   ]
  },
  {
   "cell_type": "markdown",
   "metadata": {},
   "source": [
    "use the trend as the keyword for searching."
   ]
  },
  {
   "cell_type": "code",
   "execution_count": 39,
   "metadata": {},
   "outputs": [],
   "source": [
    "# Define the search term and the date_since date as variables\n",
    "# only date (not specific time) will work in the parameter.\n",
    "search_words = df_trend.name[0] # you can set the search words to any keyword you are interested.\n",
    "date_since = \"2019-4-27\"\n",
    "# date_until = \"2019-4-28\""
   ]
  },
  {
   "cell_type": "markdown",
   "metadata": {},
   "source": [
    "search _n_ tweets using the keyword (the top trend). The search will return all tweets containing the keyword worldwide."
   ]
  },
  {
   "cell_type": "code",
   "execution_count": 40,
   "metadata": {},
   "outputs": [
    {
     "data": {
      "text/plain": [
       "['maushkaplushka: d1rtypaws: Me: I love being out at night, I’m not scared of the dark! tree: *exists,... https://t.co/0ElS9VYYOw',\n",
       " 'RT @verge: Update: Pornhub is interested in buying Tumblr from Verizon and \"restoring it to its former glory with NSFW content”\\n\\nhttps://t.…',\n",
       " '📷 taylorswiftstyle: Instagram Story\\xa0 Taylor Swift\\xa0‘Classic Pink Long Sleeve Tee w/ Photo Design’ -... https://t.co/9YcnmW4LT8',\n",
       " '@perepereden Im here for it. Save tumblr',\n",
       " 'RT @verge: Update: Pornhub is interested in buying Tumblr from Verizon and \"restoring it to its former glory with NSFW content”\\n\\nhttps://t.…']"
      ]
     },
     "execution_count": 40,
     "metadata": {},
     "output_type": "execute_result"
    }
   ],
   "source": [
    "# set up tweepy cursor and search 5 tweets according preset parameters\n",
    "tweets = tweepy.Cursor(api.search,\n",
    "              q=search_words,\n",
    "              lang=\"en\",\n",
    "              since=date_since).items(5)\n",
    "[tweet.text for tweet in tweets]"
   ]
  },
  {
   "cell_type": "markdown",
   "metadata": {},
   "source": [
    "As lots of retweets are repeating the original tweets, we can set up a filter to eliminate the retweets and keep only the original tweets."
   ]
  },
  {
   "cell_type": "code",
   "execution_count": 41,
   "metadata": {},
   "outputs": [
    {
     "data": {
      "text/plain": [
       "'Tumblr -filter:retweets'"
      ]
     },
     "execution_count": 41,
     "metadata": {},
     "output_type": "execute_result"
    }
   ],
   "source": [
    "new_search = search_words + \" -filter:retweets\"\n",
    "new_search"
   ]
  },
  {
   "cell_type": "markdown",
   "metadata": {},
   "source": [
    "Now, you can see only original tweets are retrieved."
   ]
  },
  {
   "cell_type": "code",
   "execution_count": 42,
   "metadata": {},
   "outputs": [],
   "source": [
    "# Use a cursor to retrieve 5 tweets (most recent sample) using the keywords.\n",
    "tweets = tweepy.Cursor(api.search,\n",
    "                       q=new_search,\n",
    "                       lang=\"en\",\n",
    "                       since=date_since).items(5)\n",
    "\n",
    "# store the retrieved tweets in a list\n",
    "tweets_ls = [[tweet.created_at, tweet.user.screen_name, tweet.text,  tweet.user.location] for tweet in tweets]"
   ]
  },
  {
   "cell_type": "markdown",
   "metadata": {},
   "source": [
    "Print to see the list."
   ]
  },
  {
   "cell_type": "code",
   "execution_count": 43,
   "metadata": {},
   "outputs": [
    {
     "data": {
      "text/plain": [
       "[[datetime.datetime(2019, 5, 2, 23, 10, 15),\n",
       "  'Cindi_Official',\n",
       "  'maushkaplushka: d1rtypaws: Me: I love being out at night, I’m not scared of the dark! tree: *exists,... https://t.co/0ElS9VYYOw',\n",
       "  'Wonderland '],\n",
       " [datetime.datetime(2019, 5, 2, 23, 10, 12),\n",
       "  'Scoobydug',\n",
       "  '📷 taylorswiftstyle: Instagram Story\\xa0 Taylor Swift\\xa0‘Classic Pink Long Sleeve Tee w/ Photo Design’ -... https://t.co/9YcnmW4LT8',\n",
       "  'Australia'],\n",
       " [datetime.datetime(2019, 5, 2, 23, 10, 10),\n",
       "  'ArockPlays',\n",
       "  '@perepereden Im here for it. Save tumblr',\n",
       "  'New Tech City'],\n",
       " [datetime.datetime(2019, 5, 2, 23, 10, 9),\n",
       "  'Scoobydug',\n",
       "  '📷 taylorswiftstyle: And then there were three (x) | April 26, 2019 Amiri\\xa0‘Hawaii Print Shirt’ -... https://t.co/LXpZlB41Ct',\n",
       "  'Australia'],\n",
       " [datetime.datetime(2019, 5, 2, 23, 10, 9),\n",
       "  'TaraOComics',\n",
       "  \"@tonybreed I stopped using tumblr a few years back when they started doing audio ads that I couldn't see so I could… https://t.co/adrUWRPDYd\",\n",
       "  'The Woods']]"
      ]
     },
     "execution_count": 43,
     "metadata": {},
     "output_type": "execute_result"
    }
   ],
   "source": [
    "tweets_ls"
   ]
  },
  {
   "cell_type": "markdown",
   "metadata": {},
   "source": [
    "Convert the list into dataframe and print it out"
   ]
  },
  {
   "cell_type": "code",
   "execution_count": 44,
   "metadata": {},
   "outputs": [
    {
     "data": {
      "text/html": [
       "<div>\n",
       "<style scoped>\n",
       "    .dataframe tbody tr th:only-of-type {\n",
       "        vertical-align: middle;\n",
       "    }\n",
       "\n",
       "    .dataframe tbody tr th {\n",
       "        vertical-align: top;\n",
       "    }\n",
       "\n",
       "    .dataframe thead th {\n",
       "        text-align: right;\n",
       "    }\n",
       "</style>\n",
       "<table border=\"1\" class=\"dataframe\">\n",
       "  <thead>\n",
       "    <tr style=\"text-align: right;\">\n",
       "      <th></th>\n",
       "      <th>0</th>\n",
       "      <th>1</th>\n",
       "      <th>2</th>\n",
       "      <th>3</th>\n",
       "    </tr>\n",
       "  </thead>\n",
       "  <tbody>\n",
       "    <tr>\n",
       "      <th>0</th>\n",
       "      <td>2019-05-02 23:10:15</td>\n",
       "      <td>Cindi_Official</td>\n",
       "      <td>maushkaplushka: d1rtypaws: Me: I love being ou...</td>\n",
       "      <td>Wonderland</td>\n",
       "    </tr>\n",
       "    <tr>\n",
       "      <th>1</th>\n",
       "      <td>2019-05-02 23:10:12</td>\n",
       "      <td>Scoobydug</td>\n",
       "      <td>📷 taylorswiftstyle: Instagram Story  Taylor Sw...</td>\n",
       "      <td>Australia</td>\n",
       "    </tr>\n",
       "    <tr>\n",
       "      <th>2</th>\n",
       "      <td>2019-05-02 23:10:10</td>\n",
       "      <td>ArockPlays</td>\n",
       "      <td>@perepereden Im here for it. Save tumblr</td>\n",
       "      <td>New Tech City</td>\n",
       "    </tr>\n",
       "    <tr>\n",
       "      <th>3</th>\n",
       "      <td>2019-05-02 23:10:09</td>\n",
       "      <td>Scoobydug</td>\n",
       "      <td>📷 taylorswiftstyle: And then there were three ...</td>\n",
       "      <td>Australia</td>\n",
       "    </tr>\n",
       "    <tr>\n",
       "      <th>4</th>\n",
       "      <td>2019-05-02 23:10:09</td>\n",
       "      <td>TaraOComics</td>\n",
       "      <td>@tonybreed I stopped using tumblr a few years ...</td>\n",
       "      <td>The Woods</td>\n",
       "    </tr>\n",
       "  </tbody>\n",
       "</table>\n",
       "</div>"
      ],
      "text/plain": [
       "                    0               1  \\\n",
       "0 2019-05-02 23:10:15  Cindi_Official   \n",
       "1 2019-05-02 23:10:12       Scoobydug   \n",
       "2 2019-05-02 23:10:10      ArockPlays   \n",
       "3 2019-05-02 23:10:09       Scoobydug   \n",
       "4 2019-05-02 23:10:09     TaraOComics   \n",
       "\n",
       "                                                   2              3  \n",
       "0  maushkaplushka: d1rtypaws: Me: I love being ou...    Wonderland   \n",
       "1  📷 taylorswiftstyle: Instagram Story  Taylor Sw...      Australia  \n",
       "2           @perepereden Im here for it. Save tumblr  New Tech City  \n",
       "3  📷 taylorswiftstyle: And then there were three ...      Australia  \n",
       "4  @tonybreed I stopped using tumblr a few years ...      The Woods  "
      ]
     },
     "execution_count": 44,
     "metadata": {},
     "output_type": "execute_result"
    }
   ],
   "source": [
    "tweets_df = pd.DataFrame(tweets_ls)\n",
    "tweets_df"
   ]
  },
  {
   "cell_type": "markdown",
   "metadata": {},
   "source": [
    "### 3.2 Search using keywords and locations"
   ]
  },
  {
   "cell_type": "markdown",
   "metadata": {},
   "source": [
    "Query for a popular trend keyword in San Francisco (200 miles range)"
   ]
  },
  {
   "cell_type": "markdown",
   "metadata": {},
   "source": [
    "First, let's check what are the top 10 trending topics in the selected city (San Francisco)."
   ]
  },
  {
   "cell_type": "code",
   "execution_count": 45,
   "metadata": {},
   "outputs": [
    {
     "data": {
      "text/html": [
       "<div>\n",
       "<style scoped>\n",
       "    .dataframe tbody tr th:only-of-type {\n",
       "        vertical-align: middle;\n",
       "    }\n",
       "\n",
       "    .dataframe tbody tr th {\n",
       "        vertical-align: top;\n",
       "    }\n",
       "\n",
       "    .dataframe thead th {\n",
       "        text-align: right;\n",
       "    }\n",
       "</style>\n",
       "<table border=\"1\" class=\"dataframe\">\n",
       "  <thead>\n",
       "    <tr style=\"text-align: right;\">\n",
       "      <th></th>\n",
       "      <th>name</th>\n",
       "      <th>url</th>\n",
       "      <th>tweet_volume</th>\n",
       "    </tr>\n",
       "  </thead>\n",
       "  <tbody>\n",
       "    <tr>\n",
       "      <th>3</th>\n",
       "      <td>#BBMAs</td>\n",
       "      <td>http://twitter.com/search?q=%23BBMAs</td>\n",
       "      <td>9125159.0</td>\n",
       "    </tr>\n",
       "    <tr>\n",
       "      <th>2</th>\n",
       "      <td>Barr</td>\n",
       "      <td>http://twitter.com/search?q=Barr</td>\n",
       "      <td>2200300.0</td>\n",
       "    </tr>\n",
       "    <tr>\n",
       "      <th>4</th>\n",
       "      <td>#ThursdayThoughts</td>\n",
       "      <td>http://twitter.com/search?q=%23ThursdayThoughts</td>\n",
       "      <td>110687.0</td>\n",
       "    </tr>\n",
       "    <tr>\n",
       "      <th>0</th>\n",
       "      <td>Tumblr</td>\n",
       "      <td>http://twitter.com/search?q=Tumblr</td>\n",
       "      <td>97358.0</td>\n",
       "    </tr>\n",
       "    <tr>\n",
       "      <th>12</th>\n",
       "      <td>Farrakhan</td>\n",
       "      <td>http://twitter.com/search?q=Farrakhan</td>\n",
       "      <td>70678.0</td>\n",
       "    </tr>\n",
       "    <tr>\n",
       "      <th>7</th>\n",
       "      <td>Alex Jones</td>\n",
       "      <td>http://twitter.com/search?q=%22Alex+Jones%22</td>\n",
       "      <td>51158.0</td>\n",
       "    </tr>\n",
       "    <tr>\n",
       "      <th>22</th>\n",
       "      <td>Laura Loomer</td>\n",
       "      <td>http://twitter.com/search?q=%22Laura+Loomer%22</td>\n",
       "      <td>41452.0</td>\n",
       "    </tr>\n",
       "    <tr>\n",
       "      <th>41</th>\n",
       "      <td>#ARSVAL</td>\n",
       "      <td>http://twitter.com/search?q=%23ARSVAL</td>\n",
       "      <td>37095.0</td>\n",
       "    </tr>\n",
       "    <tr>\n",
       "      <th>1</th>\n",
       "      <td>Burger King</td>\n",
       "      <td>http://twitter.com/search?q=%22Burger+King%22</td>\n",
       "      <td>33010.0</td>\n",
       "    </tr>\n",
       "    <tr>\n",
       "      <th>23</th>\n",
       "      <td>Milo Yiannopoulos</td>\n",
       "      <td>http://twitter.com/search?q=%22Milo+Yiannopoul...</td>\n",
       "      <td>28044.0</td>\n",
       "    </tr>\n",
       "  </tbody>\n",
       "</table>\n",
       "</div>"
      ],
      "text/plain": [
       "                 name                                                url  \\\n",
       "3              #BBMAs               http://twitter.com/search?q=%23BBMAs   \n",
       "2                Barr                   http://twitter.com/search?q=Barr   \n",
       "4   #ThursdayThoughts    http://twitter.com/search?q=%23ThursdayThoughts   \n",
       "0              Tumblr                 http://twitter.com/search?q=Tumblr   \n",
       "12          Farrakhan              http://twitter.com/search?q=Farrakhan   \n",
       "7          Alex Jones       http://twitter.com/search?q=%22Alex+Jones%22   \n",
       "22       Laura Loomer     http://twitter.com/search?q=%22Laura+Loomer%22   \n",
       "41            #ARSVAL              http://twitter.com/search?q=%23ARSVAL   \n",
       "1         Burger King      http://twitter.com/search?q=%22Burger+King%22   \n",
       "23  Milo Yiannopoulos  http://twitter.com/search?q=%22Milo+Yiannopoul...   \n",
       "\n",
       "    tweet_volume  \n",
       "3      9125159.0  \n",
       "2      2200300.0  \n",
       "4       110687.0  \n",
       "0        97358.0  \n",
       "12       70678.0  \n",
       "7        51158.0  \n",
       "22       41452.0  \n",
       "41       37095.0  \n",
       "1        33010.0  \n",
       "23       28044.0  "
      ]
     },
     "execution_count": 45,
     "metadata": {},
     "output_type": "execute_result"
    }
   ],
   "source": [
    "df_trend.head(10)"
   ]
  },
  {
   "cell_type": "markdown",
   "metadata": {},
   "source": [
    "The following code may take a few minutes to run to collect the tweets, depending on the number of tweets."
   ]
  },
  {
   "cell_type": "code",
   "execution_count": 46,
   "metadata": {},
   "outputs": [],
   "source": [
    "new_search = \"#BBMAs -filter:retweets\"\n",
    "#new_search = \" -filter:retweets\"\n",
    "\n",
    "# use cursor to send your request with parameters\n",
    "tweets = tweepy.Cursor(api.search,\n",
    "                   q=new_search,\n",
    "                   geocode = \"37.7749,-122.4194,200mi\",\n",
    "                   lang=\"en\").items(1000)\n",
    "\n",
    "# restore the results as a list\n",
    "search_result = [[tweet.user.screen_name, tweet.text, tweet.user.location,tweet.place] for tweet in tweets]"
   ]
  },
  {
   "cell_type": "markdown",
   "metadata": {},
   "source": [
    "Convert the searched tweets into a dataframe"
   ]
  },
  {
   "cell_type": "code",
   "execution_count": 68,
   "metadata": {},
   "outputs": [],
   "source": [
    "df_result = pd.DataFrame(data=search_result, \n",
    "                    columns=['user', \"text\",\"location\",\"place\"])"
   ]
  },
  {
   "cell_type": "markdown",
   "metadata": {},
   "source": [
    "Preview the first 5 tweets"
   ]
  },
  {
   "cell_type": "code",
   "execution_count": 69,
   "metadata": {},
   "outputs": [
    {
     "data": {
      "text/html": [
       "<div>\n",
       "<style scoped>\n",
       "    .dataframe tbody tr th:only-of-type {\n",
       "        vertical-align: middle;\n",
       "    }\n",
       "\n",
       "    .dataframe tbody tr th {\n",
       "        vertical-align: top;\n",
       "    }\n",
       "\n",
       "    .dataframe thead th {\n",
       "        text-align: right;\n",
       "    }\n",
       "</style>\n",
       "<table border=\"1\" class=\"dataframe\">\n",
       "  <thead>\n",
       "    <tr style=\"text-align: right;\">\n",
       "      <th></th>\n",
       "      <th>user</th>\n",
       "      <th>text</th>\n",
       "      <th>location</th>\n",
       "      <th>place</th>\n",
       "    </tr>\n",
       "  </thead>\n",
       "  <tbody>\n",
       "    <tr>\n",
       "      <th>0</th>\n",
       "      <td>DaniGomezComedy</td>\n",
       "      <td>Just a reminder that @gwenstefani used matchin...</td>\n",
       "      <td>Southern California</td>\n",
       "      <td>None</td>\n",
       "    </tr>\n",
       "    <tr>\n",
       "      <th>1</th>\n",
       "      <td>Theresa_Lynn831</td>\n",
       "      <td>Omg @jonasbrothers performance at the #BBMAs w...</td>\n",
       "      <td>Salinas CA</td>\n",
       "      <td>None</td>\n",
       "    </tr>\n",
       "    <tr>\n",
       "      <th>2</th>\n",
       "      <td>Bay_Shark_707</td>\n",
       "      <td>@TomiLahren @LindseyGrahamSC This one too #Thu...</td>\n",
       "      <td>Redding, CA</td>\n",
       "      <td>None</td>\n",
       "    </tr>\n",
       "    <tr>\n",
       "      <th>3</th>\n",
       "      <td>Bay_Shark_707</td>\n",
       "      <td>@TomiLahren Millions of US citizens losing hea...</td>\n",
       "      <td>Redding, CA</td>\n",
       "      <td>None</td>\n",
       "    </tr>\n",
       "    <tr>\n",
       "      <th>4</th>\n",
       "      <td>Bay_Shark_707</td>\n",
       "      <td>@TomiLahren @LindseyGrahamSC Look at this. Sai...</td>\n",
       "      <td>Redding, CA</td>\n",
       "      <td>None</td>\n",
       "    </tr>\n",
       "  </tbody>\n",
       "</table>\n",
       "</div>"
      ],
      "text/plain": [
       "              user                                               text  \\\n",
       "0  DaniGomezComedy  Just a reminder that @gwenstefani used matchin...   \n",
       "1  Theresa_Lynn831  Omg @jonasbrothers performance at the #BBMAs w...   \n",
       "2    Bay_Shark_707  @TomiLahren @LindseyGrahamSC This one too #Thu...   \n",
       "3    Bay_Shark_707  @TomiLahren Millions of US citizens losing hea...   \n",
       "4    Bay_Shark_707  @TomiLahren @LindseyGrahamSC Look at this. Sai...   \n",
       "\n",
       "              location place  \n",
       "0  Southern California  None  \n",
       "1           Salinas CA  None  \n",
       "2          Redding, CA  None  \n",
       "3          Redding, CA  None  \n",
       "4          Redding, CA  None  "
      ]
     },
     "execution_count": 69,
     "metadata": {},
     "output_type": "execute_result"
    }
   ],
   "source": [
    "df_result.head()"
   ]
  },
  {
   "cell_type": "markdown",
   "metadata": {},
   "source": [
    "Preview the first 5 tweets with geotags"
   ]
  },
  {
   "cell_type": "code",
   "execution_count": 70,
   "metadata": {},
   "outputs": [
    {
     "data": {
      "text/html": [
       "<div>\n",
       "<style scoped>\n",
       "    .dataframe tbody tr th:only-of-type {\n",
       "        vertical-align: middle;\n",
       "    }\n",
       "\n",
       "    .dataframe tbody tr th {\n",
       "        vertical-align: top;\n",
       "    }\n",
       "\n",
       "    .dataframe thead th {\n",
       "        text-align: right;\n",
       "    }\n",
       "</style>\n",
       "<table border=\"1\" class=\"dataframe\">\n",
       "  <thead>\n",
       "    <tr style=\"text-align: right;\">\n",
       "      <th></th>\n",
       "      <th>user</th>\n",
       "      <th>text</th>\n",
       "      <th>location</th>\n",
       "      <th>place</th>\n",
       "    </tr>\n",
       "  </thead>\n",
       "  <tbody>\n",
       "    <tr>\n",
       "      <th>10</th>\n",
       "      <td>KindaCoolGreg</td>\n",
       "      <td>Jay-Z and XXXtentacion won #BBMAs for R&amp;amp;B,...</td>\n",
       "      <td>$an Francisco, CA</td>\n",
       "      <td>Place(_api=&lt;tweepy.api.API object at 0x0000014...</td>\n",
       "    </tr>\n",
       "    <tr>\n",
       "      <th>26</th>\n",
       "      <td>OnAirWithVicki</td>\n",
       "      <td>My Top 5 #BBMAs OHMG! Moments: First, CONGRATS...</td>\n",
       "      <td>Sacramento, CA</td>\n",
       "      <td>Place(_api=&lt;tweepy.api.API object at 0x0000014...</td>\n",
       "    </tr>\n",
       "    <tr>\n",
       "      <th>36</th>\n",
       "      <td>LeineFran</td>\n",
       "      <td>\"I just want to say that there are still 34 st...</td>\n",
       "      <td>Alameda, CA</td>\n",
       "      <td>Place(_api=&lt;tweepy.api.API object at 0x0000014...</td>\n",
       "    </tr>\n",
       "    <tr>\n",
       "      <th>37</th>\n",
       "      <td>jmgreen05</td>\n",
       "      <td>I know nothing about bts except #BBMAs https:/...</td>\n",
       "      <td>California</td>\n",
       "      <td>Place(_api=&lt;tweepy.api.API object at 0x0000014...</td>\n",
       "    </tr>\n",
       "    <tr>\n",
       "      <th>63</th>\n",
       "      <td>CassioHuerta</td>\n",
       "      <td>Billboard Music Awards: Here are the top 10 hi...</td>\n",
       "      <td>Fresno, CA</td>\n",
       "      <td>Place(_api=&lt;tweepy.api.API object at 0x0000014...</td>\n",
       "    </tr>\n",
       "  </tbody>\n",
       "</table>\n",
       "</div>"
      ],
      "text/plain": [
       "              user                                               text  \\\n",
       "10   KindaCoolGreg  Jay-Z and XXXtentacion won #BBMAs for R&amp;B,...   \n",
       "26  OnAirWithVicki  My Top 5 #BBMAs OHMG! Moments: First, CONGRATS...   \n",
       "36       LeineFran  \"I just want to say that there are still 34 st...   \n",
       "37       jmgreen05  I know nothing about bts except #BBMAs https:/...   \n",
       "63    CassioHuerta  Billboard Music Awards: Here are the top 10 hi...   \n",
       "\n",
       "             location                                              place  \n",
       "10  $an Francisco, CA  Place(_api=<tweepy.api.API object at 0x0000014...  \n",
       "26     Sacramento, CA  Place(_api=<tweepy.api.API object at 0x0000014...  \n",
       "36        Alameda, CA  Place(_api=<tweepy.api.API object at 0x0000014...  \n",
       "37         California  Place(_api=<tweepy.api.API object at 0x0000014...  \n",
       "63         Fresno, CA  Place(_api=<tweepy.api.API object at 0x0000014...  "
      ]
     },
     "execution_count": 70,
     "metadata": {},
     "output_type": "execute_result"
    }
   ],
   "source": [
    "df_result[df_result['place'].notna()].head()"
   ]
  },
  {
   "cell_type": "markdown",
   "metadata": {},
   "source": [
    "### 3.3 check how many tweets are geotagged"
   ]
  },
  {
   "cell_type": "code",
   "execution_count": 71,
   "metadata": {},
   "outputs": [
    {
     "name": "stdout",
     "output_type": "stream",
     "text": [
      "59 out of the 734 retrieved tweets actually have geotags\n"
     ]
    }
   ],
   "source": [
    "all_tweets = len(df_result[df_result['place'].notna()]) # all retrieved tweets\n",
    "geo_tweets = len(df_result) # tweets that actually have geotags.\n",
    "\n",
    "print(\"%s out of the %s retrieved tweets actually have geotags\" % (all_tweets, geo_tweets))"
   ]
  },
  {
   "cell_type": "markdown",
   "metadata": {},
   "source": [
    "#### Copy tweets with geotags to a new dataframe called \"geotags\""
   ]
  },
  {
   "cell_type": "code",
   "execution_count": 72,
   "metadata": {},
   "outputs": [],
   "source": [
    "geotags = df_result.loc[df_result['place'].notna()].copy()"
   ]
  },
  {
   "cell_type": "markdown",
   "metadata": {},
   "source": [
    "#### get their place and view where first 5 tweets are from"
   ]
  },
  {
   "cell_type": "code",
   "execution_count": 73,
   "metadata": {},
   "outputs": [],
   "source": [
    "geotags['place_name'] = geotags.place.apply(lambda s:s.name)"
   ]
  },
  {
   "cell_type": "code",
   "execution_count": 74,
   "metadata": {},
   "outputs": [
    {
     "data": {
      "text/html": [
       "<div>\n",
       "<style scoped>\n",
       "    .dataframe tbody tr th:only-of-type {\n",
       "        vertical-align: middle;\n",
       "    }\n",
       "\n",
       "    .dataframe tbody tr th {\n",
       "        vertical-align: top;\n",
       "    }\n",
       "\n",
       "    .dataframe thead th {\n",
       "        text-align: right;\n",
       "    }\n",
       "</style>\n",
       "<table border=\"1\" class=\"dataframe\">\n",
       "  <thead>\n",
       "    <tr style=\"text-align: right;\">\n",
       "      <th></th>\n",
       "      <th>user</th>\n",
       "      <th>text</th>\n",
       "      <th>location</th>\n",
       "      <th>place</th>\n",
       "      <th>place_name</th>\n",
       "    </tr>\n",
       "  </thead>\n",
       "  <tbody>\n",
       "    <tr>\n",
       "      <th>10</th>\n",
       "      <td>KindaCoolGreg</td>\n",
       "      <td>Jay-Z and XXXtentacion won #BBMAs for R&amp;amp;B,...</td>\n",
       "      <td>$an Francisco, CA</td>\n",
       "      <td>Place(_api=&lt;tweepy.api.API object at 0x0000014...</td>\n",
       "      <td>San Francisco</td>\n",
       "    </tr>\n",
       "    <tr>\n",
       "      <th>26</th>\n",
       "      <td>OnAirWithVicki</td>\n",
       "      <td>My Top 5 #BBMAs OHMG! Moments: First, CONGRATS...</td>\n",
       "      <td>Sacramento, CA</td>\n",
       "      <td>Place(_api=&lt;tweepy.api.API object at 0x0000014...</td>\n",
       "      <td>Sacramento</td>\n",
       "    </tr>\n",
       "    <tr>\n",
       "      <th>36</th>\n",
       "      <td>LeineFran</td>\n",
       "      <td>\"I just want to say that there are still 34 st...</td>\n",
       "      <td>Alameda, CA</td>\n",
       "      <td>Place(_api=&lt;tweepy.api.API object at 0x0000014...</td>\n",
       "      <td>Alameda</td>\n",
       "    </tr>\n",
       "    <tr>\n",
       "      <th>37</th>\n",
       "      <td>jmgreen05</td>\n",
       "      <td>I know nothing about bts except #BBMAs https:/...</td>\n",
       "      <td>California</td>\n",
       "      <td>Place(_api=&lt;tweepy.api.API object at 0x0000014...</td>\n",
       "      <td>Oakdale</td>\n",
       "    </tr>\n",
       "    <tr>\n",
       "      <th>63</th>\n",
       "      <td>CassioHuerta</td>\n",
       "      <td>Billboard Music Awards: Here are the top 10 hi...</td>\n",
       "      <td>Fresno, CA</td>\n",
       "      <td>Place(_api=&lt;tweepy.api.API object at 0x0000014...</td>\n",
       "      <td>Fresno</td>\n",
       "    </tr>\n",
       "  </tbody>\n",
       "</table>\n",
       "</div>"
      ],
      "text/plain": [
       "              user                                               text  \\\n",
       "10   KindaCoolGreg  Jay-Z and XXXtentacion won #BBMAs for R&amp;B,...   \n",
       "26  OnAirWithVicki  My Top 5 #BBMAs OHMG! Moments: First, CONGRATS...   \n",
       "36       LeineFran  \"I just want to say that there are still 34 st...   \n",
       "37       jmgreen05  I know nothing about bts except #BBMAs https:/...   \n",
       "63    CassioHuerta  Billboard Music Awards: Here are the top 10 hi...   \n",
       "\n",
       "             location                                              place  \\\n",
       "10  $an Francisco, CA  Place(_api=<tweepy.api.API object at 0x0000014...   \n",
       "26     Sacramento, CA  Place(_api=<tweepy.api.API object at 0x0000014...   \n",
       "36        Alameda, CA  Place(_api=<tweepy.api.API object at 0x0000014...   \n",
       "37         California  Place(_api=<tweepy.api.API object at 0x0000014...   \n",
       "63         Fresno, CA  Place(_api=<tweepy.api.API object at 0x0000014...   \n",
       "\n",
       "       place_name  \n",
       "10  San Francisco  \n",
       "26     Sacramento  \n",
       "36        Alameda  \n",
       "37        Oakdale  \n",
       "63         Fresno  "
      ]
     },
     "execution_count": 74,
     "metadata": {},
     "output_type": "execute_result"
    }
   ],
   "source": [
    "geotags.head()"
   ]
  },
  {
   "cell_type": "markdown",
   "metadata": {},
   "source": [
    "#### Check place information and parse them into dataframe"
   ]
  },
  {
   "cell_type": "code",
   "execution_count": 75,
   "metadata": {
    "scrolled": false
   },
   "outputs": [
    {
     "data": {
      "text/plain": [
       "Place(_api=<tweepy.api.API object at 0x0000014B72CAC080>, id='5a110d312052166f', url='https://api.twitter.com/1.1/geo/id/5a110d312052166f.json', place_type='city', name='San Francisco', full_name='San Francisco, CA', country_code='US', country='United States', contained_within=[], bounding_box=BoundingBox(_api=<tweepy.api.API object at 0x0000014B72CAC080>, type='Polygon', coordinates=[[[-122.514926, 37.708075], [-122.357031, 37.708075], [-122.357031, 37.833238], [-122.514926, 37.833238]]]), attributes={})"
      ]
     },
     "execution_count": 75,
     "metadata": {},
     "output_type": "execute_result"
    }
   ],
   "source": [
    "geotags.place[min(geotags.index)]"
   ]
  },
  {
   "cell_type": "markdown",
   "metadata": {},
   "source": [
    "#### Print the bounding box of the geotag"
   ]
  },
  {
   "cell_type": "code",
   "execution_count": 76,
   "metadata": {
    "scrolled": true
   },
   "outputs": [
    {
     "data": {
      "text/plain": [
       "BoundingBox(_api=<tweepy.api.API object at 0x0000014B72CAC080>, type='Polygon', coordinates=[[[-122.514926, 37.708075], [-122.357031, 37.708075], [-122.357031, 37.833238], [-122.514926, 37.833238]]])"
      ]
     },
     "execution_count": 76,
     "metadata": {},
     "output_type": "execute_result"
    }
   ],
   "source": [
    "geotags.place[min(geotags.index)].bounding_box"
   ]
  },
  {
   "cell_type": "markdown",
   "metadata": {},
   "source": [
    "###### Print the coordinates of the bounding box"
   ]
  },
  {
   "cell_type": "code",
   "execution_count": 77,
   "metadata": {},
   "outputs": [
    {
     "data": {
      "text/plain": [
       "[[-122.514926, 37.708075],\n",
       " [-122.357031, 37.708075],\n",
       " [-122.357031, 37.833238],\n",
       " [-122.514926, 37.833238]]"
      ]
     },
     "execution_count": 77,
     "metadata": {},
     "output_type": "execute_result"
    }
   ],
   "source": [
    "geotags.place[min(geotags.index)].bounding_box.coordinates[0]"
   ]
  },
  {
   "cell_type": "markdown",
   "metadata": {},
   "source": [
    "#### Generate a column called bounding_box to restore bounding box information"
   ]
  },
  {
   "cell_type": "code",
   "execution_count": 78,
   "metadata": {},
   "outputs": [],
   "source": [
    "geotags['bounding_box'] = geotags.place.apply(lambda s:s.bounding_box.coordinates[0])"
   ]
  },
  {
   "cell_type": "code",
   "execution_count": 79,
   "metadata": {},
   "outputs": [
    {
     "data": {
      "text/html": [
       "<div>\n",
       "<style scoped>\n",
       "    .dataframe tbody tr th:only-of-type {\n",
       "        vertical-align: middle;\n",
       "    }\n",
       "\n",
       "    .dataframe tbody tr th {\n",
       "        vertical-align: top;\n",
       "    }\n",
       "\n",
       "    .dataframe thead th {\n",
       "        text-align: right;\n",
       "    }\n",
       "</style>\n",
       "<table border=\"1\" class=\"dataframe\">\n",
       "  <thead>\n",
       "    <tr style=\"text-align: right;\">\n",
       "      <th></th>\n",
       "      <th>user</th>\n",
       "      <th>text</th>\n",
       "      <th>location</th>\n",
       "      <th>place</th>\n",
       "      <th>place_name</th>\n",
       "      <th>bounding_box</th>\n",
       "    </tr>\n",
       "  </thead>\n",
       "  <tbody>\n",
       "    <tr>\n",
       "      <th>10</th>\n",
       "      <td>KindaCoolGreg</td>\n",
       "      <td>Jay-Z and XXXtentacion won #BBMAs for R&amp;amp;B,...</td>\n",
       "      <td>$an Francisco, CA</td>\n",
       "      <td>Place(_api=&lt;tweepy.api.API object at 0x0000014...</td>\n",
       "      <td>San Francisco</td>\n",
       "      <td>[[-122.514926, 37.708075], [-122.357031, 37.70...</td>\n",
       "    </tr>\n",
       "    <tr>\n",
       "      <th>26</th>\n",
       "      <td>OnAirWithVicki</td>\n",
       "      <td>My Top 5 #BBMAs OHMG! Moments: First, CONGRATS...</td>\n",
       "      <td>Sacramento, CA</td>\n",
       "      <td>Place(_api=&lt;tweepy.api.API object at 0x0000014...</td>\n",
       "      <td>Sacramento</td>\n",
       "      <td>[[-121.576613, 38.43792], [-121.362715, 38.437...</td>\n",
       "    </tr>\n",
       "    <tr>\n",
       "      <th>36</th>\n",
       "      <td>LeineFran</td>\n",
       "      <td>\"I just want to say that there are still 34 st...</td>\n",
       "      <td>Alameda, CA</td>\n",
       "      <td>Place(_api=&lt;tweepy.api.API object at 0x0000014...</td>\n",
       "      <td>Alameda</td>\n",
       "      <td>[[-122.332411, 37.720367], [-122.224562, 37.72...</td>\n",
       "    </tr>\n",
       "    <tr>\n",
       "      <th>37</th>\n",
       "      <td>jmgreen05</td>\n",
       "      <td>I know nothing about bts except #BBMAs https:/...</td>\n",
       "      <td>California</td>\n",
       "      <td>Place(_api=&lt;tweepy.api.API object at 0x0000014...</td>\n",
       "      <td>Oakdale</td>\n",
       "      <td>[[-120.905115, 37.741191], [-120.821891, 37.74...</td>\n",
       "    </tr>\n",
       "    <tr>\n",
       "      <th>63</th>\n",
       "      <td>CassioHuerta</td>\n",
       "      <td>Billboard Music Awards: Here are the top 10 hi...</td>\n",
       "      <td>Fresno, CA</td>\n",
       "      <td>Place(_api=&lt;tweepy.api.API object at 0x0000014...</td>\n",
       "      <td>Fresno</td>\n",
       "      <td>[[-119.93251, 36.648905], [-119.632419, 36.648...</td>\n",
       "    </tr>\n",
       "  </tbody>\n",
       "</table>\n",
       "</div>"
      ],
      "text/plain": [
       "              user                                               text  \\\n",
       "10   KindaCoolGreg  Jay-Z and XXXtentacion won #BBMAs for R&amp;B,...   \n",
       "26  OnAirWithVicki  My Top 5 #BBMAs OHMG! Moments: First, CONGRATS...   \n",
       "36       LeineFran  \"I just want to say that there are still 34 st...   \n",
       "37       jmgreen05  I know nothing about bts except #BBMAs https:/...   \n",
       "63    CassioHuerta  Billboard Music Awards: Here are the top 10 hi...   \n",
       "\n",
       "             location                                              place  \\\n",
       "10  $an Francisco, CA  Place(_api=<tweepy.api.API object at 0x0000014...   \n",
       "26     Sacramento, CA  Place(_api=<tweepy.api.API object at 0x0000014...   \n",
       "36        Alameda, CA  Place(_api=<tweepy.api.API object at 0x0000014...   \n",
       "37         California  Place(_api=<tweepy.api.API object at 0x0000014...   \n",
       "63         Fresno, CA  Place(_api=<tweepy.api.API object at 0x0000014...   \n",
       "\n",
       "       place_name                                       bounding_box  \n",
       "10  San Francisco  [[-122.514926, 37.708075], [-122.357031, 37.70...  \n",
       "26     Sacramento  [[-121.576613, 38.43792], [-121.362715, 38.437...  \n",
       "36        Alameda  [[-122.332411, 37.720367], [-122.224562, 37.72...  \n",
       "37        Oakdale  [[-120.905115, 37.741191], [-120.821891, 37.74...  \n",
       "63         Fresno  [[-119.93251, 36.648905], [-119.632419, 36.648...  "
      ]
     },
     "execution_count": 79,
     "metadata": {},
     "output_type": "execute_result"
    }
   ],
   "source": [
    "geotags.head()"
   ]
  },
  {
   "cell_type": "markdown",
   "metadata": {},
   "source": [
    "#### Parse the latitude and longitude hidden in the bounding box, finally check the dataframe"
   ]
  },
  {
   "cell_type": "markdown",
   "metadata": {},
   "source": [
    "Store the centroids in a column 'point'"
   ]
  },
  {
   "cell_type": "code",
   "execution_count": 80,
   "metadata": {},
   "outputs": [],
   "source": [
    "geotags['point']  = geotags['bounding_box'].apply(lambda s: [(s[0][1]+s[2][1])/2,(s[0][0]+s[2][0])/2])"
   ]
  },
  {
   "cell_type": "markdown",
   "metadata": {},
   "source": [
    "Store the latitude of the centroids in the column 'lat'"
   ]
  },
  {
   "cell_type": "code",
   "execution_count": 81,
   "metadata": {},
   "outputs": [],
   "source": [
    "geotags['lat']  = geotags['bounding_box'].apply(lambda s: (s[0][1]+s[2][1])/2)"
   ]
  },
  {
   "cell_type": "markdown",
   "metadata": {},
   "source": [
    "Store the longitude of the centroids in the column 'lon'"
   ]
  },
  {
   "cell_type": "code",
   "execution_count": 82,
   "metadata": {},
   "outputs": [],
   "source": [
    "geotags['lon']  = geotags['bounding_box'].apply(lambda s: (s[0][0]+s[2][0])/2)"
   ]
  },
  {
   "cell_type": "markdown",
   "metadata": {},
   "source": [
    "Print to see the dataframe again.\n",
    "\n",
    "You'll see the centroids, latitude, and longitude are added as columns in the dataframe.\n",
    "\n",
    "Note: the point column is an redundancy of the lat and lon columns. We create all these columns just for demonstration of mapping in the next step."
   ]
  },
  {
   "cell_type": "code",
   "execution_count": 83,
   "metadata": {},
   "outputs": [
    {
     "data": {
      "text/html": [
       "<div>\n",
       "<style scoped>\n",
       "    .dataframe tbody tr th:only-of-type {\n",
       "        vertical-align: middle;\n",
       "    }\n",
       "\n",
       "    .dataframe tbody tr th {\n",
       "        vertical-align: top;\n",
       "    }\n",
       "\n",
       "    .dataframe thead th {\n",
       "        text-align: right;\n",
       "    }\n",
       "</style>\n",
       "<table border=\"1\" class=\"dataframe\">\n",
       "  <thead>\n",
       "    <tr style=\"text-align: right;\">\n",
       "      <th></th>\n",
       "      <th>user</th>\n",
       "      <th>text</th>\n",
       "      <th>location</th>\n",
       "      <th>place</th>\n",
       "      <th>place_name</th>\n",
       "      <th>bounding_box</th>\n",
       "      <th>point</th>\n",
       "      <th>lat</th>\n",
       "      <th>lon</th>\n",
       "    </tr>\n",
       "  </thead>\n",
       "  <tbody>\n",
       "    <tr>\n",
       "      <th>10</th>\n",
       "      <td>KindaCoolGreg</td>\n",
       "      <td>Jay-Z and XXXtentacion won #BBMAs for R&amp;amp;B,...</td>\n",
       "      <td>$an Francisco, CA</td>\n",
       "      <td>Place(_api=&lt;tweepy.api.API object at 0x0000014...</td>\n",
       "      <td>San Francisco</td>\n",
       "      <td>[[-122.514926, 37.708075], [-122.357031, 37.70...</td>\n",
       "      <td>[37.7706565, -122.4359785]</td>\n",
       "      <td>37.770657</td>\n",
       "      <td>-122.435979</td>\n",
       "    </tr>\n",
       "    <tr>\n",
       "      <th>26</th>\n",
       "      <td>OnAirWithVicki</td>\n",
       "      <td>My Top 5 #BBMAs OHMG! Moments: First, CONGRATS...</td>\n",
       "      <td>Sacramento, CA</td>\n",
       "      <td>Place(_api=&lt;tweepy.api.API object at 0x0000014...</td>\n",
       "      <td>Sacramento</td>\n",
       "      <td>[[-121.576613, 38.43792], [-121.362715, 38.437...</td>\n",
       "      <td>[38.5617218, -121.469664]</td>\n",
       "      <td>38.561722</td>\n",
       "      <td>-121.469664</td>\n",
       "    </tr>\n",
       "    <tr>\n",
       "      <th>36</th>\n",
       "      <td>LeineFran</td>\n",
       "      <td>\"I just want to say that there are still 34 st...</td>\n",
       "      <td>Alameda, CA</td>\n",
       "      <td>Place(_api=&lt;tweepy.api.API object at 0x0000014...</td>\n",
       "      <td>Alameda</td>\n",
       "      <td>[[-122.332411, 37.720367], [-122.224562, 37.72...</td>\n",
       "      <td>[37.758798, -122.2784865]</td>\n",
       "      <td>37.758798</td>\n",
       "      <td>-122.278486</td>\n",
       "    </tr>\n",
       "    <tr>\n",
       "      <th>37</th>\n",
       "      <td>jmgreen05</td>\n",
       "      <td>I know nothing about bts except #BBMAs https:/...</td>\n",
       "      <td>California</td>\n",
       "      <td>Place(_api=&lt;tweepy.api.API object at 0x0000014...</td>\n",
       "      <td>Oakdale</td>\n",
       "      <td>[[-120.905115, 37.741191], [-120.821891, 37.74...</td>\n",
       "      <td>[37.7624945, -120.863503]</td>\n",
       "      <td>37.762495</td>\n",
       "      <td>-120.863503</td>\n",
       "    </tr>\n",
       "    <tr>\n",
       "      <th>63</th>\n",
       "      <td>CassioHuerta</td>\n",
       "      <td>Billboard Music Awards: Here are the top 10 hi...</td>\n",
       "      <td>Fresno, CA</td>\n",
       "      <td>Place(_api=&lt;tweepy.api.API object at 0x0000014...</td>\n",
       "      <td>Fresno</td>\n",
       "      <td>[[-119.93251, 36.648905], [-119.632419, 36.648...</td>\n",
       "      <td>[36.786041999999995, -119.7824645]</td>\n",
       "      <td>36.786042</td>\n",
       "      <td>-119.782465</td>\n",
       "    </tr>\n",
       "  </tbody>\n",
       "</table>\n",
       "</div>"
      ],
      "text/plain": [
       "              user                                               text  \\\n",
       "10   KindaCoolGreg  Jay-Z and XXXtentacion won #BBMAs for R&amp;B,...   \n",
       "26  OnAirWithVicki  My Top 5 #BBMAs OHMG! Moments: First, CONGRATS...   \n",
       "36       LeineFran  \"I just want to say that there are still 34 st...   \n",
       "37       jmgreen05  I know nothing about bts except #BBMAs https:/...   \n",
       "63    CassioHuerta  Billboard Music Awards: Here are the top 10 hi...   \n",
       "\n",
       "             location                                              place  \\\n",
       "10  $an Francisco, CA  Place(_api=<tweepy.api.API object at 0x0000014...   \n",
       "26     Sacramento, CA  Place(_api=<tweepy.api.API object at 0x0000014...   \n",
       "36        Alameda, CA  Place(_api=<tweepy.api.API object at 0x0000014...   \n",
       "37         California  Place(_api=<tweepy.api.API object at 0x0000014...   \n",
       "63         Fresno, CA  Place(_api=<tweepy.api.API object at 0x0000014...   \n",
       "\n",
       "       place_name                                       bounding_box  \\\n",
       "10  San Francisco  [[-122.514926, 37.708075], [-122.357031, 37.70...   \n",
       "26     Sacramento  [[-121.576613, 38.43792], [-121.362715, 38.437...   \n",
       "36        Alameda  [[-122.332411, 37.720367], [-122.224562, 37.72...   \n",
       "37        Oakdale  [[-120.905115, 37.741191], [-120.821891, 37.74...   \n",
       "63         Fresno  [[-119.93251, 36.648905], [-119.632419, 36.648...   \n",
       "\n",
       "                                 point        lat         lon  \n",
       "10          [37.7706565, -122.4359785]  37.770657 -122.435979  \n",
       "26           [38.5617218, -121.469664]  38.561722 -121.469664  \n",
       "36           [37.758798, -122.2784865]  37.758798 -122.278486  \n",
       "37           [37.7624945, -120.863503]  37.762495 -120.863503  \n",
       "63  [36.786041999999995, -119.7824645]  36.786042 -119.782465  "
      ]
     },
     "execution_count": 83,
     "metadata": {},
     "output_type": "execute_result"
    }
   ],
   "source": [
    "geotags.head()"
   ]
  },
  {
   "cell_type": "markdown",
   "metadata": {},
   "source": [
    "---"
   ]
  },
  {
   "cell_type": "markdown",
   "metadata": {},
   "source": [
    "## 4. Spatial visualization using folium package"
   ]
  },
  {
   "cell_type": "markdown",
   "metadata": {},
   "source": [
    "Import the folium package to create an interactive map."
   ]
  },
  {
   "cell_type": "code",
   "execution_count": 84,
   "metadata": {},
   "outputs": [],
   "source": [
    "import folium"
   ]
  },
  {
   "cell_type": "markdown",
   "metadata": {},
   "source": [
    "Create a basemap."
   ]
  },
  {
   "cell_type": "code",
   "execution_count": 85,
   "metadata": {},
   "outputs": [],
   "source": [
    "#oahu = folium.Map(location = [21.473,-157.9868],zoom_start = 10)\n",
    "maptweet = folium.Map()"
   ]
  },
  {
   "cell_type": "markdown",
   "metadata": {},
   "source": [
    "Add the tweets into the basemap"
   ]
  },
  {
   "cell_type": "code",
   "execution_count": 86,
   "metadata": {
    "scrolled": true
   },
   "outputs": [],
   "source": [
    "for i, row in geotags.iterrows():\n",
    "    folium.Marker(row.point,popup = row.text).add_to(maptweet)"
   ]
  },
  {
   "cell_type": "markdown",
   "metadata": {},
   "source": [
    "Zoom closer into the tweets"
   ]
  },
  {
   "cell_type": "code",
   "execution_count": 87,
   "metadata": {},
   "outputs": [],
   "source": [
    "maptweet.fit_bounds([[min(geotags.lat),min(geotags.lon)],[max(geotags.lat),max(geotags.lon)]])"
   ]
  },
  {
   "cell_type": "code",
   "execution_count": 88,
   "metadata": {},
   "outputs": [
    {
     "data": {
      "text/html": [
       "<div style=\"width:100%;\"><div style=\"position:relative;width:100%;height:0;padding-bottom:60%;\"><iframe src=\"data:text/html;charset=utf-8;base64,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\" style=\"position:absolute;width:100%;height:100%;left:0;top:0;border:none !important;\" allowfullscreen webkitallowfullscreen mozallowfullscreen></iframe></div></div>"
      ],
      "text/plain": [
       "<folium.folium.Map at 0x14b74d1f518>"
      ]
     },
     "metadata": {},
     "output_type": "display_data"
    }
   ],
   "source": [
    "display(maptweet)"
   ]
  }
 ],
 "metadata": {
  "kernelspec": {
   "display_name": "Python 3",
   "language": "python",
   "name": "python3"
  },
  "language_info": {
   "codemirror_mode": {
    "name": "ipython",
    "version": 3
   },
   "file_extension": ".py",
   "mimetype": "text/x-python",
   "name": "python",
   "nbconvert_exporter": "python",
   "pygments_lexer": "ipython3",
   "version": "3.7.1"
  }
 },
 "nbformat": 4,
 "nbformat_minor": 2
}
