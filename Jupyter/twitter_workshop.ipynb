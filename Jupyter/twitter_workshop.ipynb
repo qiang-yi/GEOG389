{
 "cells": [
  {
   "cell_type": "markdown",
   "metadata": {},
   "source": [
    "# Workshop on Spatial Analysis of Twitter"
   ]
  },
  {
   "cell_type": "markdown",
   "metadata": {},
   "source": [
    "This workshop demonstrates the process of acquiring Twitter data using the search API and conduct simple spatial analyses on the data.\n",
    "\n",
    "This workshop requires Anaconda3 (64-bit Python 3.7) installed in your computer.\n",
    "\n",
    "You can access to this website from https://bit.ly/2GQ13hl"
   ]
  },
  {
   "cell_type": "markdown",
   "metadata": {},
   "source": [
    "## 1. Preparation"
   ]
  },
  {
   "cell_type": "markdown",
   "metadata": {},
   "source": [
    "Install packages needed for this workshop."
   ]
  },
  {
   "cell_type": "code",
   "execution_count": null,
   "metadata": {},
   "outputs": [],
   "source": [
    "!pip install tweepy"
   ]
  },
  {
   "cell_type": "code",
   "execution_count": null,
   "metadata": {},
   "outputs": [],
   "source": [
    "!pip install folium"
   ]
  },
  {
   "cell_type": "markdown",
   "metadata": {},
   "source": [
    "Import packages needed for this tutorial"
   ]
  },
  {
   "cell_type": "code",
   "execution_count": 10,
   "metadata": {},
   "outputs": [],
   "source": [
    "# Run the following lines if there is an error loading basemap\n",
    "#import os\n",
    "#os.environ['PROJ_LIB'] = '~your anaconda 3 path/Anaconda3/Library/share/'\n",
    "\n",
    "import tweepy\n",
    "import pandas as pd\n",
    "#from mpl_toolkits.basemap import Basemap\n",
    "import matplotlib.pyplot as plt"
   ]
  },
  {
   "cell_type": "markdown",
   "metadata": {},
   "source": [
    "Go to this website for generating an App and get its keys and token: https://developer.twitter.com/en/apps"
   ]
  },
  {
   "cell_type": "markdown",
   "metadata": {},
   "source": [
    "**Note:** The following keys have been disabled after the class. Please use your own keys when your application is approved.\n",
    "\n",
    "You may receive an email from Twitter asking the purpose of your use. You can write a short paragraph to describe what you will do with the API keys. It will be approved shortly."
   ]
  },
  {
   "cell_type": "code",
   "execution_count": 11,
   "metadata": {},
   "outputs": [],
   "source": [
    "# paste your key and secret here.\n",
    "consumer_key= 'IT9yubjxNOusT53Lwuw1FBsUJ'\n",
    "consumer_secret= 'tTgF1sXtwTLpyMe4wG0BjHwtZYnhHVbrzBkCO1I2rjfbEOBV7S'\n",
    "access_token= '138517960-mSEuALd0XWCfmZRuPRvX7wmYLcS48RChVTL9AY8N'\n",
    "access_token_secret= 'LosmBcEdPKiEOYXL51Eu7U6IrO1cMFGYEKVcED5k7gvvN'"
   ]
  },
  {
   "cell_type": "code",
   "execution_count": 12,
   "metadata": {},
   "outputs": [],
   "source": [
    "# Set up for Twitter authentication\n",
    "auth = tweepy.OAuthHandler(consumer_key, consumer_secret)\n",
    "auth.set_access_token(access_token, access_token_secret)"
   ]
  },
  {
   "cell_type": "code",
   "execution_count": 13,
   "metadata": {},
   "outputs": [],
   "source": [
    "# Set up tweepy API and set rate limit to be true\n",
    "api = tweepy.API(auth, wait_on_rate_limit=True)"
   ]
  },
  {
   "cell_type": "markdown",
   "metadata": {},
   "source": [
    "---"
   ]
  },
  {
   "cell_type": "markdown",
   "metadata": {},
   "source": [
    "## 2. Programmatic Manipulation of Twitter\n",
    "\n",
    "Now, your working environment is ready for Twitter analysis.\n",
    "\n",
    "Let's first try a few simple operations in Twitter in a programmatic way.\n",
    "\n",
    "The full functionalities of Twitter API and Tweepy can be found in:\n",
    "\n",
    "- [Twitter APIs](https://developer.twitter.com/en/docs.html)\n",
    "- [Tweepy documentation](http://docs.tweepy.org/en/v3.5.0/)"
   ]
  },
  {
   "cell_type": "markdown",
   "metadata": {},
   "source": [
    "First, let's post a message in Twitter.\n",
    "\n",
    "**Note**: if you don't want to disturb with your followers with a meanless tweet, don't run the following block of code."
   ]
  },
  {
   "cell_type": "code",
   "execution_count": 14,
   "metadata": {},
   "outputs": [],
   "source": [
    "# Post a tweet from Python\n",
    "test_tweet = api.update_status(\"DRILL: I'm creating a robot to tweet\")"
   ]
  },
  {
   "cell_type": "markdown",
   "metadata": {},
   "source": [
    "Delete the tweet you just posted."
   ]
  },
  {
   "cell_type": "code",
   "execution_count": 15,
   "metadata": {},
   "outputs": [
    {
     "data": {
      "text/plain": [
       "Status(_api=<tweepy.api.API object at 0x0000021B23DAB860>, _json={'created_at': 'Thu May 02 21:01:56 +0000 2019', 'id': 1124056449016004608, 'id_str': '1124056449016004608', 'text': \"DRILL: I'm creating a robot to tweet\", 'truncated': False, 'entities': {'hashtags': [], 'symbols': [], 'user_mentions': [], 'urls': []}, 'source': '<a href=\"https://github.com/qiang-yi\" rel=\"nofollow\">Yi Qiang</a>', 'in_reply_to_status_id': None, 'in_reply_to_status_id_str': None, 'in_reply_to_user_id': None, 'in_reply_to_user_id_str': None, 'in_reply_to_screen_name': None, 'user': {'id': 138517960, 'id_str': '138517960', 'name': 'Yi Qiang', 'screen_name': 'yiqiang_gis', 'location': 'Honolulu, HI', 'description': 'Assistant professor at University of Hawaii-Manoa. Interested in data-driven geographical research.', 'url': None, 'entities': {'description': {'urls': []}}, 'protected': False, 'followers_count': 15, 'friends_count': 30, 'listed_count': 0, 'created_at': 'Thu Apr 29 19:46:06 +0000 2010', 'favourites_count': 8, 'utc_offset': None, 'time_zone': None, 'geo_enabled': False, 'verified': False, 'statuses_count': 5, 'lang': 'en', 'contributors_enabled': False, 'is_translator': False, 'is_translation_enabled': False, 'profile_background_color': 'C0DEED', 'profile_background_image_url': 'http://abs.twimg.com/images/themes/theme1/bg.png', 'profile_background_image_url_https': 'https://abs.twimg.com/images/themes/theme1/bg.png', 'profile_background_tile': False, 'profile_image_url': 'http://pbs.twimg.com/profile_images/1116954001809928193/BDSThrbT_normal.jpg', 'profile_image_url_https': 'https://pbs.twimg.com/profile_images/1116954001809928193/BDSThrbT_normal.jpg', 'profile_link_color': '1DA1F2', 'profile_sidebar_border_color': 'C0DEED', 'profile_sidebar_fill_color': 'DDEEF6', 'profile_text_color': '333333', 'profile_use_background_image': True, 'has_extended_profile': False, 'default_profile': True, 'default_profile_image': False, 'following': False, 'follow_request_sent': False, 'notifications': False, 'translator_type': 'none'}, 'geo': None, 'coordinates': None, 'place': None, 'contributors': None, 'is_quote_status': False, 'retweet_count': 0, 'favorite_count': 0, 'favorited': False, 'retweeted': False, 'lang': 'en'}, created_at=datetime.datetime(2019, 5, 2, 21, 1, 56), id=1124056449016004608, id_str='1124056449016004608', text=\"DRILL: I'm creating a robot to tweet\", truncated=False, entities={'hashtags': [], 'symbols': [], 'user_mentions': [], 'urls': []}, source='Yi Qiang', source_url='https://github.com/qiang-yi', in_reply_to_status_id=None, in_reply_to_status_id_str=None, in_reply_to_user_id=None, in_reply_to_user_id_str=None, in_reply_to_screen_name=None, author=User(_api=<tweepy.api.API object at 0x0000021B23DAB860>, _json={'id': 138517960, 'id_str': '138517960', 'name': 'Yi Qiang', 'screen_name': 'yiqiang_gis', 'location': 'Honolulu, HI', 'description': 'Assistant professor at University of Hawaii-Manoa. Interested in data-driven geographical research.', 'url': None, 'entities': {'description': {'urls': []}}, 'protected': False, 'followers_count': 15, 'friends_count': 30, 'listed_count': 0, 'created_at': 'Thu Apr 29 19:46:06 +0000 2010', 'favourites_count': 8, 'utc_offset': None, 'time_zone': None, 'geo_enabled': False, 'verified': False, 'statuses_count': 5, 'lang': 'en', 'contributors_enabled': False, 'is_translator': False, 'is_translation_enabled': False, 'profile_background_color': 'C0DEED', 'profile_background_image_url': 'http://abs.twimg.com/images/themes/theme1/bg.png', 'profile_background_image_url_https': 'https://abs.twimg.com/images/themes/theme1/bg.png', 'profile_background_tile': False, 'profile_image_url': 'http://pbs.twimg.com/profile_images/1116954001809928193/BDSThrbT_normal.jpg', 'profile_image_url_https': 'https://pbs.twimg.com/profile_images/1116954001809928193/BDSThrbT_normal.jpg', 'profile_link_color': '1DA1F2', 'profile_sidebar_border_color': 'C0DEED', 'profile_sidebar_fill_color': 'DDEEF6', 'profile_text_color': '333333', 'profile_use_background_image': True, 'has_extended_profile': False, 'default_profile': True, 'default_profile_image': False, 'following': False, 'follow_request_sent': False, 'notifications': False, 'translator_type': 'none'}, id=138517960, id_str='138517960', name='Yi Qiang', screen_name='yiqiang_gis', location='Honolulu, HI', description='Assistant professor at University of Hawaii-Manoa. Interested in data-driven geographical research.', url=None, entities={'description': {'urls': []}}, protected=False, followers_count=15, friends_count=30, listed_count=0, created_at=datetime.datetime(2010, 4, 29, 19, 46, 6), favourites_count=8, utc_offset=None, time_zone=None, geo_enabled=False, verified=False, statuses_count=5, lang='en', contributors_enabled=False, is_translator=False, is_translation_enabled=False, profile_background_color='C0DEED', profile_background_image_url='http://abs.twimg.com/images/themes/theme1/bg.png', profile_background_image_url_https='https://abs.twimg.com/images/themes/theme1/bg.png', profile_background_tile=False, profile_image_url='http://pbs.twimg.com/profile_images/1116954001809928193/BDSThrbT_normal.jpg', profile_image_url_https='https://pbs.twimg.com/profile_images/1116954001809928193/BDSThrbT_normal.jpg', profile_link_color='1DA1F2', profile_sidebar_border_color='C0DEED', profile_sidebar_fill_color='DDEEF6', profile_text_color='333333', profile_use_background_image=True, has_extended_profile=False, default_profile=True, default_profile_image=False, following=False, follow_request_sent=False, notifications=False, translator_type='none'), user=User(_api=<tweepy.api.API object at 0x0000021B23DAB860>, _json={'id': 138517960, 'id_str': '138517960', 'name': 'Yi Qiang', 'screen_name': 'yiqiang_gis', 'location': 'Honolulu, HI', 'description': 'Assistant professor at University of Hawaii-Manoa. Interested in data-driven geographical research.', 'url': None, 'entities': {'description': {'urls': []}}, 'protected': False, 'followers_count': 15, 'friends_count': 30, 'listed_count': 0, 'created_at': 'Thu Apr 29 19:46:06 +0000 2010', 'favourites_count': 8, 'utc_offset': None, 'time_zone': None, 'geo_enabled': False, 'verified': False, 'statuses_count': 5, 'lang': 'en', 'contributors_enabled': False, 'is_translator': False, 'is_translation_enabled': False, 'profile_background_color': 'C0DEED', 'profile_background_image_url': 'http://abs.twimg.com/images/themes/theme1/bg.png', 'profile_background_image_url_https': 'https://abs.twimg.com/images/themes/theme1/bg.png', 'profile_background_tile': False, 'profile_image_url': 'http://pbs.twimg.com/profile_images/1116954001809928193/BDSThrbT_normal.jpg', 'profile_image_url_https': 'https://pbs.twimg.com/profile_images/1116954001809928193/BDSThrbT_normal.jpg', 'profile_link_color': '1DA1F2', 'profile_sidebar_border_color': 'C0DEED', 'profile_sidebar_fill_color': 'DDEEF6', 'profile_text_color': '333333', 'profile_use_background_image': True, 'has_extended_profile': False, 'default_profile': True, 'default_profile_image': False, 'following': False, 'follow_request_sent': False, 'notifications': False, 'translator_type': 'none'}, id=138517960, id_str='138517960', name='Yi Qiang', screen_name='yiqiang_gis', location='Honolulu, HI', description='Assistant professor at University of Hawaii-Manoa. Interested in data-driven geographical research.', url=None, entities={'description': {'urls': []}}, protected=False, followers_count=15, friends_count=30, listed_count=0, created_at=datetime.datetime(2010, 4, 29, 19, 46, 6), favourites_count=8, utc_offset=None, time_zone=None, geo_enabled=False, verified=False, statuses_count=5, lang='en', contributors_enabled=False, is_translator=False, is_translation_enabled=False, profile_background_color='C0DEED', profile_background_image_url='http://abs.twimg.com/images/themes/theme1/bg.png', profile_background_image_url_https='https://abs.twimg.com/images/themes/theme1/bg.png', profile_background_tile=False, profile_image_url='http://pbs.twimg.com/profile_images/1116954001809928193/BDSThrbT_normal.jpg', profile_image_url_https='https://pbs.twimg.com/profile_images/1116954001809928193/BDSThrbT_normal.jpg', profile_link_color='1DA1F2', profile_sidebar_border_color='C0DEED', profile_sidebar_fill_color='DDEEF6', profile_text_color='333333', profile_use_background_image=True, has_extended_profile=False, default_profile=True, default_profile_image=False, following=False, follow_request_sent=False, notifications=False, translator_type='none'), geo=None, coordinates=None, place=None, contributors=None, is_quote_status=False, retweet_count=0, favorite_count=0, favorited=False, retweeted=False, lang='en')"
      ]
     },
     "execution_count": 15,
     "metadata": {},
     "output_type": "execute_result"
    }
   ],
   "source": [
    "api.destroy_status(test_tweet.id_str)"
   ]
  },
  {
   "cell_type": "markdown",
   "metadata": {},
   "source": [
    "### 2.1 Get the first 100 retweets of a tweet"
   ]
  },
  {
   "cell_type": "markdown",
   "metadata": {},
   "source": [
    "You can get the tweet ID from the address box of a browser when you click into a tweet."
   ]
  },
  {
   "cell_type": "markdown",
   "metadata": {},
   "source": [
    "<img src='images/fig19.jpg' align='left' width='400'>"
   ]
  },
  {
   "cell_type": "markdown",
   "metadata": {},
   "source": [
    "Get the first 10 retweets of the tweet."
   ]
  },
  {
   "cell_type": "code",
   "execution_count": 16,
   "metadata": {},
   "outputs": [],
   "source": [
    "retweets_workshop = api.retweets(1122963268996354049,10)"
   ]
  },
  {
   "cell_type": "markdown",
   "metadata": {},
   "source": [
    "Get the username of the first retweet of the tweet"
   ]
  },
  {
   "cell_type": "code",
   "execution_count": 17,
   "metadata": {},
   "outputs": [
    {
     "data": {
      "text/plain": [
       "'Reece Jones'"
      ]
     },
     "execution_count": 17,
     "metadata": {},
     "output_type": "execute_result"
    }
   ],
   "source": [
    "retweets_workshop[0]._json['user']['name']"
   ]
  },
  {
   "cell_type": "markdown",
   "metadata": {},
   "source": [
    "Print usernames, names, and user locations of all retweets of the tweet.\n",
    "\n",
    "Note: Twitter API can only return the first 100 retweets."
   ]
  },
  {
   "cell_type": "code",
   "execution_count": 18,
   "metadata": {},
   "outputs": [
    {
     "data": {
      "text/plain": [
       "[['reecejhawaii', 'Reece Jones', 'Honolulu, HI'],\n",
       " ['Jinwen_X', 'Jinwen Xu', 'Honolulu, HI'],\n",
       " ['yiqiang_gis', 'Yi Qiang', 'Honolulu, HI']]"
      ]
     },
     "execution_count": 18,
     "metadata": {},
     "output_type": "execute_result"
    }
   ],
   "source": [
    "[[tweet.user.screen_name, tweet.user.name, tweet.user.location] for tweet in retweets_workshop]"
   ]
  },
  {
   "cell_type": "markdown",
   "metadata": {},
   "source": [
    "### 2.2 Current trends in the world"
   ]
  },
  {
   "cell_type": "markdown",
   "metadata": {},
   "source": [
    "Get the list of cities where trends are available"
   ]
  },
  {
   "cell_type": "code",
   "execution_count": 19,
   "metadata": {},
   "outputs": [],
   "source": [
    "city_ls = api.trends_available()"
   ]
  },
  {
   "cell_type": "markdown",
   "metadata": {},
   "source": [
    "Convert the list (in JSON format) into a dataframe (i.e. a table)."
   ]
  },
  {
   "cell_type": "code",
   "execution_count": 20,
   "metadata": {},
   "outputs": [],
   "source": [
    "df_city = pd.DataFrame(city_ls)"
   ]
  },
  {
   "cell_type": "markdown",
   "metadata": {},
   "source": [
    "Print the list of cities where trends are available"
   ]
  },
  {
   "cell_type": "code",
   "execution_count": 21,
   "metadata": {},
   "outputs": [
    {
     "data": {
      "text/html": [
       "<div>\n",
       "<style scoped>\n",
       "    .dataframe tbody tr th:only-of-type {\n",
       "        vertical-align: middle;\n",
       "    }\n",
       "\n",
       "    .dataframe tbody tr th {\n",
       "        vertical-align: top;\n",
       "    }\n",
       "\n",
       "    .dataframe thead th {\n",
       "        text-align: right;\n",
       "    }\n",
       "</style>\n",
       "<table border=\"1\" class=\"dataframe\">\n",
       "  <thead>\n",
       "    <tr style=\"text-align: right;\">\n",
       "      <th></th>\n",
       "      <th>country</th>\n",
       "      <th>countryCode</th>\n",
       "      <th>name</th>\n",
       "      <th>parentid</th>\n",
       "      <th>placeType</th>\n",
       "      <th>url</th>\n",
       "      <th>woeid</th>\n",
       "    </tr>\n",
       "  </thead>\n",
       "  <tbody>\n",
       "    <tr>\n",
       "      <th>0</th>\n",
       "      <td></td>\n",
       "      <td>None</td>\n",
       "      <td>Worldwide</td>\n",
       "      <td>0</td>\n",
       "      <td>{'code': 19, 'name': 'Supername'}</td>\n",
       "      <td>http://where.yahooapis.com/v1/place/1</td>\n",
       "      <td>1</td>\n",
       "    </tr>\n",
       "    <tr>\n",
       "      <th>1</th>\n",
       "      <td>Canada</td>\n",
       "      <td>CA</td>\n",
       "      <td>Winnipeg</td>\n",
       "      <td>23424775</td>\n",
       "      <td>{'code': 7, 'name': 'Town'}</td>\n",
       "      <td>http://where.yahooapis.com/v1/place/2972</td>\n",
       "      <td>2972</td>\n",
       "    </tr>\n",
       "    <tr>\n",
       "      <th>2</th>\n",
       "      <td>Canada</td>\n",
       "      <td>CA</td>\n",
       "      <td>Ottawa</td>\n",
       "      <td>23424775</td>\n",
       "      <td>{'code': 7, 'name': 'Town'}</td>\n",
       "      <td>http://where.yahooapis.com/v1/place/3369</td>\n",
       "      <td>3369</td>\n",
       "    </tr>\n",
       "    <tr>\n",
       "      <th>3</th>\n",
       "      <td>Canada</td>\n",
       "      <td>CA</td>\n",
       "      <td>Quebec</td>\n",
       "      <td>23424775</td>\n",
       "      <td>{'code': 7, 'name': 'Town'}</td>\n",
       "      <td>http://where.yahooapis.com/v1/place/3444</td>\n",
       "      <td>3444</td>\n",
       "    </tr>\n",
       "    <tr>\n",
       "      <th>4</th>\n",
       "      <td>Canada</td>\n",
       "      <td>CA</td>\n",
       "      <td>Montreal</td>\n",
       "      <td>23424775</td>\n",
       "      <td>{'code': 7, 'name': 'Town'}</td>\n",
       "      <td>http://where.yahooapis.com/v1/place/3534</td>\n",
       "      <td>3534</td>\n",
       "    </tr>\n",
       "    <tr>\n",
       "      <th>5</th>\n",
       "      <td>Canada</td>\n",
       "      <td>CA</td>\n",
       "      <td>Toronto</td>\n",
       "      <td>23424775</td>\n",
       "      <td>{'code': 7, 'name': 'Town'}</td>\n",
       "      <td>http://where.yahooapis.com/v1/place/4118</td>\n",
       "      <td>4118</td>\n",
       "    </tr>\n",
       "    <tr>\n",
       "      <th>6</th>\n",
       "      <td>Canada</td>\n",
       "      <td>CA</td>\n",
       "      <td>Edmonton</td>\n",
       "      <td>23424775</td>\n",
       "      <td>{'code': 7, 'name': 'Town'}</td>\n",
       "      <td>http://where.yahooapis.com/v1/place/8676</td>\n",
       "      <td>8676</td>\n",
       "    </tr>\n",
       "    <tr>\n",
       "      <th>7</th>\n",
       "      <td>Canada</td>\n",
       "      <td>CA</td>\n",
       "      <td>Calgary</td>\n",
       "      <td>23424775</td>\n",
       "      <td>{'code': 7, 'name': 'Town'}</td>\n",
       "      <td>http://where.yahooapis.com/v1/place/8775</td>\n",
       "      <td>8775</td>\n",
       "    </tr>\n",
       "    <tr>\n",
       "      <th>8</th>\n",
       "      <td>Canada</td>\n",
       "      <td>CA</td>\n",
       "      <td>Vancouver</td>\n",
       "      <td>23424775</td>\n",
       "      <td>{'code': 7, 'name': 'Town'}</td>\n",
       "      <td>http://where.yahooapis.com/v1/place/9807</td>\n",
       "      <td>9807</td>\n",
       "    </tr>\n",
       "    <tr>\n",
       "      <th>9</th>\n",
       "      <td>United Kingdom</td>\n",
       "      <td>GB</td>\n",
       "      <td>Birmingham</td>\n",
       "      <td>23424975</td>\n",
       "      <td>{'code': 7, 'name': 'Town'}</td>\n",
       "      <td>http://where.yahooapis.com/v1/place/12723</td>\n",
       "      <td>12723</td>\n",
       "    </tr>\n",
       "    <tr>\n",
       "      <th>10</th>\n",
       "      <td>United Kingdom</td>\n",
       "      <td>GB</td>\n",
       "      <td>Blackpool</td>\n",
       "      <td>23424975</td>\n",
       "      <td>{'code': 7, 'name': 'Town'}</td>\n",
       "      <td>http://where.yahooapis.com/v1/place/12903</td>\n",
       "      <td>12903</td>\n",
       "    </tr>\n",
       "    <tr>\n",
       "      <th>11</th>\n",
       "      <td>United Kingdom</td>\n",
       "      <td>GB</td>\n",
       "      <td>Bournemouth</td>\n",
       "      <td>23424975</td>\n",
       "      <td>{'code': 7, 'name': 'Town'}</td>\n",
       "      <td>http://where.yahooapis.com/v1/place/13383</td>\n",
       "      <td>13383</td>\n",
       "    </tr>\n",
       "    <tr>\n",
       "      <th>12</th>\n",
       "      <td>United Kingdom</td>\n",
       "      <td>GB</td>\n",
       "      <td>Brighton</td>\n",
       "      <td>23424975</td>\n",
       "      <td>{'code': 7, 'name': 'Town'}</td>\n",
       "      <td>http://where.yahooapis.com/v1/place/13911</td>\n",
       "      <td>13911</td>\n",
       "    </tr>\n",
       "    <tr>\n",
       "      <th>13</th>\n",
       "      <td>United Kingdom</td>\n",
       "      <td>GB</td>\n",
       "      <td>Bristol</td>\n",
       "      <td>23424975</td>\n",
       "      <td>{'code': 7, 'name': 'Town'}</td>\n",
       "      <td>http://where.yahooapis.com/v1/place/13963</td>\n",
       "      <td>13963</td>\n",
       "    </tr>\n",
       "    <tr>\n",
       "      <th>14</th>\n",
       "      <td>United Kingdom</td>\n",
       "      <td>GB</td>\n",
       "      <td>Cardiff</td>\n",
       "      <td>23424975</td>\n",
       "      <td>{'code': 7, 'name': 'Town'}</td>\n",
       "      <td>http://where.yahooapis.com/v1/place/15127</td>\n",
       "      <td>15127</td>\n",
       "    </tr>\n",
       "    <tr>\n",
       "      <th>15</th>\n",
       "      <td>United Kingdom</td>\n",
       "      <td>GB</td>\n",
       "      <td>Coventry</td>\n",
       "      <td>23424975</td>\n",
       "      <td>{'code': 7, 'name': 'Town'}</td>\n",
       "      <td>http://where.yahooapis.com/v1/place/17044</td>\n",
       "      <td>17044</td>\n",
       "    </tr>\n",
       "    <tr>\n",
       "      <th>16</th>\n",
       "      <td>United Kingdom</td>\n",
       "      <td>GB</td>\n",
       "      <td>Derby</td>\n",
       "      <td>23424975</td>\n",
       "      <td>{'code': 7, 'name': 'Town'}</td>\n",
       "      <td>http://where.yahooapis.com/v1/place/18114</td>\n",
       "      <td>18114</td>\n",
       "    </tr>\n",
       "    <tr>\n",
       "      <th>17</th>\n",
       "      <td>United Kingdom</td>\n",
       "      <td>GB</td>\n",
       "      <td>Edinburgh</td>\n",
       "      <td>23424975</td>\n",
       "      <td>{'code': 7, 'name': 'Town'}</td>\n",
       "      <td>http://where.yahooapis.com/v1/place/19344</td>\n",
       "      <td>19344</td>\n",
       "    </tr>\n",
       "    <tr>\n",
       "      <th>18</th>\n",
       "      <td>United Kingdom</td>\n",
       "      <td>GB</td>\n",
       "      <td>Glasgow</td>\n",
       "      <td>23424975</td>\n",
       "      <td>{'code': 7, 'name': 'Town'}</td>\n",
       "      <td>http://where.yahooapis.com/v1/place/21125</td>\n",
       "      <td>21125</td>\n",
       "    </tr>\n",
       "    <tr>\n",
       "      <th>19</th>\n",
       "      <td>United Kingdom</td>\n",
       "      <td>GB</td>\n",
       "      <td>Hull</td>\n",
       "      <td>23424975</td>\n",
       "      <td>{'code': 7, 'name': 'Town'}</td>\n",
       "      <td>http://where.yahooapis.com/v1/place/25211</td>\n",
       "      <td>25211</td>\n",
       "    </tr>\n",
       "    <tr>\n",
       "      <th>20</th>\n",
       "      <td>United Kingdom</td>\n",
       "      <td>GB</td>\n",
       "      <td>Leeds</td>\n",
       "      <td>23424975</td>\n",
       "      <td>{'code': 7, 'name': 'Town'}</td>\n",
       "      <td>http://where.yahooapis.com/v1/place/26042</td>\n",
       "      <td>26042</td>\n",
       "    </tr>\n",
       "    <tr>\n",
       "      <th>21</th>\n",
       "      <td>United Kingdom</td>\n",
       "      <td>GB</td>\n",
       "      <td>Leicester</td>\n",
       "      <td>23424975</td>\n",
       "      <td>{'code': 7, 'name': 'Town'}</td>\n",
       "      <td>http://where.yahooapis.com/v1/place/26062</td>\n",
       "      <td>26062</td>\n",
       "    </tr>\n",
       "    <tr>\n",
       "      <th>22</th>\n",
       "      <td>United Kingdom</td>\n",
       "      <td>GB</td>\n",
       "      <td>Liverpool</td>\n",
       "      <td>23424975</td>\n",
       "      <td>{'code': 7, 'name': 'Town'}</td>\n",
       "      <td>http://where.yahooapis.com/v1/place/26734</td>\n",
       "      <td>26734</td>\n",
       "    </tr>\n",
       "    <tr>\n",
       "      <th>23</th>\n",
       "      <td>United Kingdom</td>\n",
       "      <td>GB</td>\n",
       "      <td>Manchester</td>\n",
       "      <td>23424975</td>\n",
       "      <td>{'code': 7, 'name': 'Town'}</td>\n",
       "      <td>http://where.yahooapis.com/v1/place/28218</td>\n",
       "      <td>28218</td>\n",
       "    </tr>\n",
       "    <tr>\n",
       "      <th>24</th>\n",
       "      <td>United Kingdom</td>\n",
       "      <td>GB</td>\n",
       "      <td>Middlesbrough</td>\n",
       "      <td>23424975</td>\n",
       "      <td>{'code': 7, 'name': 'Town'}</td>\n",
       "      <td>http://where.yahooapis.com/v1/place/28869</td>\n",
       "      <td>28869</td>\n",
       "    </tr>\n",
       "    <tr>\n",
       "      <th>25</th>\n",
       "      <td>United Kingdom</td>\n",
       "      <td>GB</td>\n",
       "      <td>Newcastle</td>\n",
       "      <td>23424975</td>\n",
       "      <td>{'code': 7, 'name': 'Town'}</td>\n",
       "      <td>http://where.yahooapis.com/v1/place/30079</td>\n",
       "      <td>30079</td>\n",
       "    </tr>\n",
       "    <tr>\n",
       "      <th>26</th>\n",
       "      <td>United Kingdom</td>\n",
       "      <td>GB</td>\n",
       "      <td>Nottingham</td>\n",
       "      <td>23424975</td>\n",
       "      <td>{'code': 7, 'name': 'Town'}</td>\n",
       "      <td>http://where.yahooapis.com/v1/place/30720</td>\n",
       "      <td>30720</td>\n",
       "    </tr>\n",
       "    <tr>\n",
       "      <th>27</th>\n",
       "      <td>United Kingdom</td>\n",
       "      <td>GB</td>\n",
       "      <td>Plymouth</td>\n",
       "      <td>23424975</td>\n",
       "      <td>{'code': 7, 'name': 'Town'}</td>\n",
       "      <td>http://where.yahooapis.com/v1/place/32185</td>\n",
       "      <td>32185</td>\n",
       "    </tr>\n",
       "    <tr>\n",
       "      <th>28</th>\n",
       "      <td>United Kingdom</td>\n",
       "      <td>GB</td>\n",
       "      <td>Portsmouth</td>\n",
       "      <td>23424975</td>\n",
       "      <td>{'code': 7, 'name': 'Town'}</td>\n",
       "      <td>http://where.yahooapis.com/v1/place/32452</td>\n",
       "      <td>32452</td>\n",
       "    </tr>\n",
       "    <tr>\n",
       "      <th>29</th>\n",
       "      <td>United Kingdom</td>\n",
       "      <td>GB</td>\n",
       "      <td>Preston</td>\n",
       "      <td>23424975</td>\n",
       "      <td>{'code': 7, 'name': 'Town'}</td>\n",
       "      <td>http://where.yahooapis.com/v1/place/32566</td>\n",
       "      <td>32566</td>\n",
       "    </tr>\n",
       "    <tr>\n",
       "      <th>...</th>\n",
       "      <td>...</td>\n",
       "      <td>...</td>\n",
       "      <td>...</td>\n",
       "      <td>...</td>\n",
       "      <td>...</td>\n",
       "      <td>...</td>\n",
       "      <td>...</td>\n",
       "    </tr>\n",
       "    <tr>\n",
       "      <th>437</th>\n",
       "      <td>Nigeria</td>\n",
       "      <td>NG</td>\n",
       "      <td>Nigeria</td>\n",
       "      <td>1</td>\n",
       "      <td>{'code': 12, 'name': 'Country'}</td>\n",
       "      <td>http://where.yahooapis.com/v1/place/23424908</td>\n",
       "      <td>23424908</td>\n",
       "    </tr>\n",
       "    <tr>\n",
       "      <th>438</th>\n",
       "      <td>Netherlands</td>\n",
       "      <td>NL</td>\n",
       "      <td>Netherlands</td>\n",
       "      <td>1</td>\n",
       "      <td>{'code': 12, 'name': 'Country'}</td>\n",
       "      <td>http://where.yahooapis.com/v1/place/23424909</td>\n",
       "      <td>23424909</td>\n",
       "    </tr>\n",
       "    <tr>\n",
       "      <th>439</th>\n",
       "      <td>Norway</td>\n",
       "      <td>NO</td>\n",
       "      <td>Norway</td>\n",
       "      <td>1</td>\n",
       "      <td>{'code': 12, 'name': 'Country'}</td>\n",
       "      <td>http://where.yahooapis.com/v1/place/23424910</td>\n",
       "      <td>23424910</td>\n",
       "    </tr>\n",
       "    <tr>\n",
       "      <th>440</th>\n",
       "      <td>New Zealand</td>\n",
       "      <td>NZ</td>\n",
       "      <td>New Zealand</td>\n",
       "      <td>1</td>\n",
       "      <td>{'code': 12, 'name': 'Country'}</td>\n",
       "      <td>http://where.yahooapis.com/v1/place/23424916</td>\n",
       "      <td>23424916</td>\n",
       "    </tr>\n",
       "    <tr>\n",
       "      <th>441</th>\n",
       "      <td>Peru</td>\n",
       "      <td>PE</td>\n",
       "      <td>Peru</td>\n",
       "      <td>1</td>\n",
       "      <td>{'code': 12, 'name': 'Country'}</td>\n",
       "      <td>http://where.yahooapis.com/v1/place/23424919</td>\n",
       "      <td>23424919</td>\n",
       "    </tr>\n",
       "    <tr>\n",
       "      <th>442</th>\n",
       "      <td>Pakistan</td>\n",
       "      <td>PK</td>\n",
       "      <td>Pakistan</td>\n",
       "      <td>1</td>\n",
       "      <td>{'code': 12, 'name': 'Country'}</td>\n",
       "      <td>http://where.yahooapis.com/v1/place/23424922</td>\n",
       "      <td>23424922</td>\n",
       "    </tr>\n",
       "    <tr>\n",
       "      <th>443</th>\n",
       "      <td>Poland</td>\n",
       "      <td>PL</td>\n",
       "      <td>Poland</td>\n",
       "      <td>1</td>\n",
       "      <td>{'code': 12, 'name': 'Country'}</td>\n",
       "      <td>http://where.yahooapis.com/v1/place/23424923</td>\n",
       "      <td>23424923</td>\n",
       "    </tr>\n",
       "    <tr>\n",
       "      <th>444</th>\n",
       "      <td>Panama</td>\n",
       "      <td>PA</td>\n",
       "      <td>Panama</td>\n",
       "      <td>1</td>\n",
       "      <td>{'code': 12, 'name': 'Country'}</td>\n",
       "      <td>http://where.yahooapis.com/v1/place/23424924</td>\n",
       "      <td>23424924</td>\n",
       "    </tr>\n",
       "    <tr>\n",
       "      <th>445</th>\n",
       "      <td>Portugal</td>\n",
       "      <td>PT</td>\n",
       "      <td>Portugal</td>\n",
       "      <td>1</td>\n",
       "      <td>{'code': 12, 'name': 'Country'}</td>\n",
       "      <td>http://where.yahooapis.com/v1/place/23424925</td>\n",
       "      <td>23424925</td>\n",
       "    </tr>\n",
       "    <tr>\n",
       "      <th>446</th>\n",
       "      <td>Qatar</td>\n",
       "      <td>QA</td>\n",
       "      <td>Qatar</td>\n",
       "      <td>1</td>\n",
       "      <td>{'code': 12, 'name': 'Country'}</td>\n",
       "      <td>http://where.yahooapis.com/v1/place/23424930</td>\n",
       "      <td>23424930</td>\n",
       "    </tr>\n",
       "    <tr>\n",
       "      <th>447</th>\n",
       "      <td>Philippines</td>\n",
       "      <td>PH</td>\n",
       "      <td>Philippines</td>\n",
       "      <td>1</td>\n",
       "      <td>{'code': 12, 'name': 'Country'}</td>\n",
       "      <td>http://where.yahooapis.com/v1/place/23424934</td>\n",
       "      <td>23424934</td>\n",
       "    </tr>\n",
       "    <tr>\n",
       "      <th>448</th>\n",
       "      <td>Puerto Rico</td>\n",
       "      <td>PR</td>\n",
       "      <td>Puerto Rico</td>\n",
       "      <td>1</td>\n",
       "      <td>{'code': 12, 'name': 'Country'}</td>\n",
       "      <td>http://where.yahooapis.com/v1/place/23424935</td>\n",
       "      <td>23424935</td>\n",
       "    </tr>\n",
       "    <tr>\n",
       "      <th>449</th>\n",
       "      <td>Russia</td>\n",
       "      <td>RU</td>\n",
       "      <td>Russia</td>\n",
       "      <td>1</td>\n",
       "      <td>{'code': 12, 'name': 'Country'}</td>\n",
       "      <td>http://where.yahooapis.com/v1/place/23424936</td>\n",
       "      <td>23424936</td>\n",
       "    </tr>\n",
       "    <tr>\n",
       "      <th>450</th>\n",
       "      <td>Saudi Arabia</td>\n",
       "      <td>SA</td>\n",
       "      <td>Saudi Arabia</td>\n",
       "      <td>1</td>\n",
       "      <td>{'code': 12, 'name': 'Country'}</td>\n",
       "      <td>http://where.yahooapis.com/v1/place/23424938</td>\n",
       "      <td>23424938</td>\n",
       "    </tr>\n",
       "    <tr>\n",
       "      <th>451</th>\n",
       "      <td>South Africa</td>\n",
       "      <td>ZA</td>\n",
       "      <td>South Africa</td>\n",
       "      <td>1</td>\n",
       "      <td>{'code': 12, 'name': 'Country'}</td>\n",
       "      <td>http://where.yahooapis.com/v1/place/23424942</td>\n",
       "      <td>23424942</td>\n",
       "    </tr>\n",
       "    <tr>\n",
       "      <th>452</th>\n",
       "      <td>Singapore</td>\n",
       "      <td>SG</td>\n",
       "      <td>Singapore</td>\n",
       "      <td>1</td>\n",
       "      <td>{'code': 12, 'name': 'Country'}</td>\n",
       "      <td>http://where.yahooapis.com/v1/place/23424948</td>\n",
       "      <td>23424948</td>\n",
       "    </tr>\n",
       "    <tr>\n",
       "      <th>453</th>\n",
       "      <td>Spain</td>\n",
       "      <td>ES</td>\n",
       "      <td>Spain</td>\n",
       "      <td>1</td>\n",
       "      <td>{'code': 12, 'name': 'Country'}</td>\n",
       "      <td>http://where.yahooapis.com/v1/place/23424950</td>\n",
       "      <td>23424950</td>\n",
       "    </tr>\n",
       "    <tr>\n",
       "      <th>454</th>\n",
       "      <td>Sweden</td>\n",
       "      <td>SE</td>\n",
       "      <td>Sweden</td>\n",
       "      <td>1</td>\n",
       "      <td>{'code': 12, 'name': 'Country'}</td>\n",
       "      <td>http://where.yahooapis.com/v1/place/23424954</td>\n",
       "      <td>23424954</td>\n",
       "    </tr>\n",
       "    <tr>\n",
       "      <th>455</th>\n",
       "      <td>Switzerland</td>\n",
       "      <td>CH</td>\n",
       "      <td>Switzerland</td>\n",
       "      <td>1</td>\n",
       "      <td>{'code': 12, 'name': 'Country'}</td>\n",
       "      <td>http://where.yahooapis.com/v1/place/23424957</td>\n",
       "      <td>23424957</td>\n",
       "    </tr>\n",
       "    <tr>\n",
       "      <th>456</th>\n",
       "      <td>Thailand</td>\n",
       "      <td>TH</td>\n",
       "      <td>Thailand</td>\n",
       "      <td>1</td>\n",
       "      <td>{'code': 12, 'name': 'Country'}</td>\n",
       "      <td>http://where.yahooapis.com/v1/place/23424960</td>\n",
       "      <td>23424960</td>\n",
       "    </tr>\n",
       "    <tr>\n",
       "      <th>457</th>\n",
       "      <td>Turkey</td>\n",
       "      <td>TR</td>\n",
       "      <td>Turkey</td>\n",
       "      <td>1</td>\n",
       "      <td>{'code': 12, 'name': 'Country'}</td>\n",
       "      <td>http://where.yahooapis.com/v1/place/23424969</td>\n",
       "      <td>23424969</td>\n",
       "    </tr>\n",
       "    <tr>\n",
       "      <th>458</th>\n",
       "      <td>United Kingdom</td>\n",
       "      <td>GB</td>\n",
       "      <td>United Kingdom</td>\n",
       "      <td>1</td>\n",
       "      <td>{'code': 12, 'name': 'Country'}</td>\n",
       "      <td>http://where.yahooapis.com/v1/place/23424975</td>\n",
       "      <td>23424975</td>\n",
       "    </tr>\n",
       "    <tr>\n",
       "      <th>459</th>\n",
       "      <td>Ukraine</td>\n",
       "      <td>UA</td>\n",
       "      <td>Ukraine</td>\n",
       "      <td>1</td>\n",
       "      <td>{'code': 12, 'name': 'Country'}</td>\n",
       "      <td>http://where.yahooapis.com/v1/place/23424976</td>\n",
       "      <td>23424976</td>\n",
       "    </tr>\n",
       "    <tr>\n",
       "      <th>460</th>\n",
       "      <td>United States</td>\n",
       "      <td>US</td>\n",
       "      <td>United States</td>\n",
       "      <td>1</td>\n",
       "      <td>{'code': 12, 'name': 'Country'}</td>\n",
       "      <td>http://where.yahooapis.com/v1/place/23424977</td>\n",
       "      <td>23424977</td>\n",
       "    </tr>\n",
       "    <tr>\n",
       "      <th>461</th>\n",
       "      <td>Venezuela</td>\n",
       "      <td>VE</td>\n",
       "      <td>Venezuela</td>\n",
       "      <td>1</td>\n",
       "      <td>{'code': 12, 'name': 'Country'}</td>\n",
       "      <td>http://where.yahooapis.com/v1/place/23424982</td>\n",
       "      <td>23424982</td>\n",
       "    </tr>\n",
       "    <tr>\n",
       "      <th>462</th>\n",
       "      <td>Vietnam</td>\n",
       "      <td>VN</td>\n",
       "      <td>Vietnam</td>\n",
       "      <td>1</td>\n",
       "      <td>{'code': 12, 'name': 'Country'}</td>\n",
       "      <td>http://where.yahooapis.com/v1/place/23424984</td>\n",
       "      <td>23424984</td>\n",
       "    </tr>\n",
       "    <tr>\n",
       "      <th>463</th>\n",
       "      <td>Malaysia</td>\n",
       "      <td>MY</td>\n",
       "      <td>Petaling</td>\n",
       "      <td>23424901</td>\n",
       "      <td>{'code': 7, 'name': 'Town'}</td>\n",
       "      <td>http://where.yahooapis.com/v1/place/56013632</td>\n",
       "      <td>56013632</td>\n",
       "    </tr>\n",
       "    <tr>\n",
       "      <th>464</th>\n",
       "      <td>Malaysia</td>\n",
       "      <td>MY</td>\n",
       "      <td>Hulu Langat</td>\n",
       "      <td>23424901</td>\n",
       "      <td>{'code': 7, 'name': 'Town'}</td>\n",
       "      <td>http://where.yahooapis.com/v1/place/56013645</td>\n",
       "      <td>56013645</td>\n",
       "    </tr>\n",
       "    <tr>\n",
       "      <th>465</th>\n",
       "      <td>Saudi Arabia</td>\n",
       "      <td>SA</td>\n",
       "      <td>Ahsa</td>\n",
       "      <td>23424938</td>\n",
       "      <td>{'code': 9, 'name': 'Unknown'}</td>\n",
       "      <td>http://where.yahooapis.com/v1/place/56120136</td>\n",
       "      <td>56120136</td>\n",
       "    </tr>\n",
       "    <tr>\n",
       "      <th>466</th>\n",
       "      <td>Japan</td>\n",
       "      <td>JP</td>\n",
       "      <td>Okayama</td>\n",
       "      <td>23424856</td>\n",
       "      <td>{'code': 7, 'name': 'Town'}</td>\n",
       "      <td>http://where.yahooapis.com/v1/place/90036018</td>\n",
       "      <td>90036018</td>\n",
       "    </tr>\n",
       "  </tbody>\n",
       "</table>\n",
       "<p>467 rows × 7 columns</p>\n",
       "</div>"
      ],
      "text/plain": [
       "            country countryCode            name  parentid  \\\n",
       "0                          None       Worldwide         0   \n",
       "1            Canada          CA        Winnipeg  23424775   \n",
       "2            Canada          CA          Ottawa  23424775   \n",
       "3            Canada          CA          Quebec  23424775   \n",
       "4            Canada          CA        Montreal  23424775   \n",
       "5            Canada          CA         Toronto  23424775   \n",
       "6            Canada          CA        Edmonton  23424775   \n",
       "7            Canada          CA         Calgary  23424775   \n",
       "8            Canada          CA       Vancouver  23424775   \n",
       "9    United Kingdom          GB      Birmingham  23424975   \n",
       "10   United Kingdom          GB       Blackpool  23424975   \n",
       "11   United Kingdom          GB     Bournemouth  23424975   \n",
       "12   United Kingdom          GB        Brighton  23424975   \n",
       "13   United Kingdom          GB         Bristol  23424975   \n",
       "14   United Kingdom          GB         Cardiff  23424975   \n",
       "15   United Kingdom          GB        Coventry  23424975   \n",
       "16   United Kingdom          GB           Derby  23424975   \n",
       "17   United Kingdom          GB       Edinburgh  23424975   \n",
       "18   United Kingdom          GB         Glasgow  23424975   \n",
       "19   United Kingdom          GB            Hull  23424975   \n",
       "20   United Kingdom          GB           Leeds  23424975   \n",
       "21   United Kingdom          GB       Leicester  23424975   \n",
       "22   United Kingdom          GB       Liverpool  23424975   \n",
       "23   United Kingdom          GB      Manchester  23424975   \n",
       "24   United Kingdom          GB   Middlesbrough  23424975   \n",
       "25   United Kingdom          GB       Newcastle  23424975   \n",
       "26   United Kingdom          GB      Nottingham  23424975   \n",
       "27   United Kingdom          GB        Plymouth  23424975   \n",
       "28   United Kingdom          GB      Portsmouth  23424975   \n",
       "29   United Kingdom          GB         Preston  23424975   \n",
       "..              ...         ...             ...       ...   \n",
       "437         Nigeria          NG         Nigeria         1   \n",
       "438     Netherlands          NL     Netherlands         1   \n",
       "439          Norway          NO          Norway         1   \n",
       "440     New Zealand          NZ     New Zealand         1   \n",
       "441            Peru          PE            Peru         1   \n",
       "442        Pakistan          PK        Pakistan         1   \n",
       "443          Poland          PL          Poland         1   \n",
       "444          Panama          PA          Panama         1   \n",
       "445        Portugal          PT        Portugal         1   \n",
       "446           Qatar          QA           Qatar         1   \n",
       "447     Philippines          PH     Philippines         1   \n",
       "448     Puerto Rico          PR     Puerto Rico         1   \n",
       "449          Russia          RU          Russia         1   \n",
       "450    Saudi Arabia          SA    Saudi Arabia         1   \n",
       "451    South Africa          ZA    South Africa         1   \n",
       "452       Singapore          SG       Singapore         1   \n",
       "453           Spain          ES           Spain         1   \n",
       "454          Sweden          SE          Sweden         1   \n",
       "455     Switzerland          CH     Switzerland         1   \n",
       "456        Thailand          TH        Thailand         1   \n",
       "457          Turkey          TR          Turkey         1   \n",
       "458  United Kingdom          GB  United Kingdom         1   \n",
       "459         Ukraine          UA         Ukraine         1   \n",
       "460   United States          US   United States         1   \n",
       "461       Venezuela          VE       Venezuela         1   \n",
       "462         Vietnam          VN         Vietnam         1   \n",
       "463        Malaysia          MY        Petaling  23424901   \n",
       "464        Malaysia          MY     Hulu Langat  23424901   \n",
       "465    Saudi Arabia          SA            Ahsa  23424938   \n",
       "466           Japan          JP         Okayama  23424856   \n",
       "\n",
       "                             placeType  \\\n",
       "0    {'code': 19, 'name': 'Supername'}   \n",
       "1          {'code': 7, 'name': 'Town'}   \n",
       "2          {'code': 7, 'name': 'Town'}   \n",
       "3          {'code': 7, 'name': 'Town'}   \n",
       "4          {'code': 7, 'name': 'Town'}   \n",
       "5          {'code': 7, 'name': 'Town'}   \n",
       "6          {'code': 7, 'name': 'Town'}   \n",
       "7          {'code': 7, 'name': 'Town'}   \n",
       "8          {'code': 7, 'name': 'Town'}   \n",
       "9          {'code': 7, 'name': 'Town'}   \n",
       "10         {'code': 7, 'name': 'Town'}   \n",
       "11         {'code': 7, 'name': 'Town'}   \n",
       "12         {'code': 7, 'name': 'Town'}   \n",
       "13         {'code': 7, 'name': 'Town'}   \n",
       "14         {'code': 7, 'name': 'Town'}   \n",
       "15         {'code': 7, 'name': 'Town'}   \n",
       "16         {'code': 7, 'name': 'Town'}   \n",
       "17         {'code': 7, 'name': 'Town'}   \n",
       "18         {'code': 7, 'name': 'Town'}   \n",
       "19         {'code': 7, 'name': 'Town'}   \n",
       "20         {'code': 7, 'name': 'Town'}   \n",
       "21         {'code': 7, 'name': 'Town'}   \n",
       "22         {'code': 7, 'name': 'Town'}   \n",
       "23         {'code': 7, 'name': 'Town'}   \n",
       "24         {'code': 7, 'name': 'Town'}   \n",
       "25         {'code': 7, 'name': 'Town'}   \n",
       "26         {'code': 7, 'name': 'Town'}   \n",
       "27         {'code': 7, 'name': 'Town'}   \n",
       "28         {'code': 7, 'name': 'Town'}   \n",
       "29         {'code': 7, 'name': 'Town'}   \n",
       "..                                 ...   \n",
       "437    {'code': 12, 'name': 'Country'}   \n",
       "438    {'code': 12, 'name': 'Country'}   \n",
       "439    {'code': 12, 'name': 'Country'}   \n",
       "440    {'code': 12, 'name': 'Country'}   \n",
       "441    {'code': 12, 'name': 'Country'}   \n",
       "442    {'code': 12, 'name': 'Country'}   \n",
       "443    {'code': 12, 'name': 'Country'}   \n",
       "444    {'code': 12, 'name': 'Country'}   \n",
       "445    {'code': 12, 'name': 'Country'}   \n",
       "446    {'code': 12, 'name': 'Country'}   \n",
       "447    {'code': 12, 'name': 'Country'}   \n",
       "448    {'code': 12, 'name': 'Country'}   \n",
       "449    {'code': 12, 'name': 'Country'}   \n",
       "450    {'code': 12, 'name': 'Country'}   \n",
       "451    {'code': 12, 'name': 'Country'}   \n",
       "452    {'code': 12, 'name': 'Country'}   \n",
       "453    {'code': 12, 'name': 'Country'}   \n",
       "454    {'code': 12, 'name': 'Country'}   \n",
       "455    {'code': 12, 'name': 'Country'}   \n",
       "456    {'code': 12, 'name': 'Country'}   \n",
       "457    {'code': 12, 'name': 'Country'}   \n",
       "458    {'code': 12, 'name': 'Country'}   \n",
       "459    {'code': 12, 'name': 'Country'}   \n",
       "460    {'code': 12, 'name': 'Country'}   \n",
       "461    {'code': 12, 'name': 'Country'}   \n",
       "462    {'code': 12, 'name': 'Country'}   \n",
       "463        {'code': 7, 'name': 'Town'}   \n",
       "464        {'code': 7, 'name': 'Town'}   \n",
       "465     {'code': 9, 'name': 'Unknown'}   \n",
       "466        {'code': 7, 'name': 'Town'}   \n",
       "\n",
       "                                              url     woeid  \n",
       "0           http://where.yahooapis.com/v1/place/1         1  \n",
       "1        http://where.yahooapis.com/v1/place/2972      2972  \n",
       "2        http://where.yahooapis.com/v1/place/3369      3369  \n",
       "3        http://where.yahooapis.com/v1/place/3444      3444  \n",
       "4        http://where.yahooapis.com/v1/place/3534      3534  \n",
       "5        http://where.yahooapis.com/v1/place/4118      4118  \n",
       "6        http://where.yahooapis.com/v1/place/8676      8676  \n",
       "7        http://where.yahooapis.com/v1/place/8775      8775  \n",
       "8        http://where.yahooapis.com/v1/place/9807      9807  \n",
       "9       http://where.yahooapis.com/v1/place/12723     12723  \n",
       "10      http://where.yahooapis.com/v1/place/12903     12903  \n",
       "11      http://where.yahooapis.com/v1/place/13383     13383  \n",
       "12      http://where.yahooapis.com/v1/place/13911     13911  \n",
       "13      http://where.yahooapis.com/v1/place/13963     13963  \n",
       "14      http://where.yahooapis.com/v1/place/15127     15127  \n",
       "15      http://where.yahooapis.com/v1/place/17044     17044  \n",
       "16      http://where.yahooapis.com/v1/place/18114     18114  \n",
       "17      http://where.yahooapis.com/v1/place/19344     19344  \n",
       "18      http://where.yahooapis.com/v1/place/21125     21125  \n",
       "19      http://where.yahooapis.com/v1/place/25211     25211  \n",
       "20      http://where.yahooapis.com/v1/place/26042     26042  \n",
       "21      http://where.yahooapis.com/v1/place/26062     26062  \n",
       "22      http://where.yahooapis.com/v1/place/26734     26734  \n",
       "23      http://where.yahooapis.com/v1/place/28218     28218  \n",
       "24      http://where.yahooapis.com/v1/place/28869     28869  \n",
       "25      http://where.yahooapis.com/v1/place/30079     30079  \n",
       "26      http://where.yahooapis.com/v1/place/30720     30720  \n",
       "27      http://where.yahooapis.com/v1/place/32185     32185  \n",
       "28      http://where.yahooapis.com/v1/place/32452     32452  \n",
       "29      http://where.yahooapis.com/v1/place/32566     32566  \n",
       "..                                            ...       ...  \n",
       "437  http://where.yahooapis.com/v1/place/23424908  23424908  \n",
       "438  http://where.yahooapis.com/v1/place/23424909  23424909  \n",
       "439  http://where.yahooapis.com/v1/place/23424910  23424910  \n",
       "440  http://where.yahooapis.com/v1/place/23424916  23424916  \n",
       "441  http://where.yahooapis.com/v1/place/23424919  23424919  \n",
       "442  http://where.yahooapis.com/v1/place/23424922  23424922  \n",
       "443  http://where.yahooapis.com/v1/place/23424923  23424923  \n",
       "444  http://where.yahooapis.com/v1/place/23424924  23424924  \n",
       "445  http://where.yahooapis.com/v1/place/23424925  23424925  \n",
       "446  http://where.yahooapis.com/v1/place/23424930  23424930  \n",
       "447  http://where.yahooapis.com/v1/place/23424934  23424934  \n",
       "448  http://where.yahooapis.com/v1/place/23424935  23424935  \n",
       "449  http://where.yahooapis.com/v1/place/23424936  23424936  \n",
       "450  http://where.yahooapis.com/v1/place/23424938  23424938  \n",
       "451  http://where.yahooapis.com/v1/place/23424942  23424942  \n",
       "452  http://where.yahooapis.com/v1/place/23424948  23424948  \n",
       "453  http://where.yahooapis.com/v1/place/23424950  23424950  \n",
       "454  http://where.yahooapis.com/v1/place/23424954  23424954  \n",
       "455  http://where.yahooapis.com/v1/place/23424957  23424957  \n",
       "456  http://where.yahooapis.com/v1/place/23424960  23424960  \n",
       "457  http://where.yahooapis.com/v1/place/23424969  23424969  \n",
       "458  http://where.yahooapis.com/v1/place/23424975  23424975  \n",
       "459  http://where.yahooapis.com/v1/place/23424976  23424976  \n",
       "460  http://where.yahooapis.com/v1/place/23424977  23424977  \n",
       "461  http://where.yahooapis.com/v1/place/23424982  23424982  \n",
       "462  http://where.yahooapis.com/v1/place/23424984  23424984  \n",
       "463  http://where.yahooapis.com/v1/place/56013632  56013632  \n",
       "464  http://where.yahooapis.com/v1/place/56013645  56013645  \n",
       "465  http://where.yahooapis.com/v1/place/56120136  56120136  \n",
       "466  http://where.yahooapis.com/v1/place/90036018  90036018  \n",
       "\n",
       "[467 rows x 7 columns]"
      ]
     },
     "execution_count": 21,
     "metadata": {},
     "output_type": "execute_result"
    }
   ],
   "source": [
    "df_city"
   ]
  },
  {
   "cell_type": "code",
   "execution_count": 22,
   "metadata": {},
   "outputs": [
    {
     "data": {
      "text/plain": [
       "467"
      ]
     },
     "execution_count": 22,
     "metadata": {},
     "output_type": "execute_result"
    }
   ],
   "source": [
    "len(df_city)"
   ]
  },
  {
   "cell_type": "markdown",
   "metadata": {},
   "source": [
    "Get the trends in San Francisco"
   ]
  },
  {
   "cell_type": "code",
   "execution_count": 23,
   "metadata": {},
   "outputs": [
    {
     "data": {
      "text/html": [
       "<div>\n",
       "<style scoped>\n",
       "    .dataframe tbody tr th:only-of-type {\n",
       "        vertical-align: middle;\n",
       "    }\n",
       "\n",
       "    .dataframe tbody tr th {\n",
       "        vertical-align: top;\n",
       "    }\n",
       "\n",
       "    .dataframe thead th {\n",
       "        text-align: right;\n",
       "    }\n",
       "</style>\n",
       "<table border=\"1\" class=\"dataframe\">\n",
       "  <thead>\n",
       "    <tr style=\"text-align: right;\">\n",
       "      <th></th>\n",
       "      <th>country</th>\n",
       "      <th>countryCode</th>\n",
       "      <th>name</th>\n",
       "      <th>parentid</th>\n",
       "      <th>placeType</th>\n",
       "      <th>url</th>\n",
       "      <th>woeid</th>\n",
       "    </tr>\n",
       "  </thead>\n",
       "  <tbody>\n",
       "    <tr>\n",
       "      <th>390</th>\n",
       "      <td>United States</td>\n",
       "      <td>US</td>\n",
       "      <td>San Francisco</td>\n",
       "      <td>23424977</td>\n",
       "      <td>{'code': 7, 'name': 'Town'}</td>\n",
       "      <td>http://where.yahooapis.com/v1/place/2487956</td>\n",
       "      <td>2487956</td>\n",
       "    </tr>\n",
       "  </tbody>\n",
       "</table>\n",
       "</div>"
      ],
      "text/plain": [
       "           country countryCode           name  parentid  \\\n",
       "390  United States          US  San Francisco  23424977   \n",
       "\n",
       "                       placeType                                          url  \\\n",
       "390  {'code': 7, 'name': 'Town'}  http://where.yahooapis.com/v1/place/2487956   \n",
       "\n",
       "       woeid  \n",
       "390  2487956  "
      ]
     },
     "execution_count": 23,
     "metadata": {},
     "output_type": "execute_result"
    }
   ],
   "source": [
    "df_city[df_city['name']=='San Francisco']"
   ]
  },
  {
   "cell_type": "code",
   "execution_count": 77,
   "metadata": {},
   "outputs": [
    {
     "data": {
      "text/plain": [
       "390    2487956\n",
       "Name: woeid, dtype: int64"
      ]
     },
     "execution_count": 77,
     "metadata": {},
     "output_type": "execute_result"
    }
   ],
   "source": [
    "city_id = df_city[df_city['name']=='San Francisco']['woeid']\n",
    "\n",
    "#print city_id\n",
    "city_id"
   ]
  },
  {
   "cell_type": "markdown",
   "metadata": {},
   "source": [
    "Return the trends in San Francisco.\n",
    "\n",
    "Note: you need to convert the city_id from a pandas series object into an integer."
   ]
  },
  {
   "cell_type": "code",
   "execution_count": 78,
   "metadata": {},
   "outputs": [],
   "source": [
    "# make San Francisco as an example\n",
    "trend_sf = api.trends_place(int(city_id))"
   ]
  },
  {
   "cell_type": "markdown",
   "metadata": {},
   "source": [
    "Print the trends in JSON format"
   ]
  },
  {
   "cell_type": "code",
   "execution_count": 79,
   "metadata": {
    "scrolled": true
   },
   "outputs": [
    {
     "data": {
      "text/plain": [
       "[{'trends': [{'name': 'Tumblr',\n",
       "    'url': 'http://twitter.com/search?q=Tumblr',\n",
       "    'promoted_content': None,\n",
       "    'query': 'Tumblr',\n",
       "    'tweet_volume': 93186},\n",
       "   {'name': 'Alex Jones',\n",
       "    'url': 'http://twitter.com/search?q=%22Alex+Jones%22',\n",
       "    'promoted_content': None,\n",
       "    'query': '%22Alex+Jones%22',\n",
       "    'tweet_volume': 33825},\n",
       "   {'name': 'Laura Loomer',\n",
       "    'url': 'http://twitter.com/search?q=%22Laura+Loomer%22',\n",
       "    'promoted_content': None,\n",
       "    'query': '%22Laura+Loomer%22',\n",
       "    'tweet_volume': 27695},\n",
       "   {'name': '#GalaxysEdge',\n",
       "    'url': 'http://twitter.com/search?q=%23GalaxysEdge',\n",
       "    'promoted_content': None,\n",
       "    'query': '%23GalaxysEdge',\n",
       "    'tweet_volume': None},\n",
       "   {'name': 'Piedmont',\n",
       "    'url': 'http://twitter.com/search?q=Piedmont',\n",
       "    'promoted_content': None,\n",
       "    'query': 'Piedmont',\n",
       "    'tweet_volume': None},\n",
       "   {'name': '#pycon2019',\n",
       "    'url': 'http://twitter.com/search?q=%23pycon2019',\n",
       "    'promoted_content': None,\n",
       "    'query': '%23pycon2019',\n",
       "    'tweet_volume': None},\n",
       "   {'name': 'Barr',\n",
       "    'url': 'http://twitter.com/search?q=Barr',\n",
       "    'promoted_content': None,\n",
       "    'query': 'Barr',\n",
       "    'tweet_volume': 2451016},\n",
       "   {'name': '#BBMAs',\n",
       "    'url': 'http://twitter.com/search?q=%23BBMAs',\n",
       "    'promoted_content': None,\n",
       "    'query': '%23BBMAs',\n",
       "    'tweet_volume': 11360466},\n",
       "   {'name': '#ThursdayThoughts',\n",
       "    'url': 'http://twitter.com/search?q=%23ThursdayThoughts',\n",
       "    'promoted_content': None,\n",
       "    'query': '%23ThursdayThoughts',\n",
       "    'tweet_volume': 103659},\n",
       "   {'name': 'Farrakhan',\n",
       "    'url': 'http://twitter.com/search?q=Farrakhan',\n",
       "    'promoted_content': None,\n",
       "    'query': 'Farrakhan',\n",
       "    'tweet_volume': 51768},\n",
       "   {'name': '#MEmeans',\n",
       "    'url': 'http://twitter.com/search?q=%23MEmeans',\n",
       "    'promoted_content': None,\n",
       "    'query': '%23MEmeans',\n",
       "    'tweet_volume': 14642},\n",
       "   {'name': 'Burger King',\n",
       "    'url': 'http://twitter.com/search?q=%22Burger+King%22',\n",
       "    'promoted_content': None,\n",
       "    'query': '%22Burger+King%22',\n",
       "    'tweet_volume': 26587},\n",
       "   {'name': 'Dick Cheney',\n",
       "    'url': 'http://twitter.com/search?q=%22Dick+Cheney%22',\n",
       "    'promoted_content': None,\n",
       "    'query': '%22Dick+Cheney%22',\n",
       "    'tweet_volume': 10702},\n",
       "   {'name': 'Stephen Moore',\n",
       "    'url': 'http://twitter.com/search?q=%22Stephen+Moore%22',\n",
       "    'promoted_content': None,\n",
       "    'query': '%22Stephen+Moore%22',\n",
       "    'tweet_volume': 22425},\n",
       "   {'name': 'Milo Yiannopoulos',\n",
       "    'url': 'http://twitter.com/search?q=%22Milo+Yiannopoulos%22',\n",
       "    'promoted_content': None,\n",
       "    'query': '%22Milo+Yiannopoulos%22',\n",
       "    'tweet_volume': 20788},\n",
       "   {'name': 'Baltimore Mayor Catherine Pugh',\n",
       "    'url': 'http://twitter.com/search?q=%22Baltimore+Mayor+Catherine+Pugh%22',\n",
       "    'promoted_content': None,\n",
       "    'query': '%22Baltimore+Mayor+Catherine+Pugh%22',\n",
       "    'tweet_volume': None},\n",
       "   {'name': \"Galaxy's Edge\",\n",
       "    'url': 'http://twitter.com/search?q=%22Galaxy%27s+Edge%22',\n",
       "    'promoted_content': None,\n",
       "    'query': '%22Galaxy%27s+Edge%22',\n",
       "    'tweet_volume': None},\n",
       "   {'name': 'Noah Syndergaard',\n",
       "    'url': 'http://twitter.com/search?q=%22Noah+Syndergaard%22',\n",
       "    'promoted_content': None,\n",
       "    'query': '%22Noah+Syndergaard%22',\n",
       "    'tweet_volume': None},\n",
       "   {'name': 'The Advocate',\n",
       "    'url': 'http://twitter.com/search?q=%22The+Advocate%22',\n",
       "    'promoted_content': None,\n",
       "    'query': '%22The+Advocate%22',\n",
       "    'tweet_volume': None},\n",
       "   {'name': 'Times-Picayune',\n",
       "    'url': 'http://twitter.com/search?q=Times-Picayune',\n",
       "    'promoted_content': None,\n",
       "    'query': 'Times-Picayune',\n",
       "    'tweet_volume': None},\n",
       "   {'name': 'Arizona Iced Tea',\n",
       "    'url': 'http://twitter.com/search?q=%22Arizona+Iced+Tea%22',\n",
       "    'promoted_content': None,\n",
       "    'query': '%22Arizona+Iced+Tea%22',\n",
       "    'tweet_volume': None},\n",
       "   {'name': 'Lacazette',\n",
       "    'url': 'http://twitter.com/search?q=Lacazette',\n",
       "    'promoted_content': None,\n",
       "    'query': 'Lacazette',\n",
       "    'tweet_volume': 37077},\n",
       "   {'name': 'Danny Ainge',\n",
       "    'url': 'http://twitter.com/search?q=%22Danny+Ainge%22',\n",
       "    'promoted_content': None,\n",
       "    'query': '%22Danny+Ainge%22',\n",
       "    'tweet_volume': None},\n",
       "   {'name': 'Beyond Meat',\n",
       "    'url': 'http://twitter.com/search?q=%22Beyond+Meat%22',\n",
       "    'promoted_content': None,\n",
       "    'query': '%22Beyond+Meat%22',\n",
       "    'tweet_volume': None},\n",
       "   {'name': 'Joyner Lucas',\n",
       "    'url': 'http://twitter.com/search?q=%22Joyner+Lucas%22',\n",
       "    'promoted_content': None,\n",
       "    'query': '%22Joyner+Lucas%22',\n",
       "    'tweet_volume': None},\n",
       "   {'name': 'Nation of Islam',\n",
       "    'url': 'http://twitter.com/search?q=%22Nation+of+Islam%22',\n",
       "    'promoted_content': None,\n",
       "    'query': '%22Nation+of+Islam%22',\n",
       "    'tweet_volume': None},\n",
       "   {'name': 'Paul Joseph Watson',\n",
       "    'url': 'http://twitter.com/search?q=%22Paul+Joseph+Watson%22',\n",
       "    'promoted_content': None,\n",
       "    'query': '%22Paul+Joseph+Watson%22',\n",
       "    'tweet_volume': 19815},\n",
       "   {'name': 'Brandon Lowe',\n",
       "    'url': 'http://twitter.com/search?q=%22Brandon+Lowe%22',\n",
       "    'promoted_content': None,\n",
       "    'query': '%22Brandon+Lowe%22',\n",
       "    'tweet_volume': None},\n",
       "   {'name': 'Auba',\n",
       "    'url': 'http://twitter.com/search?q=Auba',\n",
       "    'promoted_content': None,\n",
       "    'query': 'Auba',\n",
       "    'tweet_volume': None},\n",
       "   {'name': 'Boogie Ellis',\n",
       "    'url': 'http://twitter.com/search?q=%22Boogie+Ellis%22',\n",
       "    'promoted_content': None,\n",
       "    'query': '%22Boogie+Ellis%22',\n",
       "    'tweet_volume': None},\n",
       "   {'name': 'Facebook and Instagram',\n",
       "    'url': 'http://twitter.com/search?q=%22Facebook+and+Instagram%22',\n",
       "    'promoted_content': None,\n",
       "    'query': '%22Facebook+and+Instagram%22',\n",
       "    'tweet_volume': None},\n",
       "   {'name': 'Red Kelly',\n",
       "    'url': 'http://twitter.com/search?q=%22Red+Kelly%22',\n",
       "    'promoted_content': None,\n",
       "    'query': '%22Red+Kelly%22',\n",
       "    'tweet_volume': None},\n",
       "   {'name': 'Peralta',\n",
       "    'url': 'http://twitter.com/search?q=Peralta',\n",
       "    'promoted_content': None,\n",
       "    'query': 'Peralta',\n",
       "    'tweet_volume': None},\n",
       "   {'name': 'DGAF',\n",
       "    'url': 'http://twitter.com/search?q=DGAF',\n",
       "    'promoted_content': None,\n",
       "    'query': 'DGAF',\n",
       "    'tweet_volume': None},\n",
       "   {'name': '#ARSVAL',\n",
       "    'url': 'http://twitter.com/search?q=%23ARSVAL',\n",
       "    'promoted_content': None,\n",
       "    'query': '%23ARSVAL',\n",
       "    'tweet_volume': 31197},\n",
       "   {'name': '#NationalDayOfPrayer',\n",
       "    'url': 'http://twitter.com/search?q=%23NationalDayOfPrayer',\n",
       "    'promoted_content': None,\n",
       "    'query': '%23NationalDayOfPrayer',\n",
       "    'tweet_volume': 57257},\n",
       "   {'name': '#COYG',\n",
       "    'url': 'http://twitter.com/search?q=%23COYG',\n",
       "    'promoted_content': None,\n",
       "    'query': '%23COYG',\n",
       "    'tweet_volume': None},\n",
       "   {'name': '#HolocaustRemembranceDay',\n",
       "    'url': 'http://twitter.com/search?q=%23HolocaustRemembranceDay',\n",
       "    'promoted_content': None,\n",
       "    'query': '%23HolocaustRemembranceDay',\n",
       "    'tweet_volume': 22499},\n",
       "   {'name': '#FirstThingOnMyToDoList',\n",
       "    'url': 'http://twitter.com/search?q=%23FirstThingOnMyToDoList',\n",
       "    'promoted_content': None,\n",
       "    'query': '%23FirstThingOnMyToDoList',\n",
       "    'tweet_volume': None},\n",
       "   {'name': '#USWNT',\n",
       "    'url': 'http://twitter.com/search?q=%23USWNT',\n",
       "    'promoted_content': None,\n",
       "    'query': '%23USWNT',\n",
       "    'tweet_volume': None},\n",
       "   {'name': '#MuchNeededInventions',\n",
       "    'url': 'http://twitter.com/search?q=%23MuchNeededInventions',\n",
       "    'promoted_content': None,\n",
       "    'query': '%23MuchNeededInventions',\n",
       "    'tweet_volume': None},\n",
       "   {'name': '#FRACHE',\n",
       "    'url': 'http://twitter.com/search?q=%23FRACHE',\n",
       "    'promoted_content': None,\n",
       "    'query': '%23FRACHE',\n",
       "    'tweet_volume': 23446},\n",
       "   {'name': '#ThursdayMotivation',\n",
       "    'url': 'http://twitter.com/search?q=%23ThursdayMotivation',\n",
       "    'promoted_content': None,\n",
       "    'query': '%23ThursdayMotivation',\n",
       "    'tweet_volume': 43428},\n",
       "   {'name': '#MPATUO',\n",
       "    'url': 'http://twitter.com/search?q=%23MPATUO',\n",
       "    'promoted_content': None,\n",
       "    'query': '%23MPATUO',\n",
       "    'tweet_volume': None},\n",
       "   {'name': '#EuropaLeague',\n",
       "    'url': 'http://twitter.com/search?q=%23EuropaLeague',\n",
       "    'promoted_content': None,\n",
       "    'query': '%23EuropaLeague',\n",
       "    'tweet_volume': None},\n",
       "   {'name': '#FeelYourWay',\n",
       "    'url': 'http://twitter.com/search?q=%23FeelYourWay',\n",
       "    'promoted_content': None,\n",
       "    'query': '%23FeelYourWay',\n",
       "    'tweet_volume': None},\n",
       "   {'name': '#PutPatientsFirst',\n",
       "    'url': 'http://twitter.com/search?q=%23PutPatientsFirst',\n",
       "    'promoted_content': None,\n",
       "    'query': '%23PutPatientsFirst',\n",
       "    'tweet_volume': None},\n",
       "   {'name': '#askremi',\n",
       "    'url': 'http://twitter.com/search?q=%23askremi',\n",
       "    'promoted_content': None,\n",
       "    'query': '%23askremi',\n",
       "    'tweet_volume': None},\n",
       "   {'name': '#SmartyChat',\n",
       "    'url': 'http://twitter.com/search?q=%23SmartyChat',\n",
       "    'promoted_content': None,\n",
       "    'query': '%23SmartyChat',\n",
       "    'tweet_volume': None},\n",
       "   {'name': '#WBChat',\n",
       "    'url': 'http://twitter.com/search?q=%23WBChat',\n",
       "    'promoted_content': None,\n",
       "    'query': '%23WBChat',\n",
       "    'tweet_volume': None}],\n",
       "  'as_of': '2019-05-02T21:18:19Z',\n",
       "  'created_at': '2019-05-02T21:12:10Z',\n",
       "  'locations': [{'name': 'San Francisco', 'woeid': 2487956}]}]"
      ]
     },
     "execution_count": 79,
     "metadata": {},
     "output_type": "execute_result"
    }
   ],
   "source": [
    "# print trends in San Francisco\n",
    "trend_sf"
   ]
  },
  {
   "cell_type": "code",
   "execution_count": 80,
   "metadata": {},
   "outputs": [
    {
     "data": {
      "text/plain": [
       "[{'name': 'Tumblr',\n",
       "  'url': 'http://twitter.com/search?q=Tumblr',\n",
       "  'promoted_content': None,\n",
       "  'query': 'Tumblr',\n",
       "  'tweet_volume': 93186},\n",
       " {'name': 'Alex Jones',\n",
       "  'url': 'http://twitter.com/search?q=%22Alex+Jones%22',\n",
       "  'promoted_content': None,\n",
       "  'query': '%22Alex+Jones%22',\n",
       "  'tweet_volume': 33825},\n",
       " {'name': 'Laura Loomer',\n",
       "  'url': 'http://twitter.com/search?q=%22Laura+Loomer%22',\n",
       "  'promoted_content': None,\n",
       "  'query': '%22Laura+Loomer%22',\n",
       "  'tweet_volume': 27695},\n",
       " {'name': '#GalaxysEdge',\n",
       "  'url': 'http://twitter.com/search?q=%23GalaxysEdge',\n",
       "  'promoted_content': None,\n",
       "  'query': '%23GalaxysEdge',\n",
       "  'tweet_volume': None},\n",
       " {'name': 'Piedmont',\n",
       "  'url': 'http://twitter.com/search?q=Piedmont',\n",
       "  'promoted_content': None,\n",
       "  'query': 'Piedmont',\n",
       "  'tweet_volume': None}]"
      ]
     },
     "execution_count": 80,
     "metadata": {},
     "output_type": "execute_result"
    }
   ],
   "source": [
    "# print first 5 trends in the selected city\n",
    "trend_sf[0]['trends'][0:5]"
   ]
  },
  {
   "cell_type": "markdown",
   "metadata": {},
   "source": [
    "Organize the San Francisco trends in a table (dataframe)"
   ]
  },
  {
   "cell_type": "code",
   "execution_count": 81,
   "metadata": {},
   "outputs": [],
   "source": [
    "trend_ls = [[trend['name'], trend['url'], trend['tweet_volume']] for trend in trend_sf[0]['trends']]\n",
    "\n",
    "df_trend = pd.DataFrame(trend_ls,columns=['name','url','tweet_volume'])"
   ]
  },
  {
   "cell_type": "code",
   "execution_count": 82,
   "metadata": {
    "scrolled": true
   },
   "outputs": [
    {
     "data": {
      "text/html": [
       "<div>\n",
       "<style scoped>\n",
       "    .dataframe tbody tr th:only-of-type {\n",
       "        vertical-align: middle;\n",
       "    }\n",
       "\n",
       "    .dataframe tbody tr th {\n",
       "        vertical-align: top;\n",
       "    }\n",
       "\n",
       "    .dataframe thead th {\n",
       "        text-align: right;\n",
       "    }\n",
       "</style>\n",
       "<table border=\"1\" class=\"dataframe\">\n",
       "  <thead>\n",
       "    <tr style=\"text-align: right;\">\n",
       "      <th></th>\n",
       "      <th>name</th>\n",
       "      <th>url</th>\n",
       "      <th>tweet_volume</th>\n",
       "    </tr>\n",
       "  </thead>\n",
       "  <tbody>\n",
       "    <tr>\n",
       "      <th>7</th>\n",
       "      <td>#BBMAs</td>\n",
       "      <td>http://twitter.com/search?q=%23BBMAs</td>\n",
       "      <td>11360466.0</td>\n",
       "    </tr>\n",
       "    <tr>\n",
       "      <th>6</th>\n",
       "      <td>Barr</td>\n",
       "      <td>http://twitter.com/search?q=Barr</td>\n",
       "      <td>2451016.0</td>\n",
       "    </tr>\n",
       "    <tr>\n",
       "      <th>8</th>\n",
       "      <td>#ThursdayThoughts</td>\n",
       "      <td>http://twitter.com/search?q=%23ThursdayThoughts</td>\n",
       "      <td>103659.0</td>\n",
       "    </tr>\n",
       "    <tr>\n",
       "      <th>0</th>\n",
       "      <td>Tumblr</td>\n",
       "      <td>http://twitter.com/search?q=Tumblr</td>\n",
       "      <td>93186.0</td>\n",
       "    </tr>\n",
       "    <tr>\n",
       "      <th>35</th>\n",
       "      <td>#NationalDayOfPrayer</td>\n",
       "      <td>http://twitter.com/search?q=%23NationalDayOfPr...</td>\n",
       "      <td>57257.0</td>\n",
       "    </tr>\n",
       "    <tr>\n",
       "      <th>9</th>\n",
       "      <td>Farrakhan</td>\n",
       "      <td>http://twitter.com/search?q=Farrakhan</td>\n",
       "      <td>51768.0</td>\n",
       "    </tr>\n",
       "    <tr>\n",
       "      <th>42</th>\n",
       "      <td>#ThursdayMotivation</td>\n",
       "      <td>http://twitter.com/search?q=%23ThursdayMotivation</td>\n",
       "      <td>43428.0</td>\n",
       "    </tr>\n",
       "    <tr>\n",
       "      <th>21</th>\n",
       "      <td>Lacazette</td>\n",
       "      <td>http://twitter.com/search?q=Lacazette</td>\n",
       "      <td>37077.0</td>\n",
       "    </tr>\n",
       "    <tr>\n",
       "      <th>1</th>\n",
       "      <td>Alex Jones</td>\n",
       "      <td>http://twitter.com/search?q=%22Alex+Jones%22</td>\n",
       "      <td>33825.0</td>\n",
       "    </tr>\n",
       "    <tr>\n",
       "      <th>34</th>\n",
       "      <td>#ARSVAL</td>\n",
       "      <td>http://twitter.com/search?q=%23ARSVAL</td>\n",
       "      <td>31197.0</td>\n",
       "    </tr>\n",
       "  </tbody>\n",
       "</table>\n",
       "</div>"
      ],
      "text/plain": [
       "                    name                                                url  \\\n",
       "7                 #BBMAs               http://twitter.com/search?q=%23BBMAs   \n",
       "6                   Barr                   http://twitter.com/search?q=Barr   \n",
       "8      #ThursdayThoughts    http://twitter.com/search?q=%23ThursdayThoughts   \n",
       "0                 Tumblr                 http://twitter.com/search?q=Tumblr   \n",
       "35  #NationalDayOfPrayer  http://twitter.com/search?q=%23NationalDayOfPr...   \n",
       "9              Farrakhan              http://twitter.com/search?q=Farrakhan   \n",
       "42   #ThursdayMotivation  http://twitter.com/search?q=%23ThursdayMotivation   \n",
       "21             Lacazette              http://twitter.com/search?q=Lacazette   \n",
       "1             Alex Jones       http://twitter.com/search?q=%22Alex+Jones%22   \n",
       "34               #ARSVAL              http://twitter.com/search?q=%23ARSVAL   \n",
       "\n",
       "    tweet_volume  \n",
       "7     11360466.0  \n",
       "6      2451016.0  \n",
       "8       103659.0  \n",
       "0        93186.0  \n",
       "35       57257.0  \n",
       "9        51768.0  \n",
       "42       43428.0  \n",
       "21       37077.0  \n",
       "1        33825.0  \n",
       "34       31197.0  "
      ]
     },
     "execution_count": 82,
     "metadata": {},
     "output_type": "execute_result"
    }
   ],
   "source": [
    "# Sort the trends by tweet volumn in a descending order\n",
    "df_trend.sort_values(\"tweet_volume\", inplace = True, ascending = False)\n",
    "\n",
    "# Print the top 10 trends ranked by tweet volumne\n",
    "df_trend.head(10)"
   ]
  },
  {
   "cell_type": "markdown",
   "metadata": {},
   "source": [
    "---"
   ]
  },
  {
   "cell_type": "markdown",
   "metadata": {},
   "source": [
    "## 3. Acquiring Tweets using the Search API"
   ]
  },
  {
   "cell_type": "markdown",
   "metadata": {},
   "source": [
    "### 3.1 Search using keywords"
   ]
  },
  {
   "cell_type": "markdown",
   "metadata": {},
   "source": [
    "Get the trend on the top"
   ]
  },
  {
   "cell_type": "code",
   "execution_count": 29,
   "metadata": {},
   "outputs": [
    {
     "data": {
      "text/plain": [
       "'Tumblr'"
      ]
     },
     "execution_count": 29,
     "metadata": {},
     "output_type": "execute_result"
    }
   ],
   "source": [
    "df_trend.name[0]"
   ]
  },
  {
   "cell_type": "markdown",
   "metadata": {},
   "source": [
    "use the trend as the keyword for searching."
   ]
  },
  {
   "cell_type": "code",
   "execution_count": 86,
   "metadata": {},
   "outputs": [],
   "source": [
    "# Define the search term and the date_since date as variables\n",
    "# only date (not specific time) will work in the parameter.\n",
    "search_words = df_trend.name[0] # you can set the search words to any keyword you are interested.\n",
    "date_since = \"2019-4-27\"\n",
    "# date_until = \"2019-4-28\""
   ]
  },
  {
   "cell_type": "markdown",
   "metadata": {},
   "source": [
    "search _n_ tweets using the keyword (the top trend). The search will return all tweets containing the keyword worldwide."
   ]
  },
  {
   "cell_type": "code",
   "execution_count": 87,
   "metadata": {},
   "outputs": [
    {
     "data": {
      "text/plain": [
       "['12 months ago Tumblr went on a crackdown of any images that set off an overly-sensitive automatic image sensor for… https://t.co/cSA4QyayIO',\n",
       " '📷 pointedahead: redfield5x5: Lucy Liu’s Hollywood Walk of Fame star ceremony, May 1st, 2019 She... https://t.co/n7WAgfFlid',\n",
       " 'RT @AllArduino: #arduino https://t.co/w0Xr3gAtKz Android Notification Detection using Arduino?',\n",
       " 'RT @70sscifiart: From the author, Don Davis:\\n\\n“One of my earliest Space Colony paintings was based on the giant ‘Model 3’ cylindrical habit…',\n",
       " '📷 hotmeninrubber45: DON’T PLAY this if you want to avoid a SORE cock tonight &gt;&gt; See how long you can... https://t.co/KXQ8LZVo9a']"
      ]
     },
     "execution_count": 87,
     "metadata": {},
     "output_type": "execute_result"
    }
   ],
   "source": [
    "# set up tweepy cursor and search 5 tweets according preset parameters\n",
    "tweets = tweepy.Cursor(api.search,\n",
    "              q=search_words,\n",
    "              lang=\"en\",\n",
    "              since=date_since).items(5)\n",
    "[tweet.text for tweet in tweets]"
   ]
  },
  {
   "cell_type": "markdown",
   "metadata": {},
   "source": [
    "As lots of retweets are repeating the original tweets, we can set up a filter to eliminate the retweets and keep only the original tweets."
   ]
  },
  {
   "cell_type": "code",
   "execution_count": 88,
   "metadata": {},
   "outputs": [
    {
     "data": {
      "text/plain": [
       "'Tumblr -filter:retweets'"
      ]
     },
     "execution_count": 88,
     "metadata": {},
     "output_type": "execute_result"
    }
   ],
   "source": [
    "new_search = search_words + \" -filter:retweets\"\n",
    "new_search"
   ]
  },
  {
   "cell_type": "markdown",
   "metadata": {},
   "source": [
    "Now, you can see only original tweets are retrieved."
   ]
  },
  {
   "cell_type": "code",
   "execution_count": 89,
   "metadata": {},
   "outputs": [],
   "source": [
    "# Use a cursor to retrieve 5 tweets (most recent sample) using the keywords.\n",
    "tweets = tweepy.Cursor(api.search,\n",
    "                       q=new_search,\n",
    "                       lang=\"en\",\n",
    "                       since=date_since).items(5)\n",
    "\n",
    "# store the retrieved tweets in a list\n",
    "tweets_ls = [[tweet.created_at, tweet.user.screen_name, tweet.text,  tweet.user.location] for tweet in tweets]"
   ]
  },
  {
   "cell_type": "markdown",
   "metadata": {},
   "source": [
    "Print to see the list."
   ]
  },
  {
   "cell_type": "code",
   "execution_count": 90,
   "metadata": {},
   "outputs": [
    {
     "data": {
      "text/plain": [
       "[[datetime.datetime(2019, 5, 2, 21, 20, 27),\n",
       "  'prfctblythe',\n",
       "  'i’ll delete this asap so i need to know if u guys would like to see this kind of lockscreen 🤠 i need to... https://t.co/OEQD2QBSya',\n",
       "  'fan account '],\n",
       " [datetime.datetime(2019, 5, 2, 21, 20, 26),\n",
       "  'bastardsheep',\n",
       "  '12 months ago Tumblr went on a crackdown of any images that set off an overly-sensitive automatic image sensor for… https://t.co/cSA4QyayIO',\n",
       "  'Sydney, Australia.'],\n",
       " [datetime.datetime(2019, 5, 2, 21, 20, 25),\n",
       "  'nilot_90',\n",
       "  '📷 pointedahead: redfield5x5: Lucy Liu’s Hollywood Walk of Fame star ceremony, May 1st, 2019 She... https://t.co/n7WAgfFlid',\n",
       "  'Salem, OR -- Phoenix, AZ'],\n",
       " [datetime.datetime(2019, 5, 2, 21, 20, 21),\n",
       "  'PupLakota',\n",
       "  '📷 hotmeninrubber45: DON’T PLAY this if you want to avoid a SORE cock tonight &gt;&gt; See how long you can... https://t.co/KXQ8LZVo9a',\n",
       "  'Brentwood, CA'],\n",
       " [datetime.datetime(2019, 5, 2, 21, 20, 21),\n",
       "  'ViajeEnOferta',\n",
       "  '📷 scavengedluxury: Treviso, June 2017. https://t.co/tM5IOhepSQ',\n",
       "  'España']]"
      ]
     },
     "execution_count": 90,
     "metadata": {},
     "output_type": "execute_result"
    }
   ],
   "source": [
    "tweets_ls"
   ]
  },
  {
   "cell_type": "markdown",
   "metadata": {},
   "source": [
    "Convert the list into dataframe and print it out"
   ]
  },
  {
   "cell_type": "code",
   "execution_count": 91,
   "metadata": {},
   "outputs": [
    {
     "data": {
      "text/html": [
       "<div>\n",
       "<style scoped>\n",
       "    .dataframe tbody tr th:only-of-type {\n",
       "        vertical-align: middle;\n",
       "    }\n",
       "\n",
       "    .dataframe tbody tr th {\n",
       "        vertical-align: top;\n",
       "    }\n",
       "\n",
       "    .dataframe thead th {\n",
       "        text-align: right;\n",
       "    }\n",
       "</style>\n",
       "<table border=\"1\" class=\"dataframe\">\n",
       "  <thead>\n",
       "    <tr style=\"text-align: right;\">\n",
       "      <th></th>\n",
       "      <th>0</th>\n",
       "      <th>1</th>\n",
       "      <th>2</th>\n",
       "      <th>3</th>\n",
       "    </tr>\n",
       "  </thead>\n",
       "  <tbody>\n",
       "    <tr>\n",
       "      <th>0</th>\n",
       "      <td>2019-05-02 21:20:27</td>\n",
       "      <td>prfctblythe</td>\n",
       "      <td>i’ll delete this asap so i need to know if u g...</td>\n",
       "      <td>fan account</td>\n",
       "    </tr>\n",
       "    <tr>\n",
       "      <th>1</th>\n",
       "      <td>2019-05-02 21:20:26</td>\n",
       "      <td>bastardsheep</td>\n",
       "      <td>12 months ago Tumblr went on a crackdown of an...</td>\n",
       "      <td>Sydney, Australia.</td>\n",
       "    </tr>\n",
       "    <tr>\n",
       "      <th>2</th>\n",
       "      <td>2019-05-02 21:20:25</td>\n",
       "      <td>nilot_90</td>\n",
       "      <td>📷 pointedahead: redfield5x5: Lucy Liu’s Hollyw...</td>\n",
       "      <td>Salem, OR -- Phoenix, AZ</td>\n",
       "    </tr>\n",
       "    <tr>\n",
       "      <th>3</th>\n",
       "      <td>2019-05-02 21:20:21</td>\n",
       "      <td>PupLakota</td>\n",
       "      <td>📷 hotmeninrubber45: DON’T PLAY this if you wan...</td>\n",
       "      <td>Brentwood, CA</td>\n",
       "    </tr>\n",
       "    <tr>\n",
       "      <th>4</th>\n",
       "      <td>2019-05-02 21:20:21</td>\n",
       "      <td>ViajeEnOferta</td>\n",
       "      <td>📷 scavengedluxury: Treviso, June 2017. https:/...</td>\n",
       "      <td>España</td>\n",
       "    </tr>\n",
       "  </tbody>\n",
       "</table>\n",
       "</div>"
      ],
      "text/plain": [
       "                    0              1  \\\n",
       "0 2019-05-02 21:20:27    prfctblythe   \n",
       "1 2019-05-02 21:20:26   bastardsheep   \n",
       "2 2019-05-02 21:20:25       nilot_90   \n",
       "3 2019-05-02 21:20:21      PupLakota   \n",
       "4 2019-05-02 21:20:21  ViajeEnOferta   \n",
       "\n",
       "                                                   2                         3  \n",
       "0  i’ll delete this asap so i need to know if u g...              fan account   \n",
       "1  12 months ago Tumblr went on a crackdown of an...        Sydney, Australia.  \n",
       "2  📷 pointedahead: redfield5x5: Lucy Liu’s Hollyw...  Salem, OR -- Phoenix, AZ  \n",
       "3  📷 hotmeninrubber45: DON’T PLAY this if you wan...             Brentwood, CA  \n",
       "4  📷 scavengedluxury: Treviso, June 2017. https:/...                    España  "
      ]
     },
     "execution_count": 91,
     "metadata": {},
     "output_type": "execute_result"
    }
   ],
   "source": [
    "tweets_df = pd.DataFrame(tweets_ls)\n",
    "tweets_df"
   ]
  },
  {
   "cell_type": "markdown",
   "metadata": {},
   "source": [
    "### 3.2 Search using keywords and locations"
   ]
  },
  {
   "cell_type": "markdown",
   "metadata": {},
   "source": [
    "Query for a popular trend keyword in San Francisco (200 miles range)"
   ]
  },
  {
   "cell_type": "markdown",
   "metadata": {},
   "source": [
    "First, let's check what are the top 10 trending topics in the selected city (San Francisco)."
   ]
  },
  {
   "cell_type": "code",
   "execution_count": 131,
   "metadata": {},
   "outputs": [
    {
     "data": {
      "text/html": [
       "<div>\n",
       "<style scoped>\n",
       "    .dataframe tbody tr th:only-of-type {\n",
       "        vertical-align: middle;\n",
       "    }\n",
       "\n",
       "    .dataframe tbody tr th {\n",
       "        vertical-align: top;\n",
       "    }\n",
       "\n",
       "    .dataframe thead th {\n",
       "        text-align: right;\n",
       "    }\n",
       "</style>\n",
       "<table border=\"1\" class=\"dataframe\">\n",
       "  <thead>\n",
       "    <tr style=\"text-align: right;\">\n",
       "      <th></th>\n",
       "      <th>name</th>\n",
       "      <th>url</th>\n",
       "      <th>tweet_volume</th>\n",
       "    </tr>\n",
       "  </thead>\n",
       "  <tbody>\n",
       "    <tr>\n",
       "      <th>7</th>\n",
       "      <td>#BBMAs</td>\n",
       "      <td>http://twitter.com/search?q=%23BBMAs</td>\n",
       "      <td>11360466.0</td>\n",
       "    </tr>\n",
       "    <tr>\n",
       "      <th>6</th>\n",
       "      <td>Barr</td>\n",
       "      <td>http://twitter.com/search?q=Barr</td>\n",
       "      <td>2451016.0</td>\n",
       "    </tr>\n",
       "    <tr>\n",
       "      <th>8</th>\n",
       "      <td>#ThursdayThoughts</td>\n",
       "      <td>http://twitter.com/search?q=%23ThursdayThoughts</td>\n",
       "      <td>103659.0</td>\n",
       "    </tr>\n",
       "    <tr>\n",
       "      <th>0</th>\n",
       "      <td>Tumblr</td>\n",
       "      <td>http://twitter.com/search?q=Tumblr</td>\n",
       "      <td>93186.0</td>\n",
       "    </tr>\n",
       "    <tr>\n",
       "      <th>35</th>\n",
       "      <td>#NationalDayOfPrayer</td>\n",
       "      <td>http://twitter.com/search?q=%23NationalDayOfPr...</td>\n",
       "      <td>57257.0</td>\n",
       "    </tr>\n",
       "    <tr>\n",
       "      <th>9</th>\n",
       "      <td>Farrakhan</td>\n",
       "      <td>http://twitter.com/search?q=Farrakhan</td>\n",
       "      <td>51768.0</td>\n",
       "    </tr>\n",
       "    <tr>\n",
       "      <th>42</th>\n",
       "      <td>#ThursdayMotivation</td>\n",
       "      <td>http://twitter.com/search?q=%23ThursdayMotivation</td>\n",
       "      <td>43428.0</td>\n",
       "    </tr>\n",
       "    <tr>\n",
       "      <th>21</th>\n",
       "      <td>Lacazette</td>\n",
       "      <td>http://twitter.com/search?q=Lacazette</td>\n",
       "      <td>37077.0</td>\n",
       "    </tr>\n",
       "    <tr>\n",
       "      <th>1</th>\n",
       "      <td>Alex Jones</td>\n",
       "      <td>http://twitter.com/search?q=%22Alex+Jones%22</td>\n",
       "      <td>33825.0</td>\n",
       "    </tr>\n",
       "    <tr>\n",
       "      <th>34</th>\n",
       "      <td>#ARSVAL</td>\n",
       "      <td>http://twitter.com/search?q=%23ARSVAL</td>\n",
       "      <td>31197.0</td>\n",
       "    </tr>\n",
       "  </tbody>\n",
       "</table>\n",
       "</div>"
      ],
      "text/plain": [
       "                    name                                                url  \\\n",
       "7                 #BBMAs               http://twitter.com/search?q=%23BBMAs   \n",
       "6                   Barr                   http://twitter.com/search?q=Barr   \n",
       "8      #ThursdayThoughts    http://twitter.com/search?q=%23ThursdayThoughts   \n",
       "0                 Tumblr                 http://twitter.com/search?q=Tumblr   \n",
       "35  #NationalDayOfPrayer  http://twitter.com/search?q=%23NationalDayOfPr...   \n",
       "9              Farrakhan              http://twitter.com/search?q=Farrakhan   \n",
       "42   #ThursdayMotivation  http://twitter.com/search?q=%23ThursdayMotivation   \n",
       "21             Lacazette              http://twitter.com/search?q=Lacazette   \n",
       "1             Alex Jones       http://twitter.com/search?q=%22Alex+Jones%22   \n",
       "34               #ARSVAL              http://twitter.com/search?q=%23ARSVAL   \n",
       "\n",
       "    tweet_volume  \n",
       "7     11360466.0  \n",
       "6      2451016.0  \n",
       "8       103659.0  \n",
       "0        93186.0  \n",
       "35       57257.0  \n",
       "9        51768.0  \n",
       "42       43428.0  \n",
       "21       37077.0  \n",
       "1        33825.0  \n",
       "34       31197.0  "
      ]
     },
     "execution_count": 131,
     "metadata": {},
     "output_type": "execute_result"
    }
   ],
   "source": [
    "df_trend.head(10)"
   ]
  },
  {
   "cell_type": "markdown",
   "metadata": {},
   "source": [
    "## <font color='red'><strong>Note: please wait for the instruction before running the following code. All people running together may lead to an IP block</strong></font>"
   ]
  },
  {
   "cell_type": "code",
   "execution_count": 196,
   "metadata": {},
   "outputs": [],
   "source": [
    "new_search = \"#BBMAs -filter:retweets\"\n",
    "#new_search = \" -filter:retweets\"\n",
    "\n",
    "# use cursor to send your request with parameters\n",
    "tweets = tweepy.Cursor(api.search,\n",
    "                   q=new_search,\n",
    "                   geocode = \"37.7749,-122.4194,200mi\",\n",
    "                   lang=\"en\").items(1000)\n",
    "\n",
    "# restore the results as a list\n",
    "search_result = [[tweet.user.screen_name, tweet.text, tweet.user.location,tweet.place] for tweet in tweets]"
   ]
  },
  {
   "cell_type": "markdown",
   "metadata": {},
   "source": [
    "Convert the searched tweets into a dataframe"
   ]
  },
  {
   "cell_type": "code",
   "execution_count": 197,
   "metadata": {},
   "outputs": [],
   "source": [
    "df_result = pd.DataFrame(data=search_result, \n",
    "                    columns=['user', \"text\",\"location\",\"place\"])"
   ]
  },
  {
   "cell_type": "markdown",
   "metadata": {},
   "source": [
    "Preview the first 5 tweets"
   ]
  },
  {
   "cell_type": "code",
   "execution_count": 198,
   "metadata": {},
   "outputs": [
    {
     "data": {
      "text/html": [
       "<div>\n",
       "<style scoped>\n",
       "    .dataframe tbody tr th:only-of-type {\n",
       "        vertical-align: middle;\n",
       "    }\n",
       "\n",
       "    .dataframe tbody tr th {\n",
       "        vertical-align: top;\n",
       "    }\n",
       "\n",
       "    .dataframe thead th {\n",
       "        text-align: right;\n",
       "    }\n",
       "</style>\n",
       "<table border=\"1\" class=\"dataframe\">\n",
       "  <thead>\n",
       "    <tr style=\"text-align: right;\">\n",
       "      <th></th>\n",
       "      <th>user</th>\n",
       "      <th>text</th>\n",
       "      <th>location</th>\n",
       "      <th>place</th>\n",
       "    </tr>\n",
       "  </thead>\n",
       "  <tbody>\n",
       "    <tr>\n",
       "      <th>0</th>\n",
       "      <td>Bay_Shark_707</td>\n",
       "      <td>@TomiLahren @LindseyGrahamSC This one too #Thu...</td>\n",
       "      <td>Redding, CA</td>\n",
       "      <td>None</td>\n",
       "    </tr>\n",
       "    <tr>\n",
       "      <th>1</th>\n",
       "      <td>Bay_Shark_707</td>\n",
       "      <td>@TomiLahren Millions of US citizens losing hea...</td>\n",
       "      <td>Redding, CA</td>\n",
       "      <td>None</td>\n",
       "    </tr>\n",
       "    <tr>\n",
       "      <th>2</th>\n",
       "      <td>Bay_Shark_707</td>\n",
       "      <td>@TomiLahren @LindseyGrahamSC Look at this. Sai...</td>\n",
       "      <td>Redding, CA</td>\n",
       "      <td>None</td>\n",
       "    </tr>\n",
       "    <tr>\n",
       "      <th>3</th>\n",
       "      <td>reyalfashion</td>\n",
       "      <td>Thank you @DanReynolds of @Imaginedragons for ...</td>\n",
       "      <td>San Francisco, CA</td>\n",
       "      <td>None</td>\n",
       "    </tr>\n",
       "    <tr>\n",
       "      <th>4</th>\n",
       "      <td>925theBreeze</td>\n",
       "      <td>Every Jaw-Dropping Moment From @PaulaAbdul #BB...</td>\n",
       "      <td>Sacramento, CA</td>\n",
       "      <td>None</td>\n",
       "    </tr>\n",
       "  </tbody>\n",
       "</table>\n",
       "</div>"
      ],
      "text/plain": [
       "            user                                               text  \\\n",
       "0  Bay_Shark_707  @TomiLahren @LindseyGrahamSC This one too #Thu...   \n",
       "1  Bay_Shark_707  @TomiLahren Millions of US citizens losing hea...   \n",
       "2  Bay_Shark_707  @TomiLahren @LindseyGrahamSC Look at this. Sai...   \n",
       "3   reyalfashion  Thank you @DanReynolds of @Imaginedragons for ...   \n",
       "4   925theBreeze  Every Jaw-Dropping Moment From @PaulaAbdul #BB...   \n",
       "\n",
       "            location place  \n",
       "0        Redding, CA  None  \n",
       "1        Redding, CA  None  \n",
       "2        Redding, CA  None  \n",
       "3  San Francisco, CA  None  \n",
       "4     Sacramento, CA  None  "
      ]
     },
     "execution_count": 198,
     "metadata": {},
     "output_type": "execute_result"
    }
   ],
   "source": [
    "df_result.head()"
   ]
  },
  {
   "cell_type": "markdown",
   "metadata": {},
   "source": [
    "Preview the first 5 tweets with geotags"
   ]
  },
  {
   "cell_type": "code",
   "execution_count": 199,
   "metadata": {},
   "outputs": [
    {
     "data": {
      "text/html": [
       "<div>\n",
       "<style scoped>\n",
       "    .dataframe tbody tr th:only-of-type {\n",
       "        vertical-align: middle;\n",
       "    }\n",
       "\n",
       "    .dataframe tbody tr th {\n",
       "        vertical-align: top;\n",
       "    }\n",
       "\n",
       "    .dataframe thead th {\n",
       "        text-align: right;\n",
       "    }\n",
       "</style>\n",
       "<table border=\"1\" class=\"dataframe\">\n",
       "  <thead>\n",
       "    <tr style=\"text-align: right;\">\n",
       "      <th></th>\n",
       "      <th>user</th>\n",
       "      <th>text</th>\n",
       "      <th>location</th>\n",
       "      <th>place</th>\n",
       "    </tr>\n",
       "  </thead>\n",
       "  <tbody>\n",
       "    <tr>\n",
       "      <th>8</th>\n",
       "      <td>KindaCoolGreg</td>\n",
       "      <td>Jay-Z and XXXtentacion won #BBMAs for R&amp;amp;B,...</td>\n",
       "      <td>$an Francisco, CA</td>\n",
       "      <td>Place(_api=&lt;tweepy.api.API object at 0x0000021...</td>\n",
       "    </tr>\n",
       "    <tr>\n",
       "      <th>24</th>\n",
       "      <td>OnAirWithVicki</td>\n",
       "      <td>My Top 5 #BBMAs OHMG! Moments: First, CONGRATS...</td>\n",
       "      <td>Sacramento, CA</td>\n",
       "      <td>Place(_api=&lt;tweepy.api.API object at 0x0000021...</td>\n",
       "    </tr>\n",
       "    <tr>\n",
       "      <th>34</th>\n",
       "      <td>LeineFran</td>\n",
       "      <td>\"I just want to say that there are still 34 st...</td>\n",
       "      <td>Alameda, CA</td>\n",
       "      <td>Place(_api=&lt;tweepy.api.API object at 0x0000021...</td>\n",
       "    </tr>\n",
       "    <tr>\n",
       "      <th>35</th>\n",
       "      <td>jmgreen05</td>\n",
       "      <td>I know nothing about bts except #BBMAs https:/...</td>\n",
       "      <td>California</td>\n",
       "      <td>Place(_api=&lt;tweepy.api.API object at 0x0000021...</td>\n",
       "    </tr>\n",
       "    <tr>\n",
       "      <th>61</th>\n",
       "      <td>CassioHuerta</td>\n",
       "      <td>Billboard Music Awards: Here are the top 10 hi...</td>\n",
       "      <td>Fresno, CA</td>\n",
       "      <td>Place(_api=&lt;tweepy.api.API object at 0x0000021...</td>\n",
       "    </tr>\n",
       "  </tbody>\n",
       "</table>\n",
       "</div>"
      ],
      "text/plain": [
       "              user                                               text  \\\n",
       "8    KindaCoolGreg  Jay-Z and XXXtentacion won #BBMAs for R&amp;B,...   \n",
       "24  OnAirWithVicki  My Top 5 #BBMAs OHMG! Moments: First, CONGRATS...   \n",
       "34       LeineFran  \"I just want to say that there are still 34 st...   \n",
       "35       jmgreen05  I know nothing about bts except #BBMAs https:/...   \n",
       "61    CassioHuerta  Billboard Music Awards: Here are the top 10 hi...   \n",
       "\n",
       "             location                                              place  \n",
       "8   $an Francisco, CA  Place(_api=<tweepy.api.API object at 0x0000021...  \n",
       "24     Sacramento, CA  Place(_api=<tweepy.api.API object at 0x0000021...  \n",
       "34        Alameda, CA  Place(_api=<tweepy.api.API object at 0x0000021...  \n",
       "35         California  Place(_api=<tweepy.api.API object at 0x0000021...  \n",
       "61         Fresno, CA  Place(_api=<tweepy.api.API object at 0x0000021...  "
      ]
     },
     "execution_count": 199,
     "metadata": {},
     "output_type": "execute_result"
    }
   ],
   "source": [
    "df_result[df_result['place'].notna()].head()"
   ]
  },
  {
   "cell_type": "markdown",
   "metadata": {},
   "source": [
    "### 3.3 check how many tweets are geotagged"
   ]
  },
  {
   "cell_type": "code",
   "execution_count": 200,
   "metadata": {},
   "outputs": [
    {
     "name": "stdout",
     "output_type": "stream",
     "text": [
      "59 out of the 732 retrieved tweets actually have geotags\n"
     ]
    }
   ],
   "source": [
    "all_tweets = len(df_result[df_result['place'].notna()]) # all retrieved tweets\n",
    "geo_tweets = len(df_result) # tweets that actually have geotags.\n",
    "\n",
    "print(\"%s out of the %s retrieved tweets actually have geotags\" % (all_tweets, geo_tweets))"
   ]
  },
  {
   "cell_type": "markdown",
   "metadata": {},
   "source": [
    "#### Copy tweets with geotags to a new dataframe called \"geotags\""
   ]
  },
  {
   "cell_type": "code",
   "execution_count": 201,
   "metadata": {},
   "outputs": [],
   "source": [
    "geotags = df_result.loc[df_result['place'].notna()].copy()"
   ]
  },
  {
   "cell_type": "markdown",
   "metadata": {},
   "source": [
    "#### get their place and view where first 5 tweets are from"
   ]
  },
  {
   "cell_type": "code",
   "execution_count": 202,
   "metadata": {},
   "outputs": [],
   "source": [
    "geotags['place_name'] = geotags.place.apply(lambda s:s.name)"
   ]
  },
  {
   "cell_type": "code",
   "execution_count": 203,
   "metadata": {},
   "outputs": [
    {
     "data": {
      "text/html": [
       "<div>\n",
       "<style scoped>\n",
       "    .dataframe tbody tr th:only-of-type {\n",
       "        vertical-align: middle;\n",
       "    }\n",
       "\n",
       "    .dataframe tbody tr th {\n",
       "        vertical-align: top;\n",
       "    }\n",
       "\n",
       "    .dataframe thead th {\n",
       "        text-align: right;\n",
       "    }\n",
       "</style>\n",
       "<table border=\"1\" class=\"dataframe\">\n",
       "  <thead>\n",
       "    <tr style=\"text-align: right;\">\n",
       "      <th></th>\n",
       "      <th>user</th>\n",
       "      <th>text</th>\n",
       "      <th>location</th>\n",
       "      <th>place</th>\n",
       "      <th>place_name</th>\n",
       "    </tr>\n",
       "  </thead>\n",
       "  <tbody>\n",
       "    <tr>\n",
       "      <th>8</th>\n",
       "      <td>KindaCoolGreg</td>\n",
       "      <td>Jay-Z and XXXtentacion won #BBMAs for R&amp;amp;B,...</td>\n",
       "      <td>$an Francisco, CA</td>\n",
       "      <td>Place(_api=&lt;tweepy.api.API object at 0x0000021...</td>\n",
       "      <td>San Francisco</td>\n",
       "    </tr>\n",
       "    <tr>\n",
       "      <th>24</th>\n",
       "      <td>OnAirWithVicki</td>\n",
       "      <td>My Top 5 #BBMAs OHMG! Moments: First, CONGRATS...</td>\n",
       "      <td>Sacramento, CA</td>\n",
       "      <td>Place(_api=&lt;tweepy.api.API object at 0x0000021...</td>\n",
       "      <td>Sacramento</td>\n",
       "    </tr>\n",
       "    <tr>\n",
       "      <th>34</th>\n",
       "      <td>LeineFran</td>\n",
       "      <td>\"I just want to say that there are still 34 st...</td>\n",
       "      <td>Alameda, CA</td>\n",
       "      <td>Place(_api=&lt;tweepy.api.API object at 0x0000021...</td>\n",
       "      <td>Alameda</td>\n",
       "    </tr>\n",
       "    <tr>\n",
       "      <th>35</th>\n",
       "      <td>jmgreen05</td>\n",
       "      <td>I know nothing about bts except #BBMAs https:/...</td>\n",
       "      <td>California</td>\n",
       "      <td>Place(_api=&lt;tweepy.api.API object at 0x0000021...</td>\n",
       "      <td>Oakdale</td>\n",
       "    </tr>\n",
       "    <tr>\n",
       "      <th>61</th>\n",
       "      <td>CassioHuerta</td>\n",
       "      <td>Billboard Music Awards: Here are the top 10 hi...</td>\n",
       "      <td>Fresno, CA</td>\n",
       "      <td>Place(_api=&lt;tweepy.api.API object at 0x0000021...</td>\n",
       "      <td>Fresno</td>\n",
       "    </tr>\n",
       "  </tbody>\n",
       "</table>\n",
       "</div>"
      ],
      "text/plain": [
       "              user                                               text  \\\n",
       "8    KindaCoolGreg  Jay-Z and XXXtentacion won #BBMAs for R&amp;B,...   \n",
       "24  OnAirWithVicki  My Top 5 #BBMAs OHMG! Moments: First, CONGRATS...   \n",
       "34       LeineFran  \"I just want to say that there are still 34 st...   \n",
       "35       jmgreen05  I know nothing about bts except #BBMAs https:/...   \n",
       "61    CassioHuerta  Billboard Music Awards: Here are the top 10 hi...   \n",
       "\n",
       "             location                                              place  \\\n",
       "8   $an Francisco, CA  Place(_api=<tweepy.api.API object at 0x0000021...   \n",
       "24     Sacramento, CA  Place(_api=<tweepy.api.API object at 0x0000021...   \n",
       "34        Alameda, CA  Place(_api=<tweepy.api.API object at 0x0000021...   \n",
       "35         California  Place(_api=<tweepy.api.API object at 0x0000021...   \n",
       "61         Fresno, CA  Place(_api=<tweepy.api.API object at 0x0000021...   \n",
       "\n",
       "       place_name  \n",
       "8   San Francisco  \n",
       "24     Sacramento  \n",
       "34        Alameda  \n",
       "35        Oakdale  \n",
       "61         Fresno  "
      ]
     },
     "execution_count": 203,
     "metadata": {},
     "output_type": "execute_result"
    }
   ],
   "source": [
    "geotags.head()"
   ]
  },
  {
   "cell_type": "markdown",
   "metadata": {},
   "source": [
    "#### Check place information and parse them into dataframe"
   ]
  },
  {
   "cell_type": "code",
   "execution_count": 204,
   "metadata": {
    "scrolled": false
   },
   "outputs": [
    {
     "data": {
      "text/plain": [
       "Place(_api=<tweepy.api.API object at 0x0000021B23DAB860>, id='5a110d312052166f', url='https://api.twitter.com/1.1/geo/id/5a110d312052166f.json', place_type='city', name='San Francisco', full_name='San Francisco, CA', country_code='US', country='United States', contained_within=[], bounding_box=BoundingBox(_api=<tweepy.api.API object at 0x0000021B23DAB860>, type='Polygon', coordinates=[[[-122.514926, 37.708075], [-122.357031, 37.708075], [-122.357031, 37.833238], [-122.514926, 37.833238]]]), attributes={})"
      ]
     },
     "execution_count": 204,
     "metadata": {},
     "output_type": "execute_result"
    }
   ],
   "source": [
    "geotags.place[min(geotags.index)]"
   ]
  },
  {
   "cell_type": "markdown",
   "metadata": {},
   "source": [
    "#### Print the bounding box of the geotag"
   ]
  },
  {
   "cell_type": "code",
   "execution_count": 205,
   "metadata": {
    "scrolled": true
   },
   "outputs": [
    {
     "data": {
      "text/plain": [
       "BoundingBox(_api=<tweepy.api.API object at 0x0000021B23DAB860>, type='Polygon', coordinates=[[[-122.514926, 37.708075], [-122.357031, 37.708075], [-122.357031, 37.833238], [-122.514926, 37.833238]]])"
      ]
     },
     "execution_count": 205,
     "metadata": {},
     "output_type": "execute_result"
    }
   ],
   "source": [
    "geotags.place[min(geotags.index)].bounding_box"
   ]
  },
  {
   "cell_type": "markdown",
   "metadata": {},
   "source": [
    "###### Print the coordinates of the bounding box"
   ]
  },
  {
   "cell_type": "code",
   "execution_count": 206,
   "metadata": {},
   "outputs": [
    {
     "data": {
      "text/plain": [
       "[[-122.514926, 37.708075],\n",
       " [-122.357031, 37.708075],\n",
       " [-122.357031, 37.833238],\n",
       " [-122.514926, 37.833238]]"
      ]
     },
     "execution_count": 206,
     "metadata": {},
     "output_type": "execute_result"
    }
   ],
   "source": [
    "geotags.place[min(geotags.index)].bounding_box.coordinates[0]"
   ]
  },
  {
   "cell_type": "markdown",
   "metadata": {},
   "source": [
    "#### Generate a column called bounding_box to restore bounding box information"
   ]
  },
  {
   "cell_type": "code",
   "execution_count": 207,
   "metadata": {},
   "outputs": [],
   "source": [
    "geotags['bounding_box'] = geotags.place.apply(lambda s:s.bounding_box.coordinates[0])"
   ]
  },
  {
   "cell_type": "code",
   "execution_count": 208,
   "metadata": {},
   "outputs": [
    {
     "data": {
      "text/html": [
       "<div>\n",
       "<style scoped>\n",
       "    .dataframe tbody tr th:only-of-type {\n",
       "        vertical-align: middle;\n",
       "    }\n",
       "\n",
       "    .dataframe tbody tr th {\n",
       "        vertical-align: top;\n",
       "    }\n",
       "\n",
       "    .dataframe thead th {\n",
       "        text-align: right;\n",
       "    }\n",
       "</style>\n",
       "<table border=\"1\" class=\"dataframe\">\n",
       "  <thead>\n",
       "    <tr style=\"text-align: right;\">\n",
       "      <th></th>\n",
       "      <th>user</th>\n",
       "      <th>text</th>\n",
       "      <th>location</th>\n",
       "      <th>place</th>\n",
       "      <th>place_name</th>\n",
       "      <th>bounding_box</th>\n",
       "    </tr>\n",
       "  </thead>\n",
       "  <tbody>\n",
       "    <tr>\n",
       "      <th>8</th>\n",
       "      <td>KindaCoolGreg</td>\n",
       "      <td>Jay-Z and XXXtentacion won #BBMAs for R&amp;amp;B,...</td>\n",
       "      <td>$an Francisco, CA</td>\n",
       "      <td>Place(_api=&lt;tweepy.api.API object at 0x0000021...</td>\n",
       "      <td>San Francisco</td>\n",
       "      <td>[[-122.514926, 37.708075], [-122.357031, 37.70...</td>\n",
       "    </tr>\n",
       "    <tr>\n",
       "      <th>24</th>\n",
       "      <td>OnAirWithVicki</td>\n",
       "      <td>My Top 5 #BBMAs OHMG! Moments: First, CONGRATS...</td>\n",
       "      <td>Sacramento, CA</td>\n",
       "      <td>Place(_api=&lt;tweepy.api.API object at 0x0000021...</td>\n",
       "      <td>Sacramento</td>\n",
       "      <td>[[-121.576613, 38.43792], [-121.362715, 38.437...</td>\n",
       "    </tr>\n",
       "    <tr>\n",
       "      <th>34</th>\n",
       "      <td>LeineFran</td>\n",
       "      <td>\"I just want to say that there are still 34 st...</td>\n",
       "      <td>Alameda, CA</td>\n",
       "      <td>Place(_api=&lt;tweepy.api.API object at 0x0000021...</td>\n",
       "      <td>Alameda</td>\n",
       "      <td>[[-122.332411, 37.720367], [-122.224562, 37.72...</td>\n",
       "    </tr>\n",
       "    <tr>\n",
       "      <th>35</th>\n",
       "      <td>jmgreen05</td>\n",
       "      <td>I know nothing about bts except #BBMAs https:/...</td>\n",
       "      <td>California</td>\n",
       "      <td>Place(_api=&lt;tweepy.api.API object at 0x0000021...</td>\n",
       "      <td>Oakdale</td>\n",
       "      <td>[[-120.905115, 37.741191], [-120.821891, 37.74...</td>\n",
       "    </tr>\n",
       "    <tr>\n",
       "      <th>61</th>\n",
       "      <td>CassioHuerta</td>\n",
       "      <td>Billboard Music Awards: Here are the top 10 hi...</td>\n",
       "      <td>Fresno, CA</td>\n",
       "      <td>Place(_api=&lt;tweepy.api.API object at 0x0000021...</td>\n",
       "      <td>Fresno</td>\n",
       "      <td>[[-119.93251, 36.648905], [-119.632419, 36.648...</td>\n",
       "    </tr>\n",
       "  </tbody>\n",
       "</table>\n",
       "</div>"
      ],
      "text/plain": [
       "              user                                               text  \\\n",
       "8    KindaCoolGreg  Jay-Z and XXXtentacion won #BBMAs for R&amp;B,...   \n",
       "24  OnAirWithVicki  My Top 5 #BBMAs OHMG! Moments: First, CONGRATS...   \n",
       "34       LeineFran  \"I just want to say that there are still 34 st...   \n",
       "35       jmgreen05  I know nothing about bts except #BBMAs https:/...   \n",
       "61    CassioHuerta  Billboard Music Awards: Here are the top 10 hi...   \n",
       "\n",
       "             location                                              place  \\\n",
       "8   $an Francisco, CA  Place(_api=<tweepy.api.API object at 0x0000021...   \n",
       "24     Sacramento, CA  Place(_api=<tweepy.api.API object at 0x0000021...   \n",
       "34        Alameda, CA  Place(_api=<tweepy.api.API object at 0x0000021...   \n",
       "35         California  Place(_api=<tweepy.api.API object at 0x0000021...   \n",
       "61         Fresno, CA  Place(_api=<tweepy.api.API object at 0x0000021...   \n",
       "\n",
       "       place_name                                       bounding_box  \n",
       "8   San Francisco  [[-122.514926, 37.708075], [-122.357031, 37.70...  \n",
       "24     Sacramento  [[-121.576613, 38.43792], [-121.362715, 38.437...  \n",
       "34        Alameda  [[-122.332411, 37.720367], [-122.224562, 37.72...  \n",
       "35        Oakdale  [[-120.905115, 37.741191], [-120.821891, 37.74...  \n",
       "61         Fresno  [[-119.93251, 36.648905], [-119.632419, 36.648...  "
      ]
     },
     "execution_count": 208,
     "metadata": {},
     "output_type": "execute_result"
    }
   ],
   "source": [
    "geotags.head()"
   ]
  },
  {
   "cell_type": "markdown",
   "metadata": {},
   "source": [
    "#### Parse the latitude and longitude hidden in the bounding box, finally check the dataframe"
   ]
  },
  {
   "cell_type": "markdown",
   "metadata": {},
   "source": [
    "Store the centroids in a column 'point'"
   ]
  },
  {
   "cell_type": "code",
   "execution_count": 209,
   "metadata": {},
   "outputs": [],
   "source": [
    "geotags['point']  = geotags['bounding_box'].apply(lambda s: [(s[0][1]+s[2][1])/2,(s[0][0]+s[2][0])/2])"
   ]
  },
  {
   "cell_type": "markdown",
   "metadata": {},
   "source": [
    "Store the latitude of the centroids in the column 'lat'"
   ]
  },
  {
   "cell_type": "code",
   "execution_count": 210,
   "metadata": {},
   "outputs": [],
   "source": [
    "geotags['lat']  = geotags['bounding_box'].apply(lambda s: (s[0][1]+s[2][1])/2)"
   ]
  },
  {
   "cell_type": "markdown",
   "metadata": {},
   "source": [
    "Store the longitude of the centroids in the column 'lon'"
   ]
  },
  {
   "cell_type": "code",
   "execution_count": 211,
   "metadata": {},
   "outputs": [],
   "source": [
    "geotags['lon']  = geotags['bounding_box'].apply(lambda s: (s[0][0]+s[2][0])/2)"
   ]
  },
  {
   "cell_type": "markdown",
   "metadata": {},
   "source": [
    "Print to see the dataframe again.\n",
    "\n",
    "You'll see the centroids, latitude, and longitude are added as columns in the dataframe.\n",
    "\n",
    "Note: the point column is an redundancy of the lat and lon columns. We create all these columns just for demonstration of mapping in the next step."
   ]
  },
  {
   "cell_type": "code",
   "execution_count": 212,
   "metadata": {},
   "outputs": [
    {
     "data": {
      "text/html": [
       "<div>\n",
       "<style scoped>\n",
       "    .dataframe tbody tr th:only-of-type {\n",
       "        vertical-align: middle;\n",
       "    }\n",
       "\n",
       "    .dataframe tbody tr th {\n",
       "        vertical-align: top;\n",
       "    }\n",
       "\n",
       "    .dataframe thead th {\n",
       "        text-align: right;\n",
       "    }\n",
       "</style>\n",
       "<table border=\"1\" class=\"dataframe\">\n",
       "  <thead>\n",
       "    <tr style=\"text-align: right;\">\n",
       "      <th></th>\n",
       "      <th>user</th>\n",
       "      <th>text</th>\n",
       "      <th>location</th>\n",
       "      <th>place</th>\n",
       "      <th>place_name</th>\n",
       "      <th>bounding_box</th>\n",
       "      <th>point</th>\n",
       "      <th>lat</th>\n",
       "      <th>lon</th>\n",
       "    </tr>\n",
       "  </thead>\n",
       "  <tbody>\n",
       "    <tr>\n",
       "      <th>8</th>\n",
       "      <td>KindaCoolGreg</td>\n",
       "      <td>Jay-Z and XXXtentacion won #BBMAs for R&amp;amp;B,...</td>\n",
       "      <td>$an Francisco, CA</td>\n",
       "      <td>Place(_api=&lt;tweepy.api.API object at 0x0000021...</td>\n",
       "      <td>San Francisco</td>\n",
       "      <td>[[-122.514926, 37.708075], [-122.357031, 37.70...</td>\n",
       "      <td>[37.7706565, -122.4359785]</td>\n",
       "      <td>37.770657</td>\n",
       "      <td>-122.435979</td>\n",
       "    </tr>\n",
       "    <tr>\n",
       "      <th>24</th>\n",
       "      <td>OnAirWithVicki</td>\n",
       "      <td>My Top 5 #BBMAs OHMG! Moments: First, CONGRATS...</td>\n",
       "      <td>Sacramento, CA</td>\n",
       "      <td>Place(_api=&lt;tweepy.api.API object at 0x0000021...</td>\n",
       "      <td>Sacramento</td>\n",
       "      <td>[[-121.576613, 38.43792], [-121.362715, 38.437...</td>\n",
       "      <td>[38.5617218, -121.469664]</td>\n",
       "      <td>38.561722</td>\n",
       "      <td>-121.469664</td>\n",
       "    </tr>\n",
       "    <tr>\n",
       "      <th>34</th>\n",
       "      <td>LeineFran</td>\n",
       "      <td>\"I just want to say that there are still 34 st...</td>\n",
       "      <td>Alameda, CA</td>\n",
       "      <td>Place(_api=&lt;tweepy.api.API object at 0x0000021...</td>\n",
       "      <td>Alameda</td>\n",
       "      <td>[[-122.332411, 37.720367], [-122.224562, 37.72...</td>\n",
       "      <td>[37.758798, -122.2784865]</td>\n",
       "      <td>37.758798</td>\n",
       "      <td>-122.278486</td>\n",
       "    </tr>\n",
       "    <tr>\n",
       "      <th>35</th>\n",
       "      <td>jmgreen05</td>\n",
       "      <td>I know nothing about bts except #BBMAs https:/...</td>\n",
       "      <td>California</td>\n",
       "      <td>Place(_api=&lt;tweepy.api.API object at 0x0000021...</td>\n",
       "      <td>Oakdale</td>\n",
       "      <td>[[-120.905115, 37.741191], [-120.821891, 37.74...</td>\n",
       "      <td>[37.7624945, -120.863503]</td>\n",
       "      <td>37.762495</td>\n",
       "      <td>-120.863503</td>\n",
       "    </tr>\n",
       "    <tr>\n",
       "      <th>61</th>\n",
       "      <td>CassioHuerta</td>\n",
       "      <td>Billboard Music Awards: Here are the top 10 hi...</td>\n",
       "      <td>Fresno, CA</td>\n",
       "      <td>Place(_api=&lt;tweepy.api.API object at 0x0000021...</td>\n",
       "      <td>Fresno</td>\n",
       "      <td>[[-119.93251, 36.648905], [-119.632419, 36.648...</td>\n",
       "      <td>[36.786041999999995, -119.7824645]</td>\n",
       "      <td>36.786042</td>\n",
       "      <td>-119.782465</td>\n",
       "    </tr>\n",
       "  </tbody>\n",
       "</table>\n",
       "</div>"
      ],
      "text/plain": [
       "              user                                               text  \\\n",
       "8    KindaCoolGreg  Jay-Z and XXXtentacion won #BBMAs for R&amp;B,...   \n",
       "24  OnAirWithVicki  My Top 5 #BBMAs OHMG! Moments: First, CONGRATS...   \n",
       "34       LeineFran  \"I just want to say that there are still 34 st...   \n",
       "35       jmgreen05  I know nothing about bts except #BBMAs https:/...   \n",
       "61    CassioHuerta  Billboard Music Awards: Here are the top 10 hi...   \n",
       "\n",
       "             location                                              place  \\\n",
       "8   $an Francisco, CA  Place(_api=<tweepy.api.API object at 0x0000021...   \n",
       "24     Sacramento, CA  Place(_api=<tweepy.api.API object at 0x0000021...   \n",
       "34        Alameda, CA  Place(_api=<tweepy.api.API object at 0x0000021...   \n",
       "35         California  Place(_api=<tweepy.api.API object at 0x0000021...   \n",
       "61         Fresno, CA  Place(_api=<tweepy.api.API object at 0x0000021...   \n",
       "\n",
       "       place_name                                       bounding_box  \\\n",
       "8   San Francisco  [[-122.514926, 37.708075], [-122.357031, 37.70...   \n",
       "24     Sacramento  [[-121.576613, 38.43792], [-121.362715, 38.437...   \n",
       "34        Alameda  [[-122.332411, 37.720367], [-122.224562, 37.72...   \n",
       "35        Oakdale  [[-120.905115, 37.741191], [-120.821891, 37.74...   \n",
       "61         Fresno  [[-119.93251, 36.648905], [-119.632419, 36.648...   \n",
       "\n",
       "                                 point        lat         lon  \n",
       "8           [37.7706565, -122.4359785]  37.770657 -122.435979  \n",
       "24           [38.5617218, -121.469664]  38.561722 -121.469664  \n",
       "34           [37.758798, -122.2784865]  37.758798 -122.278486  \n",
       "35           [37.7624945, -120.863503]  37.762495 -120.863503  \n",
       "61  [36.786041999999995, -119.7824645]  36.786042 -119.782465  "
      ]
     },
     "execution_count": 212,
     "metadata": {},
     "output_type": "execute_result"
    }
   ],
   "source": [
    "geotags.head()"
   ]
  },
  {
   "cell_type": "markdown",
   "metadata": {},
   "source": [
    "---"
   ]
  },
  {
   "cell_type": "markdown",
   "metadata": {},
   "source": [
    "## 4. Spatial visualization using folium package"
   ]
  },
  {
   "cell_type": "markdown",
   "metadata": {},
   "source": [
    "Import the folium package to create an interactive map."
   ]
  },
  {
   "cell_type": "code",
   "execution_count": 213,
   "metadata": {},
   "outputs": [],
   "source": [
    "import folium"
   ]
  },
  {
   "cell_type": "markdown",
   "metadata": {},
   "source": [
    "Create a basemap."
   ]
  },
  {
   "cell_type": "code",
   "execution_count": 214,
   "metadata": {},
   "outputs": [],
   "source": [
    "#oahu = folium.Map(location = [21.473,-157.9868],zoom_start = 10)\n",
    "maptweet = folium.Map()"
   ]
  },
  {
   "cell_type": "markdown",
   "metadata": {},
   "source": [
    "Add the tweets into the basemap"
   ]
  },
  {
   "cell_type": "code",
   "execution_count": 215,
   "metadata": {
    "scrolled": true
   },
   "outputs": [],
   "source": [
    "for i, row in geotags.iterrows():\n",
    "    folium.Marker(row.point,popup = row.text).add_to(maptweet)"
   ]
  },
  {
   "cell_type": "markdown",
   "metadata": {},
   "source": [
    "Zoom closer into the tweets"
   ]
  },
  {
   "cell_type": "code",
   "execution_count": 216,
   "metadata": {},
   "outputs": [],
   "source": [
    "maptweet.fit_bounds([[min(geotags.lat),min(geotags.lon)],[max(geotags.lat),max(geotags.lon)]])"
   ]
  },
  {
   "cell_type": "code",
   "execution_count": 217,
   "metadata": {},
   "outputs": [
    {
     "data": {
      "text/html": [
       "<div style=\"width:100%;\"><div style=\"position:relative;width:100%;height:0;padding-bottom:60%;\"><iframe src=\"data:text/html;charset=utf-8;base64,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\" style=\"position:absolute;width:100%;height:100%;left:0;top:0;border:none !important;\" allowfullscreen webkitallowfullscreen mozallowfullscreen></iframe></div></div>"
      ],
      "text/plain": [
       "<folium.folium.Map at 0x21b27ab65f8>"
      ]
     },
     "metadata": {},
     "output_type": "display_data"
    }
   ],
   "source": [
    "display(maptweet)"
   ]
  }
 ],
 "metadata": {
  "kernelspec": {
   "display_name": "Python 3",
   "language": "python",
   "name": "python3"
  },
  "language_info": {
   "codemirror_mode": {
    "name": "ipython",
    "version": 3
   },
   "file_extension": ".py",
   "mimetype": "text/x-python",
   "name": "python",
   "nbconvert_exporter": "python",
   "pygments_lexer": "ipython3",
   "version": "3.7.1"
  }
 },
 "nbformat": 4,
 "nbformat_minor": 2
}
